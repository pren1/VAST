{
  "nbformat": 4,
  "nbformat_minor": 0,
  "metadata": {
    "colab": {
      "name": "VAST-add_new_data_quickly.ipynb",
      "provenance": [],
      "collapsed_sections": [],
      "authorship_tag": "ABX9TyPxIOS/pTbaxjwpBXUfrEgV",
      "include_colab_link": true
    },
    "kernelspec": {
      "name": "python3",
      "display_name": "Python 3"
    }
  },
  "cells": [
    {
      "cell_type": "markdown",
      "metadata": {
        "id": "view-in-github",
        "colab_type": "text"
      },
      "source": [
        "<a href=\"https://colab.research.google.com/github/pren1/VAST/blob/master/VAST_add_new_data_quickly.ipynb\" target=\"_parent\"><img src=\"https://colab.research.google.com/assets/colab-badge.svg\" alt=\"Open In Colab\"/></a>"
      ]
    },
    {
      "cell_type": "code",
      "metadata": {
        "id": "n_GW2fgilMRB",
        "colab_type": "code",
        "colab": {
          "base_uri": "https://localhost:8080/",
          "height": 199
        },
        "outputId": "c4238a06-9a85-43d3-f205-dcaec1a9e43f"
      },
      "source": [
        "!rm -rf VAST/\n",
        "!git clone https://github.com/pren1/VAST.git\n",
        "!pip3 install soundfile"
      ],
      "execution_count": 1,
      "outputs": [
        {
          "output_type": "stream",
          "text": [
            "Cloning into 'VAST'...\n",
            "remote: Enumerating objects: 112, done.\u001b[K\n",
            "remote: Counting objects: 100% (112/112), done.\u001b[K\n",
            "remote: Compressing objects: 100% (83/83), done.\u001b[K\n",
            "remote: Total 112 (delta 49), reused 59 (delta 21), pack-reused 0\u001b[K\n",
            "Receiving objects: 100% (112/112), 44.20 MiB | 9.91 MiB/s, done.\n",
            "Resolving deltas: 100% (49/49), done.\n",
            "Requirement already satisfied: soundfile in /usr/local/lib/python3.6/dist-packages (0.10.3.post1)\n",
            "Requirement already satisfied: cffi>=1.0 in /usr/local/lib/python3.6/dist-packages (from soundfile) (1.14.0)\n",
            "Requirement already satisfied: pycparser in /usr/local/lib/python3.6/dist-packages (from cffi>=1.0->soundfile) (2.20)\n"
          ],
          "name": "stdout"
        }
      ]
    },
    {
      "cell_type": "code",
      "metadata": {
        "id": "VasyWFUalVu-",
        "colab_type": "code",
        "colab": {}
      },
      "source": [
        "from VAST.util import *\n",
        "import pdb\n",
        "import pprint\n",
        "from tqdm import tqdm\n",
        "import numpy as np\n",
        "import IPython\n",
        "import soundfile as sf\n",
        "import matplotlib.pyplot as plt\n",
        "import librosa"
      ],
      "execution_count": 0,
      "outputs": []
    },
    {
      "cell_type": "code",
      "metadata": {
        "id": "9cqZoYFVlXuZ",
        "colab_type": "code",
        "colab": {
          "base_uri": "https://localhost:8080/",
          "height": 35
        },
        "outputId": "e0e9151f-f8de-48ae-b292-18da6e664ae6"
      },
      "source": [
        "from google.colab import drive\n",
        "drive.mount('/content/gdrive')"
      ],
      "execution_count": 3,
      "outputs": [
        {
          "output_type": "stream",
          "text": [
            "Drive already mounted at /content/gdrive; to attempt to forcibly remount, call drive.mount(\"/content/gdrive\", force_remount=True).\n"
          ],
          "name": "stdout"
        }
      ]
    },
    {
      "cell_type": "code",
      "metadata": {
        "id": "E1mLeT5alda2",
        "colab_type": "code",
        "colab": {}
      },
      "source": [
        "'set this!'\n",
        "new_vtb_name = '黑下'\n",
        "target_label = 1\n",
        "\n",
        "'should keep these consistent'\n",
        "sub_size = 512\n",
        "target_path = f'gdrive/My Drive/VAST/{new_vtb_name}/'\n",
        "save_path = f\"gdrive/My Drive/Free_RAM_VAST/{new_vtb_name}/\""
      ],
      "execution_count": 0,
      "outputs": []
    },
    {
      "cell_type": "code",
      "metadata": {
        "id": "JOeDMAbJldnX",
        "colab_type": "code",
        "colab": {}
      },
      "source": [
        "def clip_one_second_data(seq_data, samplerate, resulted_rate = 16000):\n",
        "  if len(seq_data) < samplerate:\n",
        "    print(\"Insufficient length\")\n",
        "    return []\n",
        "  'First, let us down sample'\n",
        "  y_16k = librosa.resample(seq_data, samplerate, resulted_rate)\n",
        "  clipped_res = []\n",
        "  'Then, clip it'\n",
        "  for index in range(0, len(y_16k), resulted_rate):\n",
        "    'make sure you get the 1 seconds clipped data'\n",
        "    current_clip = y_16k[index:index + resulted_rate]\n",
        "    if len(current_clip) == resulted_rate:\n",
        "      clipped_res.append(current_clip)\n",
        "  return clipped_res\n",
        "\n",
        "def save_split_small_batch(target_data, target_label, save_path, Batch_size = 128):\n",
        "  'duplacated function can be found in VTB_classifier_playground ~'\n",
        "  'save data, each npy file contains Batch_size seq of data'\n",
        "  save_index = 0\n",
        "  create_folders(save_path)\n",
        "  for index in tqdm(range(0, len(target_label), Batch_size)):\n",
        "    data_clip = target_data[index:index + Batch_size]\n",
        "    label_clip = target_label[index:index + Batch_size]\n",
        "    if len(data_clip) == Batch_size:\n",
        "      'save data'\n",
        "      save_data_array_as_npy(data_clip, save_path + f'data_{save_index}')\n",
        "      save_data_array_as_npy(label_clip, save_path + f'label_{save_index}')\n",
        "      save_index += 1"
      ],
      "execution_count": 0,
      "outputs": []
    },
    {
      "cell_type": "code",
      "metadata": {
        "id": "KQenJ81tmJVW",
        "colab_type": "code",
        "colab": {
          "base_uri": "https://localhost:8080/",
          "height": 54
        },
        "outputId": "fb76de0b-ae0e-4b66-ca32-4f2509c7fbbc"
      },
      "source": [
        "data_res = []\n",
        "label_res = []\n",
        "\n",
        "first_level_walk = [target_path + f.path.split('/')[-1] for f in os.scandir(target_path) if f.is_dir()]\n",
        "for eval_target_path in first_level_walk:\n",
        "  'Deal with each subpath, expect 16 in total~'\n",
        "  path_list = files_in_target_folder(eval_target_path, '.flac')\n",
        "  path_list = [eval_target_path + \"/\" + x for x in path_list]\n",
        "  for single_data_path in tqdm(path_list):\n",
        "    data, samplerate = sf.read(single_data_path)\n",
        "    clipped_data = clip_one_second_data(data, samplerate, 8000)\n",
        "    corresponding_label = [target_label] * len(clipped_data)\n",
        "    if len(clipped_data) > 0:\n",
        "      data_res.append(clipped_data)\n",
        "      label_res.extend(corresponding_label)\n",
        "'in the end, get data_res vstack'\n",
        "data_res = np.vstack(data_res)\n",
        "assert len(data_res) == len(label_res)"
      ],
      "execution_count": 6,
      "outputs": [
        {
          "output_type": "stream",
          "text": [
            "100%|██████████| 698/698 [00:40<00:00, 17.13it/s]\n",
            "100%|██████████| 681/681 [01:08<00:00,  9.94it/s]\n"
          ],
          "name": "stderr"
        }
      ]
    },
    {
      "cell_type": "code",
      "metadata": {
        "id": "V7x8mD0yopfG",
        "colab_type": "code",
        "colab": {
          "base_uri": "https://localhost:8080/",
          "height": 35
        },
        "outputId": "2da7e8e8-7eae-40db-f6a5-6600db8c71b8"
      },
      "source": [
        "save_split_small_batch(data_res, label_res, save_path, sub_size)"
      ],
      "execution_count": 9,
      "outputs": [
        {
          "output_type": "stream",
          "text": [
            "100%|██████████| 6/6 [00:00<00:00, 10.88it/s]\n"
          ],
          "name": "stderr"
        }
      ]
    },
    {
      "cell_type": "code",
      "metadata": {
        "id": "OyZ4kvePrJFo",
        "colab_type": "code",
        "colab": {
          "base_uri": "https://localhost:8080/",
          "height": 35
        },
        "outputId": "4d0e1967-8478-4eff-a091-4019103aaadf"
      },
      "source": [
        ""
      ],
      "execution_count": 11,
      "outputs": [
        {
          "output_type": "execute_result",
          "data": {
            "text/plain": [
              "1"
            ]
          },
          "metadata": {
            "tags": []
          },
          "execution_count": 11
        }
      ]
    }
  ]
}