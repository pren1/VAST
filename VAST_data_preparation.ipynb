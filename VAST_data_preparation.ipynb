{
  "nbformat": 4,
  "nbformat_minor": 0,
  "metadata": {
    "colab": {
      "name": "VAST-data preparation",
      "provenance": [],
      "collapsed_sections": [],
      "toc_visible": true,
      "machine_shape": "hm",
      "authorship_tag": "ABX9TyPcImy0LL1HJ0sEcvEcusmN",
      "include_colab_link": true
    },
    "kernelspec": {
      "name": "python3",
      "display_name": "Python 3"
    },
    "accelerator": "GPU"
  },
  "cells": [
    {
      "cell_type": "markdown",
      "metadata": {
        "id": "view-in-github",
        "colab_type": "text"
      },
      "source": [
        "<a href=\"https://colab.research.google.com/github/pren1/VAST/blob/master/VAST_data_preparation.ipynb\" target=\"_parent\"><img src=\"https://colab.research.google.com/assets/colab-badge.svg\" alt=\"Open In Colab\"/></a>"
      ]
    },
    {
      "cell_type": "markdown",
      "metadata": {
        "id": "HsKw_qF8HS86",
        "colab_type": "text"
      },
      "source": [
        "# Code dependency"
      ]
    },
    {
      "cell_type": "code",
      "metadata": {
        "id": "CHL94potHSNP",
        "colab_type": "code",
        "colab": {
          "base_uri": "https://localhost:8080/",
          "height": 145
        },
        "outputId": "dbdd0731-23a1-4b34-bd7e-898bb3ff09b9"
      },
      "source": [
        "!rm -rf VAST/\n",
        "!git clone https://github.com/pren1/VAST.git"
      ],
      "execution_count": null,
      "outputs": [
        {
          "output_type": "stream",
          "text": [
            "Cloning into 'VAST'...\n",
            "remote: Enumerating objects: 171, done.\u001b[K\n",
            "remote: Counting objects: 100% (171/171), done.\u001b[K\n",
            "remote: Compressing objects: 100% (137/137), done.\u001b[K\n",
            "remote: Total 171 (delta 81), reused 70 (delta 26), pack-reused 0\u001b[K\n",
            "Receiving objects: 100% (171/171), 53.56 MiB | 10.69 MiB/s, done.\n",
            "Resolving deltas: 100% (81/81), done.\n"
          ],
          "name": "stdout"
        }
      ]
    },
    {
      "cell_type": "code",
      "metadata": {
        "id": "jgy-UetoHiCd",
        "colab_type": "code",
        "colab": {}
      },
      "source": [
        "from VAST.util import *"
      ],
      "execution_count": null,
      "outputs": []
    },
    {
      "cell_type": "markdown",
      "metadata": {
        "id": "739QZSCbTxfI",
        "colab_type": "text"
      },
      "source": [
        "# Data download"
      ]
    },
    {
      "cell_type": "code",
      "metadata": {
        "id": "ae0eSxu-TvoC",
        "colab_type": "code",
        "colab": {}
      },
      "source": [
        "!rm -rf audio/\n",
        "!mkdir audio\n",
        "!cd audio/"
      ],
      "execution_count": null,
      "outputs": []
    },
    {
      "cell_type": "code",
      "metadata": {
        "id": "p8lqHwwQU0Ce",
        "colab_type": "code",
        "colab": {
          "base_uri": "https://localhost:8080/",
          "height": 128
        },
        "outputId": "b6cfb474-ddba-42de-e7c1-edaa9be98c7b"
      },
      "source": [
        "!pip3 install --upgrade youtube-dl"
      ],
      "execution_count": null,
      "outputs": [
        {
          "output_type": "stream",
          "text": [
            "Collecting youtube-dl\n",
            "\u001b[?25l  Downloading https://files.pythonhosted.org/packages/59/5b/45dc2845a6203949cc70b16398e78c376178e90c757a5778caf0789ebd50/youtube_dl-2020.6.6-py2.py3-none-any.whl (1.8MB)\n",
            "\u001b[K     |████████████████████████████████| 1.8MB 2.8MB/s \n",
            "\u001b[?25hInstalling collected packages: youtube-dl\n",
            "Successfully installed youtube-dl-2020.6.6\n"
          ],
          "name": "stdout"
        }
      ]
    },
    {
      "cell_type": "code",
      "metadata": {
        "id": "mPjCdZGKYvyL",
        "colab_type": "code",
        "colab": {
          "base_uri": "https://localhost:8080/",
          "height": 1000
        },
        "outputId": "b49fbaaf-3432-4a5f-f28e-6850b1159d2e"
      },
      "source": [
        "# name_dict = return_download_dict('VAST/file_name_dict.npy').tolist()\n",
        "name_dict = {}\n",
        "# name_dict['夏色まつり'] = np.asarray([\"https://www.youtube.com/watch?v=qGn0dVLJwSc\",\n",
        "# \"https://www.youtube.com/watch?v=tbUIYEQyNlI\",\n",
        "# \"https://www.youtube.com/watch?v=svP9Pd3FhsM\",\n",
        "# \"https://www.youtube.com/watch?v=Dq_0R3FTC7Q\"])\n",
        "\n",
        "# name_dict['白上フブキ'] = np.asarray([\"https://www.youtube.com/watch?v=gy7Iy8eLKNs\", \n",
        "#                                  \"https://www.youtube.com/watch?v=iT8J2Ao-4ps\"])\n",
        "\n",
        "name_dict['白上フブキ'] = np.asarray([\"https://www.youtube.com/watch?v=IzWTwUYgqL4\",\n",
        "\"https://www.youtube.com/watch?v=WUzaKhyp8_o\",\n",
        "\"https://www.youtube.com/watch?v=Ev-ZABOVAgo\",\n",
        "\"https://www.youtube.com/watch?v=axGEC-eqHy4\",\n",
        "\"https://www.youtube.com/watch?v=XPSsQvrDLYs\",\n",
        "\"https://www.youtube.com/watch?v=JNZGAq7k8IE\",\n",
        "\"https://www.youtube.com/watch?v=OFBTzKhiIV8\",\n",
        "\"https://www.youtube.com/watch?v=4bXrXnCfojQ\",\n",
        "\"https://www.youtube.com/watch?v=wWHJIp44QQA\"])\n",
        "\n",
        "for single_key in name_dict:\n",
        "  create_folders(f\"/content/audio/{single_key}/\")\n",
        "  file_list = name_dict[single_key]\n",
        "  for single_file in file_list:\n",
        "    print(single_file)\n",
        "    !youtube-dl --extract-audio -o \"/content/audio/{single_key}/%(title)s.%(ext)s\" $single_file"
      ],
      "execution_count": null,
      "outputs": [
        {
          "output_type": "stream",
          "text": [
            "https://www.youtube.com/watch?v=IzWTwUYgqL4\n",
            "[youtube] IzWTwUYgqL4: Downloading webpage\n",
            "[download] Destination: /content/audio/白上フブキ/狐と征く深夜廻【#３】.webm\n",
            "\u001b[K[download] 100% of 53.83MiB in 00:03\n",
            "[ffmpeg] Destination: /content/audio/白上フブキ/狐と征く深夜廻【#３】.opus\n",
            "Deleting original file /content/audio/白上フブキ/狐と征く深夜廻【#３】.webm (pass -k to keep)\n",
            "https://www.youtube.com/watch?v=WUzaKhyp8_o\n",
            "[youtube] WUzaKhyp8_o: Downloading webpage\n",
            "[download] Destination: /content/audio/白上フブキ/狐と征く深夜廻【#２】.webm\n",
            "\u001b[K[download] 100% of 62.28MiB in 00:02\n",
            "[ffmpeg] Destination: /content/audio/白上フブキ/狐と征く深夜廻【#２】.opus\n",
            "Deleting original file /content/audio/白上フブキ/狐と征く深夜廻【#２】.webm (pass -k to keep)\n",
            "https://www.youtube.com/watch?v=Ev-ZABOVAgo\n",
            "[youtube] Ev-ZABOVAgo: Downloading webpage\n",
            "[download] Destination: /content/audio/白上フブキ/狐と征く深夜廻【#1】.webm\n",
            "\u001b[K[download] 100% of 53.11MiB in 00:02\n",
            "[ffmpeg] Destination: /content/audio/白上フブキ/狐と征く深夜廻【#1】.opus\n",
            "Deleting original file /content/audio/白上フブキ/狐と征く深夜廻【#1】.webm (pass -k to keep)\n",
            "https://www.youtube.com/watch?v=axGEC-eqHy4\n",
            "[youtube] axGEC-eqHy4: Downloading webpage\n",
            "[download] Destination: /content/audio/白上フブキ/【wows】アルペジオコラボ復刻‼リスナー参加対戦.webm\n",
            "\u001b[K[download] 100% of 51.92MiB in 00:03\n",
            "[ffmpeg] Destination: /content/audio/白上フブキ/【wows】アルペジオコラボ復刻‼リスナー参加対戦.opus\n",
            "Deleting original file /content/audio/白上フブキ/【wows】アルペジオコラボ復刻‼リスナー参加対戦.webm (pass -k to keep)\n",
            "https://www.youtube.com/watch?v=XPSsQvrDLYs\n",
            "[youtube] XPSsQvrDLYs: Downloading webpage\n",
            "[download] Destination: /content/audio/白上フブキ/【朝活】アカペラ雑談_まったり放送。.webm\n",
            "\u001b[K[download] 100% of 29.16MiB in 00:01\n",
            "[ffmpeg] Destination: /content/audio/白上フブキ/【朝活】アカペラ雑談_まったり放送。.opus\n",
            "Deleting original file /content/audio/白上フブキ/【朝活】アカペラ雑談_まったり放送。.webm (pass -k to keep)\n",
            "https://www.youtube.com/watch?v=JNZGAq7k8IE\n",
            "[youtube] JNZGAq7k8IE: Downloading webpage\n",
            "[download] Destination: /content/audio/白上フブキ/MinecraftエンドラRTAに挑むもの＆豊洲感想とか。.webm\n",
            "\u001b[K[download] 100% of 205.79MiB in 00:21\n",
            "[ffmpeg] Destination: /content/audio/白上フブキ/MinecraftエンドラRTAに挑むもの＆豊洲感想とか。.opus\n",
            "Deleting original file /content/audio/白上フブキ/MinecraftエンドラRTAに挑むもの＆豊洲感想とか。.webm (pass -k to keep)\n",
            "https://www.youtube.com/watch?v=OFBTzKhiIV8\n",
            "[youtube] OFBTzKhiIV8: Downloading webpage\n",
            "[download] Destination: /content/audio/白上フブキ/新年早々血が足りない狐が輸血しに行くDBD.webm\n",
            "\u001b[K[download] 100% of 83.88MiB in 00:08\n",
            "[ffmpeg] Destination: /content/audio/白上フブキ/新年早々血が足りない狐が輸血しに行くDBD.opus\n",
            "Deleting original file /content/audio/白上フブキ/新年早々血が足りない狐が輸血しに行くDBD.webm (pass -k to keep)\n",
            "https://www.youtube.com/watch?v=4bXrXnCfojQ\n",
            "[youtube] 4bXrXnCfojQ: Downloading webpage\n",
            "[youtube] 4bXrXnCfojQ: Downloading js player 16a691a1\n",
            "[youtube] 4bXrXnCfojQ: Downloading js player 16a691a1\n",
            "[download] Destination: /content/audio/白上フブキ/■■新春カラオケ老人会†古の宴じゃい■■.m4a\n",
            "\u001b[K[download] 100% of 114.53MiB in 00:06\n",
            "[ffmpeg] Correcting container in \"/content/audio/白上フブキ/■■新春カラオケ老人会†古の宴じゃい■■.m4a\"\n",
            "[ffmpeg] Post-process file /content/audio/白上フブキ/■■新春カラオケ老人会†古の宴じゃい■■.m4a exists, skipping\n",
            "https://www.youtube.com/watch?v=wWHJIp44QQA\n",
            "[youtube] wWHJIp44QQA: Downloading webpage\n",
            "[download] Destination: /content/audio/白上フブキ/月末定期台詞放送すこん部忘年会じゃい！【#フブキch】.webm\n",
            "\u001b[K[download] 100% of 88.97MiB in 00:03\n",
            "[ffmpeg] Destination: /content/audio/白上フブキ/月末定期台詞放送すこん部忘年会じゃい！【#フブキch】.opus\n",
            "Deleting original file /content/audio/白上フブキ/月末定期台詞放送すこん部忘年会じゃい！【#フブキch】.webm (pass -k to keep)\n"
          ],
          "name": "stdout"
        }
      ]
    },
    {
      "cell_type": "code",
      "metadata": {
        "id": "fp0aH6iGdR-I",
        "colab_type": "code",
        "colab": {
          "base_uri": "https://localhost:8080/",
          "height": 181
        },
        "outputId": "5c809fd4-e1ea-4539-a072-904ee0c535cd"
      },
      "source": [
        "name_dict"
      ],
      "execution_count": null,
      "outputs": [
        {
          "output_type": "execute_result",
          "data": {
            "text/plain": [
              "{'白上フブキ': array(['https://www.youtube.com/watch?v=IzWTwUYgqL4',\n",
              "        'https://www.youtube.com/watch?v=WUzaKhyp8_o',\n",
              "        'https://www.youtube.com/watch?v=Ev-ZABOVAgo',\n",
              "        'https://www.youtube.com/watch?v=axGEC-eqHy4',\n",
              "        'https://www.youtube.com/watch?v=XPSsQvrDLYs',\n",
              "        'https://www.youtube.com/watch?v=JNZGAq7k8IE',\n",
              "        'https://www.youtube.com/watch?v=OFBTzKhiIV8',\n",
              "        'https://www.youtube.com/watch?v=4bXrXnCfojQ',\n",
              "        'https://www.youtube.com/watch?v=wWHJIp44QQA'], dtype='<U43')}"
            ]
          },
          "metadata": {
            "tags": []
          },
          "execution_count": 6
        }
      ]
    },
    {
      "cell_type": "code",
      "metadata": {
        "id": "1GAX0koTTMWK",
        "colab_type": "code",
        "colab": {}
      },
      "source": [
        "# name_dict = {}\n",
        "# name_dict['黑下'] = array([\"/content/audio/{target_test}/%(title)s.%(ext)s\""
      ],
      "execution_count": null,
      "outputs": []
    },
    {
      "cell_type": "code",
      "metadata": {
        "id": "eoomDlOhStqs",
        "colab_type": "code",
        "colab": {}
      },
      "source": [
        "# !youtube-dl --extract-audio -o \"/content/audio/{target_test}/%(title)s.%(ext)s\" https://www.youtube.com/watch?v=vQovSUibDl4"
      ],
      "execution_count": null,
      "outputs": []
    },
    {
      "cell_type": "code",
      "metadata": {
        "id": "L7q3bfU3UYNf",
        "colab_type": "code",
        "colab": {}
      },
      "source": [
        "# !youtube-dl --extract-audio https://www.youtube.com/playlist?list=PLKo9UD3uKyyH4q5OA67W0G1q_6gxLEegq -o \"/content/audio/%(title)s.%(ext)s\""
      ],
      "execution_count": null,
      "outputs": []
    },
    {
      "cell_type": "code",
      "metadata": {
        "id": "zG8Eh9IcXG39",
        "colab_type": "code",
        "colab": {
          "base_uri": "https://localhost:8080/",
          "height": 163
        },
        "outputId": "d9f63889-f327-4101-b9ce-dc75fd139252"
      },
      "source": [
        "import pprint\n",
        "'rebuild dict according to the files in folder'\n",
        "rebuilt_dict = {}\n",
        "for single_key in name_dict:\n",
        "  rebuilt_dict[single_key] = files_in_target_folder(f'/content/audio/{single_key}/') \n",
        "# total_files = files_in_target_folder('/content/audio')\n",
        "pprint.pprint(rebuilt_dict)"
      ],
      "execution_count": null,
      "outputs": [
        {
          "output_type": "stream",
          "text": [
            "{'白上フブキ': ['MinecraftエンドラRTAに挑むもの＆豊洲感想とか。.opus',\n",
            "           '狐と征く深夜廻【#1】.opus',\n",
            "           '新年早々血が足りない狐が輸血しに行くDBD.opus',\n",
            "           '月末定期台詞放送すこん部忘年会じゃい！【#フブキch】.opus',\n",
            "           '狐と征く深夜廻【#３】.opus',\n",
            "           '狐と征く深夜廻【#２】.opus',\n",
            "           '【朝活】アカペラ雑談_まったり放送。.opus',\n",
            "           '【wows】アルペジオコラボ復刻‼リスナー参加対戦.opus']}\n"
          ],
          "name": "stdout"
        }
      ]
    },
    {
      "cell_type": "markdown",
      "metadata": {
        "id": "C59-Y3vLT0Sh",
        "colab_type": "text"
      },
      "source": [
        "# Spleeter"
      ]
    },
    {
      "cell_type": "code",
      "metadata": {
        "id": "_UtCdDPqOqT-",
        "colab_type": "code",
        "colab": {
          "base_uri": "https://localhost:8080/",
          "height": 1000
        },
        "outputId": "9516a824-0b9a-4e7c-bb05-6b88252476e3"
      },
      "source": [
        "!pip install spleeter-gpu\n",
        "# !pip install pyvad"
      ],
      "execution_count": null,
      "outputs": [
        {
          "output_type": "stream",
          "text": [
            "Collecting spleeter-gpu\n",
            "  Downloading https://files.pythonhosted.org/packages/32/ed/797d0f39e024e0b9159b6352f6d5114e3f250c1aa56f100fee98e764f6b2/spleeter-gpu-1.5.2.tar.gz\n",
            "Collecting ffmpeg-python\n",
            "  Downloading https://files.pythonhosted.org/packages/d7/0c/56be52741f75bad4dc6555991fabd2e07b432d333da82c11ad701123888a/ffmpeg_python-0.2.0-py3-none-any.whl\n",
            "Collecting norbert==0.2.1\n",
            "  Downloading https://files.pythonhosted.org/packages/22/85/1e4f09c84d28b5541a4a8eece320902c4d2fa264dfe51f779548396f0fea/norbert-0.2.1-py2.py3-none-any.whl\n",
            "Collecting pandas==0.25.1\n",
            "\u001b[?25l  Downloading https://files.pythonhosted.org/packages/73/9b/52e228545d14f14bb2a1622e225f38463c8726645165e1cb7dde95bfe6d4/pandas-0.25.1-cp36-cp36m-manylinux1_x86_64.whl (10.5MB)\n",
            "\u001b[K     |████████████████████████████████| 10.5MB 206kB/s \n",
            "\u001b[?25hRequirement already satisfied: requests in /usr/local/lib/python3.6/dist-packages (from spleeter-gpu) (2.23.0)\n",
            "Requirement already satisfied: setuptools>=41.0.0 in /usr/local/lib/python3.6/dist-packages (from spleeter-gpu) (47.1.1)\n",
            "Collecting librosa==0.7.2\n",
            "\u001b[?25l  Downloading https://files.pythonhosted.org/packages/77/b5/1817862d64a7c231afd15419d8418ae1f000742cac275e85c74b219cbccb/librosa-0.7.2.tar.gz (1.6MB)\n",
            "\u001b[K     |████████████████████████████████| 1.6MB 58.1MB/s \n",
            "\u001b[?25hCollecting tensorflow-gpu==1.15.2\n",
            "\u001b[?25l  Downloading https://files.pythonhosted.org/packages/32/ca/58e40e5077fa2a92004f398d705a288e958434f123938f4ce75ffe25b64b/tensorflow_gpu-1.15.2-cp36-cp36m-manylinux2010_x86_64.whl (411.0MB)\n",
            "\u001b[K     |████████████████████████████████| 411.0MB 35kB/s \n",
            "\u001b[?25hCollecting importlib_resources\n",
            "  Downloading https://files.pythonhosted.org/packages/b6/03/1865fdd49ec9a938f9f84b255d3d37863df9fbd18b48c1c3f761040cbf13/importlib_resources-2.0.0-py2.py3-none-any.whl\n",
            "Requirement already satisfied: future in /usr/local/lib/python3.6/dist-packages (from ffmpeg-python->spleeter-gpu) (0.16.0)\n",
            "Requirement already satisfied: scipy in /usr/local/lib/python3.6/dist-packages (from norbert==0.2.1->spleeter-gpu) (1.4.1)\n",
            "Requirement already satisfied: python-dateutil>=2.6.1 in /usr/local/lib/python3.6/dist-packages (from pandas==0.25.1->spleeter-gpu) (2.8.1)\n",
            "Requirement already satisfied: pytz>=2017.2 in /usr/local/lib/python3.6/dist-packages (from pandas==0.25.1->spleeter-gpu) (2018.9)\n",
            "Requirement already satisfied: numpy>=1.13.3 in /usr/local/lib/python3.6/dist-packages (from pandas==0.25.1->spleeter-gpu) (1.18.5)\n",
            "Requirement already satisfied: urllib3!=1.25.0,!=1.25.1,<1.26,>=1.21.1 in /usr/local/lib/python3.6/dist-packages (from requests->spleeter-gpu) (1.24.3)\n",
            "Requirement already satisfied: certifi>=2017.4.17 in /usr/local/lib/python3.6/dist-packages (from requests->spleeter-gpu) (2020.4.5.1)\n",
            "Requirement already satisfied: idna<3,>=2.5 in /usr/local/lib/python3.6/dist-packages (from requests->spleeter-gpu) (2.9)\n",
            "Requirement already satisfied: chardet<4,>=3.0.2 in /usr/local/lib/python3.6/dist-packages (from requests->spleeter-gpu) (3.0.4)\n",
            "Requirement already satisfied: audioread>=2.0.0 in /usr/local/lib/python3.6/dist-packages (from librosa==0.7.2->spleeter-gpu) (2.1.8)\n",
            "Requirement already satisfied: scikit-learn!=0.19.0,>=0.14.0 in /usr/local/lib/python3.6/dist-packages (from librosa==0.7.2->spleeter-gpu) (0.22.2.post1)\n",
            "Requirement already satisfied: joblib>=0.12 in /usr/local/lib/python3.6/dist-packages (from librosa==0.7.2->spleeter-gpu) (0.15.1)\n",
            "Requirement already satisfied: decorator>=3.0.0 in /usr/local/lib/python3.6/dist-packages (from librosa==0.7.2->spleeter-gpu) (4.4.2)\n",
            "Requirement already satisfied: six>=1.3 in /usr/local/lib/python3.6/dist-packages (from librosa==0.7.2->spleeter-gpu) (1.12.0)\n",
            "Requirement already satisfied: resampy>=0.2.2 in /usr/local/lib/python3.6/dist-packages (from librosa==0.7.2->spleeter-gpu) (0.2.2)\n",
            "Requirement already satisfied: numba>=0.43.0 in /usr/local/lib/python3.6/dist-packages (from librosa==0.7.2->spleeter-gpu) (0.48.0)\n",
            "Collecting soundfile>=0.9.0\n",
            "  Downloading https://files.pythonhosted.org/packages/eb/f2/3cbbbf3b96fb9fa91582c438b574cff3f45b29c772f94c400e2c99ef5db9/SoundFile-0.10.3.post1-py2.py3-none-any.whl\n",
            "Requirement already satisfied: wrapt>=1.11.1 in /usr/local/lib/python3.6/dist-packages (from tensorflow-gpu==1.15.2->spleeter-gpu) (1.12.1)\n",
            "Requirement already satisfied: keras-applications>=1.0.8 in /usr/local/lib/python3.6/dist-packages (from tensorflow-gpu==1.15.2->spleeter-gpu) (1.0.8)\n",
            "Collecting tensorboard<1.16.0,>=1.15.0\n",
            "\u001b[?25l  Downloading https://files.pythonhosted.org/packages/1e/e9/d3d747a97f7188f48aa5eda486907f3b345cd409f0a0850468ba867db246/tensorboard-1.15.0-py3-none-any.whl (3.8MB)\n",
            "\u001b[K     |████████████████████████████████| 3.8MB 73.0MB/s \n",
            "\u001b[?25hRequirement already satisfied: opt-einsum>=2.3.2 in /usr/local/lib/python3.6/dist-packages (from tensorflow-gpu==1.15.2->spleeter-gpu) (3.2.1)\n",
            "Requirement already satisfied: keras-preprocessing>=1.0.5 in /usr/local/lib/python3.6/dist-packages (from tensorflow-gpu==1.15.2->spleeter-gpu) (1.1.2)\n",
            "Requirement already satisfied: wheel>=0.26; python_version >= \"3\" in /usr/local/lib/python3.6/dist-packages (from tensorflow-gpu==1.15.2->spleeter-gpu) (0.34.2)\n",
            "Requirement already satisfied: google-pasta>=0.1.6 in /usr/local/lib/python3.6/dist-packages (from tensorflow-gpu==1.15.2->spleeter-gpu) (0.2.0)\n",
            "Collecting tensorflow-estimator==1.15.1\n",
            "\u001b[?25l  Downloading https://files.pythonhosted.org/packages/de/62/2ee9cd74c9fa2fa450877847ba560b260f5d0fb70ee0595203082dafcc9d/tensorflow_estimator-1.15.1-py2.py3-none-any.whl (503kB)\n",
            "\u001b[K     |████████████████████████████████| 512kB 61.9MB/s \n",
            "\u001b[?25hRequirement already satisfied: termcolor>=1.1.0 in /usr/local/lib/python3.6/dist-packages (from tensorflow-gpu==1.15.2->spleeter-gpu) (1.1.0)\n",
            "Requirement already satisfied: protobuf>=3.6.1 in /usr/local/lib/python3.6/dist-packages (from tensorflow-gpu==1.15.2->spleeter-gpu) (3.10.0)\n",
            "Requirement already satisfied: absl-py>=0.7.0 in /usr/local/lib/python3.6/dist-packages (from tensorflow-gpu==1.15.2->spleeter-gpu) (0.9.0)\n",
            "Collecting gast==0.2.2\n",
            "  Downloading https://files.pythonhosted.org/packages/4e/35/11749bf99b2d4e3cceb4d55ca22590b0d7c2c62b9de38ac4a4a7f4687421/gast-0.2.2.tar.gz\n",
            "Requirement already satisfied: grpcio>=1.8.6 in /usr/local/lib/python3.6/dist-packages (from tensorflow-gpu==1.15.2->spleeter-gpu) (1.29.0)\n",
            "Requirement already satisfied: astor>=0.6.0 in /usr/local/lib/python3.6/dist-packages (from tensorflow-gpu==1.15.2->spleeter-gpu) (0.8.1)\n",
            "Requirement already satisfied: zipp>=0.4; python_version < \"3.8\" in /usr/local/lib/python3.6/dist-packages (from importlib_resources->spleeter-gpu) (3.1.0)\n",
            "Requirement already satisfied: importlib-metadata; python_version < \"3.8\" in /usr/local/lib/python3.6/dist-packages (from importlib_resources->spleeter-gpu) (1.6.0)\n",
            "Requirement already satisfied: llvmlite<0.32.0,>=0.31.0dev0 in /usr/local/lib/python3.6/dist-packages (from numba>=0.43.0->librosa==0.7.2->spleeter-gpu) (0.31.0)\n",
            "Requirement already satisfied: cffi>=1.0 in /usr/local/lib/python3.6/dist-packages (from soundfile>=0.9.0->librosa==0.7.2->spleeter-gpu) (1.14.0)\n",
            "Requirement already satisfied: h5py in /usr/local/lib/python3.6/dist-packages (from keras-applications>=1.0.8->tensorflow-gpu==1.15.2->spleeter-gpu) (2.10.0)\n",
            "Requirement already satisfied: markdown>=2.6.8 in /usr/local/lib/python3.6/dist-packages (from tensorboard<1.16.0,>=1.15.0->tensorflow-gpu==1.15.2->spleeter-gpu) (3.2.2)\n",
            "Requirement already satisfied: werkzeug>=0.11.15 in /usr/local/lib/python3.6/dist-packages (from tensorboard<1.16.0,>=1.15.0->tensorflow-gpu==1.15.2->spleeter-gpu) (1.0.1)\n",
            "Requirement already satisfied: pycparser in /usr/local/lib/python3.6/dist-packages (from cffi>=1.0->soundfile>=0.9.0->librosa==0.7.2->spleeter-gpu) (2.20)\n",
            "Building wheels for collected packages: spleeter-gpu, librosa, gast\n",
            "  Building wheel for spleeter-gpu (setup.py) ... \u001b[?25l\u001b[?25hdone\n",
            "  Created wheel for spleeter-gpu: filename=spleeter_gpu-1.5.2-cp36-none-any.whl size=48868 sha256=434fc5787ea4207194b061f51cf2cf64ea0935e35db1ecb12f4ad50ec479d19e\n",
            "  Stored in directory: /root/.cache/pip/wheels/ef/a7/4f/5acd25dd3a751dba8f5f473ba89496c64382dee84e78ba7208\n",
            "  Building wheel for librosa (setup.py) ... \u001b[?25l\u001b[?25hdone\n",
            "  Created wheel for librosa: filename=librosa-0.7.2-cp36-none-any.whl size=1612885 sha256=da36e1592915f13135aa4edf4a4d3b88adc902ca60b1bd9a8de271bc06dd221d\n",
            "  Stored in directory: /root/.cache/pip/wheels/4c/6e/d7/bb93911540d2d1e44d690a1561871e5b6af82b69e80938abef\n",
            "  Building wheel for gast (setup.py) ... \u001b[?25l\u001b[?25hdone\n",
            "  Created wheel for gast: filename=gast-0.2.2-cp36-none-any.whl size=7540 sha256=e2dff812326f1edf5912a593bb4ed8b51c36acea26488e2836069c022773c452\n",
            "  Stored in directory: /root/.cache/pip/wheels/5c/2e/7e/a1d4d4fcebe6c381f378ce7743a3ced3699feb89bcfbdadadd\n",
            "Successfully built spleeter-gpu librosa gast\n",
            "\u001b[31mERROR: tensorflow 2.2.0 has requirement gast==0.3.3, but you'll have gast 0.2.2 which is incompatible.\u001b[0m\n",
            "\u001b[31mERROR: tensorflow 2.2.0 has requirement tensorboard<2.3.0,>=2.2.0, but you'll have tensorboard 1.15.0 which is incompatible.\u001b[0m\n",
            "\u001b[31mERROR: tensorflow 2.2.0 has requirement tensorflow-estimator<2.3.0,>=2.2.0, but you'll have tensorflow-estimator 1.15.1 which is incompatible.\u001b[0m\n",
            "\u001b[31mERROR: tensorflow-probability 0.10.0 has requirement gast>=0.3.2, but you'll have gast 0.2.2 which is incompatible.\u001b[0m\n",
            "\u001b[31mERROR: google-colab 1.0.0 has requirement pandas~=1.0.0; python_version >= \"3.0\", but you'll have pandas 0.25.1 which is incompatible.\u001b[0m\n",
            "Installing collected packages: ffmpeg-python, norbert, pandas, soundfile, librosa, tensorboard, tensorflow-estimator, gast, tensorflow-gpu, importlib-resources, spleeter-gpu\n",
            "  Found existing installation: pandas 1.0.4\n",
            "    Uninstalling pandas-1.0.4:\n",
            "      Successfully uninstalled pandas-1.0.4\n",
            "  Found existing installation: librosa 0.6.3\n",
            "    Uninstalling librosa-0.6.3:\n",
            "      Successfully uninstalled librosa-0.6.3\n",
            "  Found existing installation: tensorboard 2.2.2\n",
            "    Uninstalling tensorboard-2.2.2:\n",
            "      Successfully uninstalled tensorboard-2.2.2\n",
            "  Found existing installation: tensorflow-estimator 2.2.0\n",
            "    Uninstalling tensorflow-estimator-2.2.0:\n",
            "      Successfully uninstalled tensorflow-estimator-2.2.0\n",
            "  Found existing installation: gast 0.3.3\n",
            "    Uninstalling gast-0.3.3:\n",
            "      Successfully uninstalled gast-0.3.3\n",
            "Successfully installed ffmpeg-python-0.2.0 gast-0.2.2 importlib-resources-2.0.0 librosa-0.7.2 norbert-0.2.1 pandas-0.25.1 soundfile-0.10.3.post1 spleeter-gpu-1.5.2 tensorboard-1.15.0 tensorflow-estimator-1.15.1 tensorflow-gpu-1.15.2\n"
          ],
          "name": "stdout"
        },
        {
          "output_type": "display_data",
          "data": {
            "application/vnd.colab-display-data+json": {
              "pip_warning": {
                "packages": [
                  "pandas"
                ]
              }
            }
          },
          "metadata": {
            "tags": []
          }
        }
      ]
    },
    {
      "cell_type": "markdown",
      "metadata": {
        "id": "X7jbbwicRsoW",
        "colab_type": "text"
      },
      "source": [
        "## import packages"
      ]
    },
    {
      "cell_type": "code",
      "metadata": {
        "id": "QCBAA3ZyO0tW",
        "colab_type": "code",
        "colab": {}
      },
      "source": [
        "from spleeter.separator import Separator\n",
        "from IPython.display import Audio\n",
        "import IPython\n",
        "import numpy as np\n",
        "# Use audio loader explicitly for loading audio waveform:\n",
        "from spleeter.audio.adapter import get_default_audio_adapter\n",
        "import pdb\n",
        "from tqdm import tqdm\n",
        "import matplotlib.pyplot as plt\n",
        "import numpy as np\n",
        "# from pyvad import vad, split\n",
        "import soundfile as sf\n",
        "import librosa"
      ],
      "execution_count": null,
      "outputs": []
    },
    {
      "cell_type": "markdown",
      "metadata": {
        "id": "OEWxMN0ZRyEJ",
        "colab_type": "text"
      },
      "source": [
        "## Set parameters"
      ]
    },
    {
      "cell_type": "code",
      "metadata": {
        "id": "taAHw8p0PeiG",
        "colab_type": "code",
        "colab": {}
      },
      "source": [
        "sample_rate = 48000\n",
        "window_size = 48000 * 1\n",
        "padding_length = 48000\n",
        "\n",
        "target_rate = 8000\n",
        "'five minutes'\n",
        "stride_size = window_size*60*5\n",
        "\n",
        "# post_process_clip_threshold = 0.007\n",
        "# std_window_size = 960"
      ],
      "execution_count": null,
      "outputs": []
    },
    {
      "cell_type": "markdown",
      "metadata": {
        "id": "oEbizR0UZuny",
        "colab_type": "text"
      },
      "source": [
        "## initialize spleeter"
      ]
    },
    {
      "cell_type": "code",
      "metadata": {
        "id": "5LcXM7ytZu5t",
        "colab_type": "code",
        "colab": {}
      },
      "source": [
        "separator = Separator('spleeter:2stems')\n",
        "audio_loader = get_default_audio_adapter()"
      ],
      "execution_count": null,
      "outputs": []
    },
    {
      "cell_type": "markdown",
      "metadata": {
        "id": "bu9Gt2c5gMEk",
        "colab_type": "text"
      },
      "source": [
        "## Split BGM and vocals"
      ]
    },
    {
      "cell_type": "code",
      "metadata": {
        "id": "MD0hv_3dVwr7",
        "colab_type": "code",
        "colab": {}
      },
      "source": [
        "def generate_vocal_res(start_point, end_point, waveform):\n",
        "  vocal_res = []\n",
        "  # accompan_res = []\n",
        "  for split_waveform_index in tqdm(range(start_point, end_point, window_size)):\n",
        "    # Perform the separation :\n",
        "    clipped_waveform = waveform[split_waveform_index:min(split_waveform_index + window_size, len(waveform))]\n",
        "    'add padding zeros to each waveform'\n",
        "    zero_padded_waveform = np.zeros((clipped_waveform.shape[0] + padding_length*2, clipped_waveform.shape[1]))\n",
        "    zero_padded_waveform[padding_length:-padding_length] = clipped_waveform\n",
        "    'we may also use the extra data'\n",
        "    if split_waveform_index-padding_length >= 0 and split_waveform_index + window_size + padding_length < len(waveform):\n",
        "      zero_padded_waveform[:padding_length] = waveform[split_waveform_index-padding_length:split_waveform_index]\n",
        "      zero_padded_waveform[-padding_length:] = waveform[split_waveform_index + window_size: split_waveform_index + window_size + padding_length]\n",
        "\n",
        "    'sperate using spleeter'\n",
        "    prediction = separator.separate(zero_padded_waveform)\n",
        "    'clip padded part, throw them away'\n",
        "    prediction['vocals'] = prediction['vocals'][padding_length: -padding_length]\n",
        "    # prediction['accompaniment'] = prediction['accompaniment'][padding_length: -padding_length]\n",
        "    'merge results together'\n",
        "    vocal_res.extend(prediction['vocals'])\n",
        "    # accompan_res.extend(prediction['accompaniment'])\n",
        "  return vocal_res"
      ],
      "execution_count": null,
      "outputs": []
    },
    {
      "cell_type": "code",
      "metadata": {
        "id": "GadePLqE1oAN",
        "colab_type": "code",
        "colab": {}
      },
      "source": [
        "'Turn to Mono'\n",
        "def save_vocal_res(vocal_res, output_audio_path, split_index):\n",
        "  vocal_res = stereoToMono(np.asarray(vocal_res))\n",
        "  vocal_res = np.clip(vocal_res, -1, 1)\n",
        "  # IPython.display.display(IPython.display.Audio(np.asarray(vocal_res).T, rate=48000))\n",
        "  y_16k = librosa.resample(vocal_res, sample_rate, target_rate)\n",
        "  target_file_name = f\"{output_audio_path}/S{split_index}\"\n",
        "  save_data_array_as_npy(y_16k, target_file_name)\n",
        "\n",
        "  # five_seconds_stride = target_rate * 5\n",
        "  # for info_index in range(len(y_16k)//five_seconds_stride):\n",
        "  #   splitted_voice = y_16k[info_index * five_seconds_stride: (info_index + 1) * five_seconds_stride]\n",
        "  #   assert len(splitted_voice) == five_seconds_stride\n",
        "  #   # IPython.display.display(IPython.display.Audio(np.asarray(splitted_voice).T, rate=target_rate))\n",
        "  #   target_file_name = f\"{output_audio_path}/S{split_index}_I{info_index}.flac\"\n",
        "  #   sf.write(target_file_name, np.asarray(splitted_voice), target_rate)\n",
        "\n",
        "  # pdb.set_trace()\n",
        "\n",
        "  # mode_2 = vad(vocal_res, fs=sample_rate, fs_vad=sample_rate, hop_length=10, vad_mode=1)\n",
        "  # _dh, dur_info = interval_to_info(mode_2)\n",
        "\n",
        "  # for info_index, single_info in tqdm(enumerate(dur_info)):\n",
        "  #   if single_info[1] - single_info[0] > sample_rate:\n",
        "  #     splitted_voice = vocal_res[single_info[0]:single_info[1]]\n",
        "  #     target_file_name = f\"{output_audio_path}/S{split_index}_I{info_index}.flac\"\n",
        "  #     sf.write(target_file_name, np.asarray(splitted_voice), sample_rate)\n",
        "      \n",
        "  #     # std_array = rolling_window(splitted_voice, std_window_size)\n",
        "  #     # end_pass, end_clip_index = end_clip(std_array, threshold = post_process_clip_threshold)\n",
        "  #     # front_pass, front_clip_index = front_clip(std_array, threshold = post_process_clip_threshold)\n",
        "  #     # if end_pass and front_pass:\n",
        "  #     #   assert front_clip_index < len(splitted_voice) - end_clip_index, \"STD array incorrect\"\n",
        "  #     #   clipped_splitted_voice = splitted_voice[front_clip_index:~end_clip_index]\n",
        "        \n",
        "  #     #   if len(clipped_splitted_voice) > sample_rate:\n",
        "  #     #     'build file name'\n",
        "  #     #     target_file_name = f\"{output_audio_path}/S{split_index}_I{info_index}.flac\"\n",
        "  #     #     sf.write(target_file_name, np.asarray(clipped_splitted_voice), sample_rate)\n",
        "  #         # plt.plot(clipped_splitted_voice, color = 'orange', label='clipped_splitted_voice')\n",
        "  #         # plt.show()\n",
        "  #         # IPython.display.display(IPython.display.Audio(np.asarray(clipped_splitted_voice).T, rate=48000))\n",
        "  #         # pdb.set_trace()"
      ],
      "execution_count": null,
      "outputs": []
    },
    {
      "cell_type": "code",
      "metadata": {
        "id": "ShVrDe08WZf7",
        "colab_type": "code",
        "colab": {}
      },
      "source": [
        "def process_whole_seq_data(waveform, output_audio_path):\n",
        "  five_minutes_numbers = int(len(waveform)/(stride_size))\n",
        "  for i in range(1, five_minutes_numbers):\n",
        "    start_point = i * stride_size\n",
        "    end_point = (i + 1) * stride_size # Process 10 seconds data in total\n",
        "    vocal_res = generate_vocal_res(start_point, end_point, waveform)\n",
        "    save_vocal_res(vocal_res, output_audio_path, split_index = i)"
      ],
      "execution_count": null,
      "outputs": []
    },
    {
      "cell_type": "code",
      "metadata": {
        "id": "Hl3BptQ0iXQa",
        "colab_type": "code",
        "colab": {
          "base_uri": "https://localhost:8080/",
          "height": 128
        },
        "outputId": "40f4a710-3953-48aa-d611-85f4248d744e"
      },
      "source": [
        "from google.colab import drive\n",
        "drive.mount('/content/gdrive')"
      ],
      "execution_count": null,
      "outputs": [
        {
          "output_type": "stream",
          "text": [
            "Go to this URL in a browser: https://accounts.google.com/o/oauth2/auth?client_id=947318989803-6bn6qk8qdgf4n4g3pfee6491hc0brc4i.apps.googleusercontent.com&redirect_uri=urn%3aietf%3awg%3aoauth%3a2.0%3aoob&response_type=code&scope=email%20https%3a%2f%2fwww.googleapis.com%2fauth%2fdocs.test%20https%3a%2f%2fwww.googleapis.com%2fauth%2fdrive%20https%3a%2f%2fwww.googleapis.com%2fauth%2fdrive.photos.readonly%20https%3a%2f%2fwww.googleapis.com%2fauth%2fpeopleapi.readonly\n",
            "\n",
            "Enter your authorization code:\n",
            "··········\n",
            "Mounted at /content/gdrive\n"
          ],
          "name": "stdout"
        }
      ]
    },
    {
      "cell_type": "code",
      "metadata": {
        "id": "PQV-hAY3_IOU",
        "colab_type": "code",
        "colab": {
          "base_uri": "https://localhost:8080/",
          "height": 1000
        },
        "outputId": "432d867b-422a-457c-e3ca-b43ce29f783e"
      },
      "source": [
        "vtb_audio = \"gdrive/My Drive/3d_verdict/\"\n",
        "# !rm -rf vtb_audio/\n",
        "for vtb_name in rebuilt_dict:\n",
        "  create_folders(f\"{vtb_audio}/{vtb_name}\")\n",
        "  file_list = rebuilt_dict[vtb_name]\n",
        "  for name in file_list:\n",
        "    print(f\"processing: {name}\")\n",
        "    output_audio_path = f\"{vtb_audio}/{vtb_name}/{name}/\"\n",
        "    create_folders(output_audio_path)\n",
        "    input_audio_path = f'audio/{vtb_name}/{name}'\n",
        "    'load file'\n",
        "    waveform, _ = audio_loader.load(input_audio_path, sample_rate=sample_rate)\n",
        "    'process target file'\n",
        "    process_whole_seq_data(waveform, output_audio_path)"
      ],
      "execution_count": null,
      "outputs": [
        {
          "output_type": "stream",
          "text": [
            "processing: MinecraftエンドラRTAに挑むもの＆豊洲感想とか。.opus\n"
          ],
          "name": "stdout"
        },
        {
          "output_type": "stream",
          "text": [
            "100%|██████████| 300/300 [00:07<00:00, 42.30it/s]\n",
            "100%|██████████| 300/300 [00:07<00:00, 42.55it/s]\n",
            "100%|██████████| 300/300 [00:07<00:00, 42.63it/s]\n",
            "100%|██████████| 300/300 [00:07<00:00, 42.74it/s]\n",
            "100%|██████████| 300/300 [00:07<00:00, 42.58it/s]\n",
            "100%|██████████| 300/300 [00:07<00:00, 42.52it/s]\n",
            "100%|██████████| 300/300 [00:07<00:00, 42.75it/s]\n",
            "100%|██████████| 300/300 [00:07<00:00, 42.43it/s]\n",
            "100%|██████████| 300/300 [00:07<00:00, 42.71it/s]\n",
            "100%|██████████| 300/300 [00:07<00:00, 41.15it/s]\n",
            "100%|██████████| 300/300 [00:07<00:00, 42.74it/s]\n",
            "100%|██████████| 300/300 [00:07<00:00, 42.59it/s]\n",
            "100%|██████████| 300/300 [00:07<00:00, 42.72it/s]\n",
            "100%|██████████| 300/300 [00:07<00:00, 42.51it/s]\n",
            "100%|██████████| 300/300 [00:07<00:00, 42.78it/s]\n",
            "100%|██████████| 300/300 [00:07<00:00, 42.59it/s]\n",
            "100%|██████████| 300/300 [00:06<00:00, 42.88it/s]\n",
            "100%|██████████| 300/300 [00:07<00:00, 42.75it/s]\n",
            "100%|██████████| 300/300 [00:07<00:00, 42.75it/s]\n",
            "100%|██████████| 300/300 [00:07<00:00, 42.68it/s]\n",
            "100%|██████████| 300/300 [00:07<00:00, 42.84it/s]\n",
            "100%|██████████| 300/300 [00:07<00:00, 42.77it/s]\n",
            "100%|██████████| 300/300 [00:06<00:00, 43.21it/s]\n",
            "100%|██████████| 300/300 [00:07<00:00, 42.77it/s]\n",
            "100%|██████████| 300/300 [00:06<00:00, 42.90it/s]\n",
            "100%|██████████| 300/300 [00:07<00:00, 42.74it/s]\n",
            "100%|██████████| 300/300 [00:06<00:00, 42.89it/s]\n",
            "100%|██████████| 300/300 [00:07<00:00, 42.61it/s]\n",
            "100%|██████████| 300/300 [00:06<00:00, 42.96it/s]\n",
            "100%|██████████| 300/300 [00:07<00:00, 42.77it/s]\n",
            "100%|██████████| 300/300 [00:06<00:00, 42.96it/s]\n",
            "100%|██████████| 300/300 [00:07<00:00, 42.85it/s]\n",
            "100%|██████████| 300/300 [00:06<00:00, 43.07it/s]\n",
            "100%|██████████| 300/300 [00:07<00:00, 42.77it/s]\n",
            "100%|██████████| 300/300 [00:07<00:00, 41.50it/s]\n",
            "100%|██████████| 300/300 [00:07<00:00, 42.65it/s]\n",
            "100%|██████████| 300/300 [00:06<00:00, 42.94it/s]\n",
            "100%|██████████| 300/300 [00:06<00:00, 42.89it/s]\n",
            "100%|██████████| 300/300 [00:07<00:00, 42.83it/s]\n",
            "100%|██████████| 300/300 [00:06<00:00, 42.89it/s]\n",
            "100%|██████████| 300/300 [00:07<00:00, 42.40it/s]\n",
            "100%|██████████| 300/300 [00:06<00:00, 42.96it/s]\n",
            "100%|██████████| 300/300 [00:06<00:00, 42.95it/s]\n"
          ],
          "name": "stderr"
        },
        {
          "output_type": "stream",
          "text": [
            "processing: 狐と征く深夜廻【#1】.opus\n"
          ],
          "name": "stdout"
        },
        {
          "output_type": "stream",
          "text": [
            "100%|██████████| 300/300 [00:07<00:00, 42.75it/s]\n",
            "100%|██████████| 300/300 [00:07<00:00, 42.55it/s]\n",
            "100%|██████████| 300/300 [00:07<00:00, 42.78it/s]\n",
            "100%|██████████| 300/300 [00:07<00:00, 42.81it/s]\n",
            "100%|██████████| 300/300 [00:06<00:00, 42.95it/s]\n",
            "100%|██████████| 300/300 [00:07<00:00, 42.59it/s]\n",
            "100%|██████████| 300/300 [00:06<00:00, 43.01it/s]\n",
            "100%|██████████| 300/300 [00:07<00:00, 42.64it/s]\n",
            "100%|██████████| 300/300 [00:06<00:00, 42.91it/s]\n",
            "100%|██████████| 300/300 [00:07<00:00, 42.83it/s]\n",
            "100%|██████████| 300/300 [00:07<00:00, 42.09it/s]\n",
            "100%|██████████| 300/300 [00:07<00:00, 42.79it/s]\n"
          ],
          "name": "stderr"
        },
        {
          "output_type": "stream",
          "text": [
            "processing: 新年早々血が足りない狐が輸血しに行くDBD.opus\n"
          ],
          "name": "stdout"
        },
        {
          "output_type": "stream",
          "text": [
            "100%|██████████| 300/300 [00:07<00:00, 42.45it/s]\n",
            "100%|██████████| 300/300 [00:07<00:00, 42.71it/s]\n",
            "100%|██████████| 300/300 [00:07<00:00, 41.21it/s]\n",
            "100%|██████████| 300/300 [00:06<00:00, 42.87it/s]\n",
            "100%|██████████| 300/300 [00:07<00:00, 42.82it/s]\n",
            "100%|██████████| 300/300 [00:07<00:00, 42.85it/s]\n",
            "100%|██████████| 300/300 [00:06<00:00, 42.88it/s]\n",
            "100%|██████████| 300/300 [00:07<00:00, 42.75it/s]\n",
            "100%|██████████| 300/300 [00:07<00:00, 42.85it/s]\n",
            "100%|██████████| 300/300 [00:07<00:00, 42.70it/s]\n",
            "100%|██████████| 300/300 [00:07<00:00, 42.71it/s]\n",
            "100%|██████████| 300/300 [00:07<00:00, 42.78it/s]\n",
            "100%|██████████| 300/300 [00:07<00:00, 42.83it/s]\n",
            "100%|██████████| 300/300 [00:07<00:00, 42.80it/s]\n",
            "100%|██████████| 300/300 [00:06<00:00, 42.89it/s]\n",
            "100%|██████████| 300/300 [00:07<00:00, 42.71it/s]\n",
            "100%|██████████| 300/300 [00:07<00:00, 42.74it/s]\n",
            "100%|██████████| 300/300 [00:07<00:00, 42.74it/s]\n"
          ],
          "name": "stderr"
        },
        {
          "output_type": "stream",
          "text": [
            "processing: 月末定期台詞放送すこん部忘年会じゃい！【#フブキch】.opus\n"
          ],
          "name": "stdout"
        },
        {
          "output_type": "stream",
          "text": [
            "100%|██████████| 300/300 [00:07<00:00, 42.58it/s]\n",
            "100%|██████████| 300/300 [00:07<00:00, 42.46it/s]\n",
            "100%|██████████| 300/300 [00:07<00:00, 42.80it/s]\n",
            "100%|██████████| 300/300 [00:07<00:00, 42.45it/s]\n",
            "100%|██████████| 300/300 [00:07<00:00, 42.84it/s]\n",
            "100%|██████████| 300/300 [00:07<00:00, 42.61it/s]\n",
            "100%|██████████| 300/300 [00:07<00:00, 42.84it/s]\n",
            "100%|██████████| 300/300 [00:07<00:00, 42.51it/s]\n",
            "100%|██████████| 300/300 [00:07<00:00, 41.36it/s]\n",
            "100%|██████████| 300/300 [00:07<00:00, 42.47it/s]\n",
            "100%|██████████| 300/300 [00:07<00:00, 42.66it/s]\n",
            "100%|██████████| 300/300 [00:07<00:00, 42.60it/s]\n",
            "100%|██████████| 300/300 [00:07<00:00, 42.73it/s]\n",
            "100%|██████████| 300/300 [00:07<00:00, 42.56it/s]\n",
            "100%|██████████| 300/300 [00:07<00:00, 42.73it/s]\n",
            "100%|██████████| 300/300 [00:07<00:00, 42.56it/s]\n",
            "100%|██████████| 300/300 [00:06<00:00, 42.86it/s]\n",
            "100%|██████████| 300/300 [00:07<00:00, 42.40it/s]\n",
            "100%|██████████| 300/300 [00:06<00:00, 42.86it/s]\n"
          ],
          "name": "stderr"
        },
        {
          "output_type": "stream",
          "text": [
            "processing: 狐と征く深夜廻【#３】.opus\n"
          ],
          "name": "stdout"
        },
        {
          "output_type": "stream",
          "text": [
            "100%|██████████| 300/300 [00:07<00:00, 42.27it/s]\n",
            "100%|██████████| 300/300 [00:07<00:00, 41.58it/s]\n",
            "100%|██████████| 300/300 [00:07<00:00, 42.70it/s]\n",
            "100%|██████████| 300/300 [00:07<00:00, 42.66it/s]\n",
            "100%|██████████| 300/300 [00:07<00:00, 42.62it/s]\n",
            "100%|██████████| 300/300 [00:07<00:00, 42.43it/s]\n",
            "100%|██████████| 300/300 [00:07<00:00, 42.81it/s]\n",
            "100%|██████████| 300/300 [00:07<00:00, 42.62it/s]\n",
            "100%|██████████| 300/300 [00:06<00:00, 42.87it/s]\n",
            "100%|██████████| 300/300 [00:07<00:00, 41.97it/s]\n",
            "100%|██████████| 300/300 [00:07<00:00, 42.39it/s]\n",
            "100%|██████████| 300/300 [00:07<00:00, 42.27it/s]\n"
          ],
          "name": "stderr"
        },
        {
          "output_type": "stream",
          "text": [
            "processing: 狐と征く深夜廻【#２】.opus\n"
          ],
          "name": "stdout"
        },
        {
          "output_type": "stream",
          "text": [
            "100%|██████████| 300/300 [00:07<00:00, 42.54it/s]\n",
            "100%|██████████| 300/300 [00:07<00:00, 41.09it/s]\n",
            "100%|██████████| 300/300 [00:07<00:00, 42.82it/s]\n",
            "100%|██████████| 300/300 [00:07<00:00, 42.81it/s]\n",
            "100%|██████████| 300/300 [00:06<00:00, 42.90it/s]\n",
            "100%|██████████| 300/300 [00:07<00:00, 42.69it/s]\n",
            "100%|██████████| 300/300 [00:07<00:00, 42.85it/s]\n",
            "100%|██████████| 300/300 [00:07<00:00, 42.77it/s]\n",
            "100%|██████████| 300/300 [00:07<00:00, 42.84it/s]\n",
            "100%|██████████| 300/300 [00:07<00:00, 42.73it/s]\n",
            "100%|██████████| 300/300 [00:07<00:00, 42.71it/s]\n",
            "100%|██████████| 300/300 [00:07<00:00, 42.70it/s]\n",
            "100%|██████████| 300/300 [00:06<00:00, 42.94it/s]\n",
            "100%|██████████| 300/300 [00:07<00:00, 42.82it/s]\n"
          ],
          "name": "stderr"
        },
        {
          "output_type": "stream",
          "text": [
            "processing: 【朝活】アカペラ雑談_まったり放送。.opus\n"
          ],
          "name": "stdout"
        },
        {
          "output_type": "stream",
          "text": [
            "100%|██████████| 300/300 [00:07<00:00, 42.01it/s]\n",
            "100%|██████████| 300/300 [00:07<00:00, 42.66it/s]\n",
            "100%|██████████| 300/300 [00:06<00:00, 42.94it/s]\n",
            "100%|██████████| 300/300 [00:06<00:00, 42.91it/s]\n",
            "100%|██████████| 300/300 [00:06<00:00, 43.00it/s]\n"
          ],
          "name": "stderr"
        },
        {
          "output_type": "stream",
          "text": [
            "processing: 【wows】アルペジオコラボ復刻‼リスナー参加対戦.opus\n"
          ],
          "name": "stdout"
        },
        {
          "output_type": "stream",
          "text": [
            "100%|██████████| 300/300 [00:07<00:00, 42.57it/s]\n",
            "100%|██████████| 300/300 [00:07<00:00, 42.64it/s]\n",
            "100%|██████████| 300/300 [00:07<00:00, 42.70it/s]\n",
            "100%|██████████| 300/300 [00:07<00:00, 42.74it/s]\n",
            "100%|██████████| 300/300 [00:07<00:00, 42.75it/s]\n",
            "100%|██████████| 300/300 [00:07<00:00, 41.30it/s]\n",
            "100%|██████████| 300/300 [00:07<00:00, 42.81it/s]\n",
            "100%|██████████| 300/300 [00:07<00:00, 42.73it/s]\n",
            "100%|██████████| 300/300 [00:07<00:00, 42.80it/s]\n",
            "100%|██████████| 300/300 [00:07<00:00, 42.69it/s]\n"
          ],
          "name": "stderr"
        }
      ]
    }
  ]
}