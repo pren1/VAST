{
  "nbformat": 4,
  "nbformat_minor": 0,
  "metadata": {
    "colab": {
      "name": "VTB_classifier_playground",
      "provenance": [],
      "collapsed_sections": [
        "NNJ1OZeRjE6f",
        "c-A_lSAmjwEb",
        "YOxkH3ocmxzx",
        "t0WMmtSd8vkd",
        "yaDEtc1r3wl0"
      ],
      "machine_shape": "hm",
      "authorship_tag": "ABX9TyPnB2fvGbboaE/VMb1VB9Ao",
      "include_colab_link": true
    },
    "kernelspec": {
      "name": "python3",
      "display_name": "Python 3"
    },
    "accelerator": "GPU"
  },
  "cells": [
    {
      "cell_type": "markdown",
      "metadata": {
        "id": "view-in-github",
        "colab_type": "text"
      },
      "source": [
        "<a href=\"https://colab.research.google.com/github/pren1/VAST/blob/master/VTB_classifier_playground.ipynb\" target=\"_parent\"><img src=\"https://colab.research.google.com/assets/colab-badge.svg\" alt=\"Open In Colab\"/></a>"
      ]
    },
    {
      "cell_type": "code",
      "metadata": {
        "id": "d9A4Tbg0gN8r",
        "colab_type": "code",
        "outputId": "b0e256ef-7f74-4497-b890-5b2c921cf42d",
        "colab": {
          "base_uri": "https://localhost:8080/",
          "height": 454
        }
      },
      "source": [
        "!rm -rf VAST/\n",
        "!git clone https://github.com/pren1/VAST.git\n",
        "!pip3 install soundfile\n",
        "!pip3 install librosa"
      ],
      "execution_count": 1,
      "outputs": [
        {
          "output_type": "stream",
          "text": [
            "Cloning into 'VAST'...\n",
            "remote: Enumerating objects: 91, done.\u001b[K\n",
            "remote: Counting objects: 100% (91/91), done.\u001b[K\n",
            "remote: Compressing objects: 100% (65/65), done.\u001b[K\n",
            "remote: Total 91 (delta 39), reused 51 (delta 18), pack-reused 0\u001b[K\n",
            "Unpacking objects: 100% (91/91), done.\n",
            "Collecting soundfile\n",
            "  Downloading https://files.pythonhosted.org/packages/eb/f2/3cbbbf3b96fb9fa91582c438b574cff3f45b29c772f94c400e2c99ef5db9/SoundFile-0.10.3.post1-py2.py3-none-any.whl\n",
            "Requirement already satisfied: cffi>=1.0 in /usr/local/lib/python3.6/dist-packages (from soundfile) (1.14.0)\n",
            "Requirement already satisfied: pycparser in /usr/local/lib/python3.6/dist-packages (from cffi>=1.0->soundfile) (2.20)\n",
            "Installing collected packages: soundfile\n",
            "Successfully installed soundfile-0.10.3.post1\n",
            "Requirement already satisfied: librosa in /usr/local/lib/python3.6/dist-packages (0.6.3)\n",
            "Requirement already satisfied: joblib>=0.12 in /usr/local/lib/python3.6/dist-packages (from librosa) (0.14.1)\n",
            "Requirement already satisfied: resampy>=0.2.0 in /usr/local/lib/python3.6/dist-packages (from librosa) (0.2.2)\n",
            "Requirement already satisfied: scikit-learn!=0.19.0,>=0.14.0 in /usr/local/lib/python3.6/dist-packages (from librosa) (0.22.2.post1)\n",
            "Requirement already satisfied: six>=1.3 in /usr/local/lib/python3.6/dist-packages (from librosa) (1.12.0)\n",
            "Requirement already satisfied: decorator>=3.0.0 in /usr/local/lib/python3.6/dist-packages (from librosa) (4.4.2)\n",
            "Requirement already satisfied: audioread>=2.0.0 in /usr/local/lib/python3.6/dist-packages (from librosa) (2.1.8)\n",
            "Requirement already satisfied: numpy>=1.8.0 in /usr/local/lib/python3.6/dist-packages (from librosa) (1.18.4)\n",
            "Requirement already satisfied: scipy>=1.0.0 in /usr/local/lib/python3.6/dist-packages (from librosa) (1.4.1)\n",
            "Requirement already satisfied: numba>=0.38.0 in /usr/local/lib/python3.6/dist-packages (from librosa) (0.48.0)\n",
            "Requirement already satisfied: llvmlite<0.32.0,>=0.31.0dev0 in /usr/local/lib/python3.6/dist-packages (from numba>=0.38.0->librosa) (0.31.0)\n",
            "Requirement already satisfied: setuptools in /usr/local/lib/python3.6/dist-packages (from numba>=0.38.0->librosa) (46.1.3)\n"
          ],
          "name": "stdout"
        }
      ]
    },
    {
      "cell_type": "code",
      "metadata": {
        "id": "zAOEgEC3gY2-",
        "colab_type": "code",
        "colab": {}
      },
      "source": [
        "from VAST.util import *\n",
        "import pdb\n",
        "import pprint\n",
        "from tqdm import tqdm\n",
        "import numpy as np\n",
        "import IPython\n",
        "import soundfile as sf\n",
        "import matplotlib.pyplot as plt\n",
        "import librosa\n",
        "import os"
      ],
      "execution_count": 0,
      "outputs": []
    },
    {
      "cell_type": "markdown",
      "metadata": {
        "id": "CFkmpVp7KwZ1",
        "colab_type": "text"
      },
      "source": [
        "### Prepare dataset"
      ]
    },
    {
      "cell_type": "code",
      "metadata": {
        "id": "wTdWN9Tmgacc",
        "colab_type": "code",
        "outputId": "329588de-faaa-4ff4-a289-5e5f5d6751f7",
        "colab": {
          "base_uri": "https://localhost:8080/",
          "height": 128
        }
      },
      "source": [
        "from google.colab import drive\n",
        "drive.mount('/content/gdrive')\n",
        "\n",
        "# !gdown https://drive.google.com/uc?id=14AT3AGwNtPMRaFGN7VE2rf2BHrN4ImSd\n",
        "# !gdown https://drive.google.com/uc?id=16124JngZYtz-xt5p_KBdsuo4lXN-TDCW"
      ],
      "execution_count": 3,
      "outputs": [
        {
          "output_type": "stream",
          "text": [
            "Go to this URL in a browser: https://accounts.google.com/o/oauth2/auth?client_id=947318989803-6bn6qk8qdgf4n4g3pfee6491hc0brc4i.apps.googleusercontent.com&redirect_uri=urn%3aietf%3awg%3aoauth%3a2.0%3aoob&response_type=code&scope=email%20https%3a%2f%2fwww.googleapis.com%2fauth%2fdocs.test%20https%3a%2f%2fwww.googleapis.com%2fauth%2fdrive%20https%3a%2f%2fwww.googleapis.com%2fauth%2fdrive.photos.readonly%20https%3a%2f%2fwww.googleapis.com%2fauth%2fpeopleapi.readonly\n",
            "\n",
            "Enter your authorization code:\n",
            "··········\n",
            "Mounted at /content/gdrive\n"
          ],
          "name": "stdout"
        }
      ]
    },
    {
      "cell_type": "markdown",
      "metadata": {
        "id": "2Uc2ZwwtXAUL",
        "colab_type": "text"
      },
      "source": [
        "### We save the data as some batches"
      ]
    },
    {
      "cell_type": "code",
      "metadata": {
        "id": "86Zsq_l_qIN2",
        "colab_type": "code",
        "colab": {}
      },
      "source": [
        "def load_data():\n",
        "  data_folder = \"gdrive/My Drive/CLIPPED_VAST/\"\n",
        "  label_folder = \"gdrive/My Drive/CLIPPED_VAST/\"\n",
        "  data = []\n",
        "  label = []\n",
        "  for i in tqdm(range(6)):\n",
        "    data.append(load_data_array_from_npy(data_folder + f\"dataset_{i}.npy\"))\n",
        "    label.extend(load_data_array_from_npy(label_folder + f\"labelset_{i}.npy\"))\n",
        "\n",
        "  # data.append(load_data_array_from_npy(data_folder + f\"add_data.npy\"))\n",
        "  # label.extend(load_data_array_from_npy(label_folder + f\"add_label.npy\"))\n",
        "  data = np.vstack(data)\n",
        "  return data, label\n",
        "\n",
        "def save_function_as_batchs(Batch_size = 2048, save_path = \"gdrive/My Drive/Free_RAM_VAST/\"):\n",
        "  data, label = load_data()\n",
        "  save_index = 0\n",
        "  create_folders(save_path)\n",
        "  for index in tqdm(range(0, len(label), Batch_size)):\n",
        "    data_clip = data[index:index + Batch_size]\n",
        "    label_clip = label[index:index + Batch_size]\n",
        "    if len(data_clip) == Batch_size:\n",
        "      'save data'\n",
        "      save_data_array_as_npy(data_clip, save_path + f'data_{save_index}')\n",
        "      save_data_array_as_npy(label_clip, save_path + f'label_{save_index}')\n",
        "      save_index += 1"
      ],
      "execution_count": 0,
      "outputs": []
    },
    {
      "cell_type": "code",
      "metadata": {
        "id": "zZ1m7GMzpl0r",
        "colab_type": "code",
        "outputId": "9124a667-d0c7-46b4-efd6-aaa31922bf34",
        "colab": {
          "base_uri": "https://localhost:8080/",
          "height": 54
        }
      },
      "source": [
        "save_function_as_batchs()"
      ],
      "execution_count": 5,
      "outputs": [
        {
          "output_type": "stream",
          "text": [
            "100%|██████████| 6/6 [04:21<00:00, 43.58s/it]\n",
            "100%|██████████| 86/86 [04:28<00:00,  3.12s/it]\n"
          ],
          "name": "stderr"
        }
      ]
    },
    {
      "cell_type": "markdown",
      "metadata": {
        "id": "NNJ1OZeRjE6f",
        "colab_type": "text"
      },
      "source": [
        "### Take a look at the loaded data"
      ]
    },
    {
      "cell_type": "code",
      "metadata": {
        "id": "vOGoPzW_jEGN",
        "colab_type": "code",
        "colab": {}
      },
      "source": [
        "for i in range(3):\n",
        "  plt.plot(data[i], color = 'orange', label='read in sample data')\n",
        "  plt.title(f\"Label: {label[i]}\")\n",
        "  plt.show()\n",
        "  IPython.display.display(IPython.display.Audio(np.asarray(data[i]).T, rate=8000))"
      ],
      "execution_count": 0,
      "outputs": []
    },
    {
      "cell_type": "markdown",
      "metadata": {
        "id": "c-A_lSAmjwEb",
        "colab_type": "text"
      },
      "source": [
        "### See if the preprocess part works correct"
      ]
    },
    {
      "cell_type": "code",
      "metadata": {
        "id": "0iKGYsEXjveq",
        "colab_type": "code",
        "colab": {}
      },
      "source": [
        "sample_rate = 8000"
      ],
      "execution_count": 0,
      "outputs": []
    },
    {
      "cell_type": "code",
      "metadata": {
        "id": "Eb9zkyCHjgNq",
        "colab_type": "code",
        "colab": {}
      },
      "source": [
        "from keras.models import Sequential\n",
        "from kapre.time_frequency import Melspectrogram, Spectrogram\n",
        "from kapre.utils import Normalization2D\n",
        "\n",
        "melspecModel = Sequential() \n",
        "\n",
        "melspecModel.add(Melspectrogram(n_dft=1024, n_hop=128, input_shape=(1, data.shape[-1]),\n",
        "                         padding='same', sr=sample_rate, n_mels=80,\n",
        "                         fmin=40.0, fmax=sample_rate/2, power_melgram=1.0,\n",
        "                         return_decibel_melgram=True, trainable_fb=False,\n",
        "                         trainable_kernel=False,\n",
        "                         name='mel_stft') )\n",
        "\n",
        "melspecModel.add(Normalization2D(int_axis=0))\n",
        "\n",
        "melspecModel.summary()"
      ],
      "execution_count": 0,
      "outputs": []
    },
    {
      "cell_type": "code",
      "metadata": {
        "id": "wOzBT3d6mBPs",
        "colab_type": "code",
        "colab": {}
      },
      "source": [
        "test_input = np.expand_dims(np.expand_dims(data[0], 0), 0)\n",
        "print(f\"test_input shape: {test_input.shape}\")\n",
        "melspec = melspecModel.predict(test_input)\n",
        "print(f\"melspec shape: {melspec.shape}\")\n",
        "\n",
        "plt.figure(figsize=(17,6))\n",
        "plt.pcolormesh(melspec[0,:,:,0])\n",
        "\n",
        "plt.title('Spectrogram visualization')\n",
        "plt.ylabel('Frequency')\n",
        "plt.xlabel('Time')\n",
        "\n",
        "plt.show()"
      ],
      "execution_count": 0,
      "outputs": []
    },
    {
      "cell_type": "markdown",
      "metadata": {
        "id": "YOxkH3ocmxzx",
        "colab_type": "text"
      },
      "source": [
        "### Check if mel spectrogram matches the one computed with librosa"
      ]
    },
    {
      "cell_type": "code",
      "metadata": {
        "id": "W19dlYOTmwVK",
        "colab_type": "code",
        "colab": {}
      },
      "source": [
        "librosa_melspec = librosa.feature.melspectrogram(y=data[0], sr=sample_rate, n_fft=1024,\n",
        "                                                 hop_length=128, power=1.0, #window='hann',\n",
        "                                                 n_mels=80, fmin=40.0, fmax=sample_rate/2)\n",
        "S_dB = librosa.power_to_db(librosa_melspec, ref=np.max)\n",
        "plt.figure(figsize=(17,6))\n",
        "plt.pcolormesh(S_dB)\n",
        "\n",
        "plt.title('Spectrogram visualization - librosa')\n",
        "plt.ylabel('Frequency')\n",
        "plt.xlabel('Time')\n",
        "\n",
        "plt.show()"
      ],
      "execution_count": 0,
      "outputs": []
    },
    {
      "cell_type": "markdown",
      "metadata": {
        "id": "t0WMmtSd8vkd",
        "colab_type": "text"
      },
      "source": [
        "### Get class balance weights"
      ]
    },
    {
      "cell_type": "code",
      "metadata": {
        "id": "hjYM2ARx8tI2",
        "colab_type": "code",
        "colab": {}
      },
      "source": [
        "from sklearn.utils import class_weight\n",
        "class_weights = class_weight.compute_class_weight('balanced',\n",
        "                                                 np.unique(label),\n",
        "                                                 label)\n",
        "class_weights"
      ],
      "execution_count": 0,
      "outputs": []
    },
    {
      "cell_type": "markdown",
      "metadata": {
        "id": "yaDEtc1r3wl0",
        "colab_type": "text"
      },
      "source": [
        "### Split train set & test set"
      ]
    },
    {
      "cell_type": "code",
      "metadata": {
        "id": "sso1LrMD3yke",
        "colab_type": "code",
        "colab": {}
      },
      "source": [
        "from sklearn.model_selection import train_test_split\n",
        "from keras.utils import to_categorical\n",
        "\n",
        "'Turn to one-hot'\n",
        "idx = np.arange(len(data))\n",
        "np.random.shuffle(idx)\n",
        "train_idx = idx[:int(0.8*len(idx))]\n",
        "test_idx = idx[int(0.8*len(idx)):]"
      ],
      "execution_count": 0,
      "outputs": []
    },
    {
      "cell_type": "code",
      "metadata": {
        "id": "G9N_zFK2_FKQ",
        "colab_type": "code",
        "colab": {}
      },
      "source": [
        "data = np.asarray(data)\n",
        "label = np.asarray(label)"
      ],
      "execution_count": 0,
      "outputs": []
    },
    {
      "cell_type": "code",
      "metadata": {
        "id": "-tKVCLwA_pzv",
        "colab_type": "code",
        "colab": {}
      },
      "source": [
        "train_idx[:3000] = np.arange(len(data)-3000, len(data))"
      ],
      "execution_count": 0,
      "outputs": []
    },
    {
      "cell_type": "code",
      "metadata": {
        "id": "gobGB-Y2CCmd",
        "colab_type": "code",
        "colab": {}
      },
      "source": [
        "train_idx[0]"
      ],
      "execution_count": 0,
      "outputs": []
    },
    {
      "cell_type": "code",
      "metadata": {
        "id": "c2UpfBtd_EVa",
        "colab_type": "code",
        "colab": {}
      },
      "source": [
        "# X_test = data[test_idx]\n",
        "# y_test = to_categorical(label[test_idx])\n",
        "\n",
        "# X_train = data[train_idx]\n",
        "# y_train = to_categorical(label[train_idx])\n",
        "\n",
        "# # data, X_test, label, y_test = train_test_split(data, label, test_size=0.2, random_state=42)"
      ],
      "execution_count": 0,
      "outputs": []
    },
    {
      "cell_type": "code",
      "metadata": {
        "id": "9_sXcfL8_cvh",
        "colab_type": "code",
        "colab": {}
      },
      "source": [
        "# print(f\"X_train shape: {data.shape}\")\n",
        "# print(f\"label shape: {label.shape}\")\n",
        "\n",
        "# print(f\"X_test shape: {X_test.shape}\")\n",
        "# print(f\"y_test shape: {y_test.shape}\")"
      ],
      "execution_count": 0,
      "outputs": []
    },
    {
      "cell_type": "code",
      "metadata": {
        "id": "aoqhRuIg6uau",
        "colab_type": "code",
        "colab": {}
      },
      "source": [
        ""
      ],
      "execution_count": 0,
      "outputs": []
    },
    {
      "cell_type": "code",
      "metadata": {
        "id": "lG8ZzBy-BozU",
        "colab_type": "code",
        "colab": {}
      },
      "source": [
        "label.shape"
      ],
      "execution_count": 0,
      "outputs": []
    },
    {
      "cell_type": "markdown",
      "metadata": {
        "id": "-Qanl5IE1UZ-",
        "colab_type": "text"
      },
      "source": [
        "### A toy CNN + LSTM + attention classifier "
      ]
    },
    {
      "cell_type": "code",
      "metadata": {
        "id": "_7YclNci1ZUr",
        "colab_type": "code",
        "colab": {
          "base_uri": "https://localhost:8080/",
          "height": 35
        },
        "outputId": "d447ce9e-2730-4db0-adab-0196fb9f7cc5"
      },
      "source": [
        "from keras import layers as L\n",
        "import keras.backend as K\n",
        "from keras.models import Model\n",
        "from keras.callbacks import LearningRateScheduler\n",
        "import math\n",
        "import keras\n",
        "from kapre.time_frequency import Melspectrogram, Spectrogram\n",
        "from kapre.utils import Normalization2D\n",
        "\n",
        "'define model'\n",
        "def AttRNNSpeechModel(nCategories, dropout_rate, samplingrate=8000,\n",
        "                      inputLength=8000, rnn_func=L.LSTM):\n",
        "    # simple LSTM\n",
        "    sr = samplingrate\n",
        "    iLen = inputLength\n",
        "    dropout_rate = dropout_rate\n",
        "\n",
        "    inputs = L.Input((inputLength,), name='input')\n",
        "\n",
        "    x = L.Reshape((1, -1))(inputs)\n",
        "\n",
        "    m = Melspectrogram(n_dft=1024, n_hop=128, input_shape=(1, iLen),\n",
        "                       padding='same', sr=sr, n_mels=80,\n",
        "                       fmin=40.0, fmax=sr / 2, power_melgram=1.0,\n",
        "                       return_decibel_melgram=True, trainable_fb=False,\n",
        "                       trainable_kernel=False,\n",
        "                       name='mel_stft')\n",
        "    m.trainable = False\n",
        "\n",
        "    x = m(x)\n",
        "\n",
        "    x = Normalization2D(int_axis=0, name='mel_stft_norm')(x)\n",
        "\n",
        "    # note that Melspectrogram puts the sequence in shape (batch_size, melDim, timeSteps, 1)\n",
        "    # we would rather have it the other way around for LSTMs\n",
        "\n",
        "    x = L.Permute((2, 1, 3))(x)\n",
        "\n",
        "    x = L.Conv2D(10, (5, 1), activation='relu', padding='same')(x)\n",
        "    x = L.BatchNormalization()(x)\n",
        "    x = L.Dropout(dropout_rate)(x)\n",
        "    \n",
        "    x = L.Conv2D(1, (5, 1), activation='relu', padding='same')(x)\n",
        "    x = L.BatchNormalization()(x)\n",
        "    x = L.Dropout(dropout_rate)(x)\n",
        "\n",
        "    # x = Reshape((125, 80)) (x)\n",
        "    # keras.backend.squeeze(x, axis)\n",
        "    x = L.Lambda(lambda q: K.squeeze(q, -1), name='squeeze_last_dim')(x)\n",
        "\n",
        "    x = L.Bidirectional(rnn_func(64, return_sequences=True)\n",
        "                        )(x)  # [b_s, seq_len, vec_dim]\n",
        "    \n",
        "    x = L.Dropout(dropout_rate)(x)                    \n",
        "    x = L.Bidirectional(rnn_func(64, return_sequences=True)\n",
        "                        )(x)  # [b_s, seq_len, vec_dim]\n",
        "\n",
        "    xFirst = L.Lambda(lambda q: q[:, -1])(x)  # [b_s, vec_dim]\n",
        "    query = L.Dense(128)(xFirst)\n",
        "\n",
        "    # dot product attention\n",
        "    attScores = L.Dot(axes=[1, 2])([query, x])\n",
        "    attScores = L.Softmax(name='attSoftmax')(attScores)  # [b_s, seq_len]\n",
        "\n",
        "    # rescale sequence\n",
        "    attVector = L.Dot(axes=[1, 1])([attScores, x])  # [b_s, vec_dim]\n",
        "\n",
        "    x = L.Dense(64, activation='relu')(attVector)\n",
        "    x = L.Dense(32)(x)\n",
        "\n",
        "    output = L.Dense(nCategories, activation='softmax', name='output')(x)\n",
        "\n",
        "    model = Model(inputs=[inputs], outputs=[output])\n",
        "\n",
        "    return model\n",
        "\n",
        "'learning rate decay'\n",
        "def step_decay(self, epoch):\n",
        "    initial_lrate = 0.01\n",
        "    drop = 0.5\n",
        "    epochs_drop = 2.0\n",
        "    lrate = initial_lrate * math.pow(drop, math.floor((1 + epoch) / epochs_drop))\n",
        "    return lrate    "
      ],
      "execution_count": 6,
      "outputs": [
        {
          "output_type": "stream",
          "text": [
            "Using TensorFlow backend.\n"
          ],
          "name": "stderr"
        }
      ]
    },
    {
      "cell_type": "code",
      "metadata": {
        "id": "Rv8LeJyK2Vqk",
        "colab_type": "code",
        "outputId": "579f7214-120e-4d03-a614-b3282e62b95c",
        "colab": {
          "base_uri": "https://localhost:8080/",
          "height": 1000
        }
      },
      "source": [
        "model = AttRNNSpeechModel(4, dropout_rate=0.1)\n",
        "model.compile(optimizer='adam', loss=['categorical_crossentropy'], metrics=['categorical_accuracy'])\n",
        "# model.compile(optimizer='adam', loss=[multi_category_focal_loss2_fixed], metrics=['categorical_accuracy'])\n",
        "model.summary()\n",
        "lrate = LearningRateScheduler(step_decay)"
      ],
      "execution_count": 7,
      "outputs": [
        {
          "output_type": "stream",
          "text": [
            "tracking <tf.Variable 'mel_stft/real_kernels:0' shape=(1024, 1, 1, 513) dtype=float32> dft_real_kernels\n",
            "tracking <tf.Variable 'mel_stft/imag_kernels:0' shape=(1024, 1, 1, 513) dtype=float32> dft_imag_kernels\n",
            "tracking <tf.Variable 'mel_stft/Variable:0' shape=(513, 80) dtype=float32> freq2mel\n",
            "Model: \"model_1\"\n",
            "__________________________________________________________________________________________________\n",
            "Layer (type)                    Output Shape         Param #     Connected to                     \n",
            "==================================================================================================\n",
            "input (InputLayer)              (None, 8000)         0                                            \n",
            "__________________________________________________________________________________________________\n",
            "reshape_1 (Reshape)             (None, 1, 8000)      0           input[0][0]                      \n",
            "__________________________________________________________________________________________________\n",
            "mel_stft (Melspectrogram)       (None, 80, 63, 1)    1091664     reshape_1[0][0]                  \n",
            "__________________________________________________________________________________________________\n",
            "mel_stft_norm (Normalization2D) (None, 80, 63, 1)    0           mel_stft[0][0]                   \n",
            "__________________________________________________________________________________________________\n",
            "permute_1 (Permute)             (None, 63, 80, 1)    0           mel_stft_norm[0][0]              \n",
            "__________________________________________________________________________________________________\n",
            "conv2d_1 (Conv2D)               (None, 63, 80, 10)   60          permute_1[0][0]                  \n",
            "__________________________________________________________________________________________________\n",
            "batch_normalization_1 (BatchNor (None, 63, 80, 10)   40          conv2d_1[0][0]                   \n",
            "__________________________________________________________________________________________________\n",
            "dropout_1 (Dropout)             (None, 63, 80, 10)   0           batch_normalization_1[0][0]      \n",
            "__________________________________________________________________________________________________\n",
            "conv2d_2 (Conv2D)               (None, 63, 80, 1)    51          dropout_1[0][0]                  \n",
            "__________________________________________________________________________________________________\n",
            "batch_normalization_2 (BatchNor (None, 63, 80, 1)    4           conv2d_2[0][0]                   \n",
            "__________________________________________________________________________________________________\n",
            "dropout_2 (Dropout)             (None, 63, 80, 1)    0           batch_normalization_2[0][0]      \n",
            "__________________________________________________________________________________________________\n",
            "squeeze_last_dim (Lambda)       (None, 63, 80)       0           dropout_2[0][0]                  \n",
            "__________________________________________________________________________________________________\n",
            "bidirectional_1 (Bidirectional) (None, 63, 128)      74240       squeeze_last_dim[0][0]           \n",
            "__________________________________________________________________________________________________\n",
            "dropout_3 (Dropout)             (None, 63, 128)      0           bidirectional_1[0][0]            \n",
            "__________________________________________________________________________________________________\n",
            "bidirectional_2 (Bidirectional) (None, 63, 128)      98816       dropout_3[0][0]                  \n",
            "__________________________________________________________________________________________________\n",
            "lambda_1 (Lambda)               (None, 128)          0           bidirectional_2[0][0]            \n",
            "__________________________________________________________________________________________________\n",
            "dense_1 (Dense)                 (None, 128)          16512       lambda_1[0][0]                   \n",
            "__________________________________________________________________________________________________\n",
            "dot_1 (Dot)                     (None, 63)           0           dense_1[0][0]                    \n",
            "                                                                 bidirectional_2[0][0]            \n",
            "__________________________________________________________________________________________________\n",
            "attSoftmax (Softmax)            (None, 63)           0           dot_1[0][0]                      \n",
            "__________________________________________________________________________________________________\n",
            "dot_2 (Dot)                     (None, 128)          0           attSoftmax[0][0]                 \n",
            "                                                                 bidirectional_2[0][0]            \n",
            "__________________________________________________________________________________________________\n",
            "dense_2 (Dense)                 (None, 64)           8256        dot_2[0][0]                      \n",
            "__________________________________________________________________________________________________\n",
            "dense_3 (Dense)                 (None, 32)           2080        dense_2[0][0]                    \n",
            "__________________________________________________________________________________________________\n",
            "output (Dense)                  (None, 4)            132         dense_3[0][0]                    \n",
            "==================================================================================================\n",
            "Total params: 1,291,855\n",
            "Trainable params: 200,169\n",
            "Non-trainable params: 1,091,686\n",
            "__________________________________________________________________________________________________\n"
          ],
          "name": "stdout"
        }
      ]
    },
    {
      "cell_type": "markdown",
      "metadata": {
        "id": "O4ewvrg2cO2t",
        "colab_type": "text"
      },
      "source": [
        "### Define data generator"
      ]
    },
    {
      "cell_type": "code",
      "metadata": {
        "id": "PuaA4-dvcRCi",
        "colab_type": "code",
        "colab": {}
      },
      "source": [
        "# class DataGenerator(keras.utils.Sequence):\n",
        "#     'Generates data for Keras'\n",
        "#     def __init__(self, list_IDs, input_path, dim = 8000, batch_size=2048,\n",
        "#                  n_classes=4, shuffle=True):\n",
        "#         'Initialization'\n",
        "#         self.dim = dim\n",
        "#         self.batch_size = batch_size\n",
        "#         self.input_path = input_path\n",
        "#         self.list_IDs = list_IDs\n",
        "#         self.n_classes = n_classes\n",
        "#         self.shuffle = shuffle\n",
        "#         self.on_epoch_end()\n",
        "\n",
        "#     def __len__(self):\n",
        "#         'Denotes the number of batches per epoch'\n",
        "#         return int(np.floor(len(self.list_IDs) / self.batch_size))\n",
        "\n",
        "#     def __getitem__(self, index):\n",
        "#         'Generate one batch of data'\n",
        "#         # Generate indexes of the batch\n",
        "#         indexes = self.indexes[index : index+1]\n",
        "\n",
        "#         # Find list of IDs\n",
        "#         list_IDs_temp = [self.list_IDs[k] for k in indexes]\n",
        "\n",
        "#         # Generate data\n",
        "#         X, y = self.__data_generation(list_IDs_temp)\n",
        "\n",
        "#         return X, y\n",
        "\n",
        "#     def on_epoch_end(self):\n",
        "#         'Updates indexes after each epoch'\n",
        "#         self.indexes = np.arange(len(self.list_IDs))\n",
        "#         if self.shuffle == True:\n",
        "#             print(\"list Shuffled\")\n",
        "#             np.random.shuffle(self.indexes)\n",
        "\n",
        "#     def __data_generation(self, list_IDs_temp):\n",
        "#         'Generates data containing batch_size samples' # X : (n_samples, *dim, n_channels)\n",
        "#         # Initialization\n",
        "#         X = np.empty((self.batch_size, self.dim))\n",
        "#         y = np.empty((self.batch_size), dtype=int)\n",
        "\n",
        "#         assert len(list_IDs_temp) == 1\n",
        "#         # Generate data\n",
        "#         ID = list_IDs_temp[0]\n",
        "#         # Store sample\n",
        "#         X = load_data_array_from_npy(self.input_path + f'data_{ID}.npy')\n",
        "\n",
        "#         # Store class\n",
        "#         y = load_data_array_from_npy(self.input_path + f'label_{ID}.npy')\n",
        "#         return X, keras.utils.to_categorical(y, num_classes=self.n_classes)\n",
        "\n",
        "def DataGenerator(id_list, input_path, batch_size = 2048, dim = 8000, n_classes = 4):\n",
        "  # Create empty arrays to contain batch of features and labels#\n",
        "  X = np.empty((batch_size, dim))\n",
        "  y = np.empty((batch_size), dtype=int)\n",
        "  while True:\n",
        "    # choose a random ID\n",
        "    ID = np.random.choice(id_list,1)[0]\n",
        "    # Store sample\n",
        "    X = load_data_array_from_npy(input_path + f'data_{ID}.npy')\n",
        "    # Store class\n",
        "    y = load_data_array_from_npy(input_path + f'label_{ID}.npy')\n",
        "    \n",
        "    yield X, keras.utils.to_categorical(y, num_classes=n_classes)"
      ],
      "execution_count": 0,
      "outputs": []
    },
    {
      "cell_type": "code",
      "metadata": {
        "id": "Rb3Ts5aKgC-8",
        "colab_type": "code",
        "colab": {}
      },
      "source": [
        "def generate_generator(input_path = \"gdrive/My Drive/Free_RAM_VAST/\"):\n",
        "  all_files = files_in_target_folder(input_path, '.npy')\n",
        "  range_index = np.arange(len(all_files)//2)\n",
        "  np.random.shuffle(range_index)\n",
        "  train_ratio = 0.8\n",
        "\n",
        "  train_list = range_index[:int(train_ratio * len(range_index))]\n",
        "  test_list = range_index[int(train_ratio * len(range_index)):]\n",
        "\n",
        "  train_generator = DataGenerator(train_list, input_path=input_path)\n",
        "  test_generator = DataGenerator(test_list, input_path=input_path)\n",
        "  return train_generator, test_generator, len(train_list), len(test_list)"
      ],
      "execution_count": 0,
      "outputs": []
    },
    {
      "cell_type": "code",
      "metadata": {
        "id": "I7Ts922Dgled",
        "colab_type": "code",
        "colab": {}
      },
      "source": [
        "train_generator, test_generator, train_steps, validation_steps = generate_generator()"
      ],
      "execution_count": 0,
      "outputs": []
    },
    {
      "cell_type": "code",
      "metadata": {
        "id": "U0yA7Gktkqdg",
        "colab_type": "code",
        "colab": {
          "base_uri": "https://localhost:8080/",
          "height": 35
        },
        "outputId": "b074f447-0b73-4bae-beaa-31921f33faba"
      },
      "source": [
        "train_steps"
      ],
      "execution_count": 12,
      "outputs": [
        {
          "output_type": "execute_result",
          "data": {
            "text/plain": [
              "68"
            ]
          },
          "metadata": {
            "tags": []
          },
          "execution_count": 12
        }
      ]
    },
    {
      "cell_type": "markdown",
      "metadata": {
        "id": "N0dQbE_fLK2h",
        "colab_type": "text"
      },
      "source": [
        "### Train model"
      ]
    },
    {
      "cell_type": "code",
      "metadata": {
        "id": "bFxHhBQo4I8o",
        "colab_type": "code",
        "outputId": "8d40a252-ec7d-4333-ea97-6d0cf565dd4f",
        "colab": {
          "base_uri": "https://localhost:8080/",
          "height": 1000
        }
      },
      "source": [
        "# results = model.fit(x = data[train_idx], y = to_categorical(label[train_idx]),\n",
        "# \t\t\t\tepochs=30,\n",
        "# \t\t\t\tbatch_size=2048,\n",
        "# \t\t\t\tshuffle=True,\n",
        "# \t\t\t\tvalidation_data=(data[test_idx], to_categorical(label[test_idx])),\n",
        "# \t\t\t\tcallbacks=[lrate],\n",
        "# \t\t\t\tclass_weight=class_weights\n",
        "# \t\t\t\t)\n",
        "# Train model on dataset\n",
        "results = model.fit_generator(generator=train_generator,\n",
        "                    epochs=30,\n",
        "\t\t\t\t\t\t\t\t\t\tvalidation_data=test_generator,\n",
        "\t\t\t\t\t\t\t\t\t\tvalidation_steps = validation_steps,\n",
        "\t\t\t\t\t\t\t\t\t\tsteps_per_epoch = train_steps,\n",
        "\t\t\t\t\t\t\t\t\t\tshuffle=True,\n",
        "\t\t\t\t\t\t\t\t\t\tcallbacks=[lrate],\n",
        "\t\t\t\t\t\t\t\t\t\tclass_weight=np.asarray([0.83401266, 1.21839585, 0.8408355 , 1.26432985])\n",
        "                    )"
      ],
      "execution_count": 13,
      "outputs": [
        {
          "output_type": "stream",
          "text": [
            "Epoch 1/30\n",
            "68/68 [==============================] - 146s 2s/step - loss: 0.5215 - categorical_accuracy: 0.7918 - val_loss: 0.6169 - val_categorical_accuracy: 0.7815\n",
            "Epoch 2/30\n",
            "68/68 [==============================] - 79s 1s/step - loss: 0.1744 - categorical_accuracy: 0.9393 - val_loss: 0.3040 - val_categorical_accuracy: 0.8999\n",
            "Epoch 3/30\n",
            "68/68 [==============================] - 83s 1s/step - loss: 0.1203 - categorical_accuracy: 0.9583 - val_loss: 0.1759 - val_categorical_accuracy: 0.9354\n",
            "Epoch 4/30\n",
            "68/68 [==============================] - 92s 1s/step - loss: 0.0949 - categorical_accuracy: 0.9672 - val_loss: 0.1132 - val_categorical_accuracy: 0.9538\n",
            "Epoch 5/30\n",
            "68/68 [==============================] - 105s 2s/step - loss: 0.0806 - categorical_accuracy: 0.9725 - val_loss: 0.1200 - val_categorical_accuracy: 0.9551\n",
            "Epoch 6/30\n",
            "68/68 [==============================] - 85s 1s/step - loss: 0.0689 - categorical_accuracy: 0.9757 - val_loss: 0.1259 - val_categorical_accuracy: 0.9628\n",
            "Epoch 7/30\n",
            "68/68 [==============================] - 93s 1s/step - loss: 0.0580 - categorical_accuracy: 0.9799 - val_loss: 0.0742 - val_categorical_accuracy: 0.9654\n",
            "Epoch 8/30\n",
            "68/68 [==============================] - 61s 897ms/step - loss: 0.0525 - categorical_accuracy: 0.9819 - val_loss: 0.1058 - val_categorical_accuracy: 0.9692\n",
            "Epoch 9/30\n",
            "68/68 [==============================] - 96s 1s/step - loss: 0.0524 - categorical_accuracy: 0.9816 - val_loss: 0.1151 - val_categorical_accuracy: 0.9578\n",
            "Epoch 10/30\n",
            "68/68 [==============================] - 93s 1s/step - loss: 0.0444 - categorical_accuracy: 0.9845 - val_loss: 0.0814 - val_categorical_accuracy: 0.9692\n",
            "Epoch 11/30\n",
            "68/68 [==============================] - 100s 1s/step - loss: 0.0406 - categorical_accuracy: 0.9862 - val_loss: 0.0935 - val_categorical_accuracy: 0.9726\n",
            "Epoch 12/30\n",
            "68/68 [==============================] - 99s 1s/step - loss: 0.0404 - categorical_accuracy: 0.9859 - val_loss: 0.1160 - val_categorical_accuracy: 0.9718\n",
            "Epoch 13/30\n",
            "68/68 [==============================] - 98s 1s/step - loss: 0.0381 - categorical_accuracy: 0.9870 - val_loss: 0.0965 - val_categorical_accuracy: 0.9730\n",
            "Epoch 14/30\n",
            "68/68 [==============================] - 90s 1s/step - loss: 0.0336 - categorical_accuracy: 0.9881 - val_loss: 0.1205 - val_categorical_accuracy: 0.9737\n",
            "Epoch 15/30\n",
            "68/68 [==============================] - 86s 1s/step - loss: 0.0303 - categorical_accuracy: 0.9893 - val_loss: 0.1052 - val_categorical_accuracy: 0.9767\n",
            "Epoch 16/30\n",
            "68/68 [==============================] - 88s 1s/step - loss: 0.0316 - categorical_accuracy: 0.9887 - val_loss: 0.0706 - val_categorical_accuracy: 0.9734\n",
            "Epoch 17/30\n",
            "68/68 [==============================] - 80s 1s/step - loss: 0.0274 - categorical_accuracy: 0.9904 - val_loss: 0.1199 - val_categorical_accuracy: 0.9735\n",
            "Epoch 18/30\n",
            "68/68 [==============================] - 107s 2s/step - loss: 0.0280 - categorical_accuracy: 0.9899 - val_loss: 0.0665 - val_categorical_accuracy: 0.9757\n",
            "Epoch 19/30\n",
            "68/68 [==============================] - 133s 2s/step - loss: 0.0242 - categorical_accuracy: 0.9916 - val_loss: 0.1243 - val_categorical_accuracy: 0.9708\n",
            "Epoch 20/30\n",
            "68/68 [==============================] - 77s 1s/step - loss: 0.0212 - categorical_accuracy: 0.9927 - val_loss: 0.1146 - val_categorical_accuracy: 0.9737\n",
            "Epoch 21/30\n",
            "68/68 [==============================] - 105s 2s/step - loss: 0.0311 - categorical_accuracy: 0.9893 - val_loss: 0.1023 - val_categorical_accuracy: 0.9746\n",
            "Epoch 22/30\n",
            "68/68 [==============================] - 110s 2s/step - loss: 0.0242 - categorical_accuracy: 0.9915 - val_loss: 0.1050 - val_categorical_accuracy: 0.9750\n",
            "Epoch 23/30\n",
            "68/68 [==============================] - 102s 1s/step - loss: 0.0217 - categorical_accuracy: 0.9923 - val_loss: 0.0975 - val_categorical_accuracy: 0.9767\n",
            "Epoch 24/30\n",
            "68/68 [==============================] - 87s 1s/step - loss: 0.0210 - categorical_accuracy: 0.9926 - val_loss: 0.0875 - val_categorical_accuracy: 0.9768\n",
            "Epoch 25/30\n",
            "68/68 [==============================] - 112s 2s/step - loss: 0.0179 - categorical_accuracy: 0.9937 - val_loss: 0.0698 - val_categorical_accuracy: 0.9750\n",
            "Epoch 26/30\n",
            "68/68 [==============================] - 114s 2s/step - loss: 0.0187 - categorical_accuracy: 0.9936 - val_loss: 0.0892 - val_categorical_accuracy: 0.9747\n",
            "Epoch 27/30\n",
            "68/68 [==============================] - 87s 1s/step - loss: 0.0147 - categorical_accuracy: 0.9950 - val_loss: 0.0792 - val_categorical_accuracy: 0.9755\n",
            "Epoch 28/30\n",
            "68/68 [==============================] - 77s 1s/step - loss: 0.0174 - categorical_accuracy: 0.9940 - val_loss: 0.0821 - val_categorical_accuracy: 0.9777\n",
            "Epoch 29/30\n",
            "68/68 [==============================] - 100s 1s/step - loss: 0.0173 - categorical_accuracy: 0.9939 - val_loss: 0.1094 - val_categorical_accuracy: 0.9763\n",
            "Epoch 30/30\n",
            "68/68 [==============================] - 85s 1s/step - loss: 0.0180 - categorical_accuracy: 0.9936 - val_loss: 0.0988 - val_categorical_accuracy: 0.9765\n"
          ],
          "name": "stdout"
        }
      ]
    },
    {
      "cell_type": "markdown",
      "metadata": {
        "id": "bFuCpAWPDklM",
        "colab_type": "text"
      },
      "source": [
        "### Training loss/acc curve"
      ]
    },
    {
      "cell_type": "code",
      "metadata": {
        "id": "ilHuvXUYAPd6",
        "colab_type": "code",
        "outputId": "8f76d4a1-bff8-47d1-d601-6e170e6b8194",
        "colab": {
          "base_uri": "https://localhost:8080/",
          "height": 573
        }
      },
      "source": [
        "# summarize history for categorical accuracy\n",
        "plt.plot(results.history['categorical_accuracy'])\n",
        "plt.plot(results.history['val_categorical_accuracy'])\n",
        "plt.title('Categorical accuracy')\n",
        "plt.ylabel('accuracy')\n",
        "plt.xlabel('epoch')\n",
        "plt.legend(['train', 'test'], loc='upper left')\n",
        "plt.show()\n",
        "# summarize history for loss\n",
        "plt.plot(results.history['loss'])\n",
        "plt.plot(results.history['val_loss'])\n",
        "plt.title('model loss')\n",
        "plt.ylabel('loss')\n",
        "plt.xlabel('epoch')\n",
        "plt.legend(['train', 'test'], loc='upper left')\n",
        "plt.show()"
      ],
      "execution_count": 14,
      "outputs": [
        {
          "output_type": "display_data",
          "data": {
            "image/png": "[encoded data removed]",
            "text/plain": [
              "<Figure size 432x288 with 1 Axes>"
            ]
          },
          "metadata": {
            "tags": [],
            "needs_background": "light"
          }
        },
        {
          "output_type": "display_data",
          "data": {
            "image/png": "[encoded data removed]",
            "text/plain": [
              "<Figure size 432x288 with 1 Axes>"
            ]
          },
          "metadata": {
            "tags": [],
            "needs_background": "light"
          }
        }
      ]
    },
    {
      "cell_type": "markdown",
      "metadata": {
        "id": "zUGdtNa0S5BI",
        "colab_type": "text"
      },
      "source": [
        "### Save model"
      ]
    },
    {
      "cell_type": "code",
      "metadata": {
        "id": "9zmmbqtdS35Z",
        "colab_type": "code",
        "colab": {}
      },
      "source": [
        "model.save_weights('gdrive/My Drive/four_vtb_classifier_model.h5')"
      ],
      "execution_count": 0,
      "outputs": []
    },
    {
      "cell_type": "code",
      "metadata": {
        "id": "OYOdPaPCdDCj",
        "colab_type": "code",
        "outputId": "2db93f6f-c65d-49e3-a756-16fe540525fc",
        "colab": {
          "base_uri": "https://localhost:8080/",
          "height": 72
        }
      },
      "source": [
        "evaluate_model = AttRNNSpeechModel(4, dropout_rate=0.1)\n",
        "evaluate_model.load_weights('gdrive/My Drive/four_vtb_classifier_model.h5')"
      ],
      "execution_count": 16,
      "outputs": [
        {
          "output_type": "stream",
          "text": [
            "tracking <tf.Variable 'mel_stft_1/real_kernels:0' shape=(1024, 1, 1, 513) dtype=float32> dft_real_kernels\n",
            "tracking <tf.Variable 'mel_stft_1/imag_kernels:0' shape=(1024, 1, 1, 513) dtype=float32> dft_imag_kernels\n",
            "tracking <tf.Variable 'mel_stft_1/Variable:0' shape=(513, 80) dtype=float32> freq2mel\n"
          ],
          "name": "stdout"
        }
      ]
    },
    {
      "cell_type": "markdown",
      "metadata": {
        "id": "7H806kWpDoMV",
        "colab_type": "text"
      },
      "source": [
        "### Draw confusion matrix"
      ]
    },
    {
      "cell_type": "code",
      "metadata": {
        "id": "x471y59uDpqj",
        "colab_type": "code",
        "colab": {
          "base_uri": "https://localhost:8080/",
          "height": 35
        },
        "outputId": "4de9470c-fde8-41dd-f507-b0ffd9041773"
      },
      "source": [
        "from sklearn.metrics import confusion_matrix\n",
        "# Get y_pred_test\n",
        "y_pred = []\n",
        "y_test = []\n",
        "for i in tqdm(range(validation_steps)):\n",
        "  data, label = next(test_generator)\n",
        "  four_class_probs = evaluate_model.predict(data)\n",
        "  y_pred.extend(np.argmax(four_class_probs, axis=-1))\n",
        "  y_test.extend(np.argmax(label, axis=-1))\n",
        "\n",
        "confusion_mat = confusion_matrix(y_test, y_pred)"
      ],
      "execution_count": 18,
      "outputs": [
        {
          "output_type": "stream",
          "text": [
            "100%|██████████| 17/17 [00:55<00:00,  3.28s/it]\n"
          ],
          "name": "stderr"
        }
      ]
    },
    {
      "cell_type": "code",
      "metadata": {
        "id": "MNMl9ygFE2ek",
        "colab_type": "code",
        "outputId": "65456d86-4f49-4d15-bae2-f8ae548d426a",
        "colab": {
          "base_uri": "https://localhost:8080/",
          "height": 331
        }
      },
      "source": [
        "import seaborn as sn\n",
        "import pandas as pd\n",
        "import matplotlib.pyplot as plt\n",
        "\n",
        "df_cm = pd.DataFrame(confusion_mat, range(confusion_mat.shape[0]), range(confusion_mat.shape[1]))\n",
        "sn.set(font_scale=1.4) # for label size\n",
        "sn.heatmap(df_cm, annot=True, cmap='Blues', fmt='d')\n",
        "plt.show()"
      ],
      "execution_count": 19,
      "outputs": [
        {
          "output_type": "stream",
          "text": [
            "/usr/local/lib/python3.6/dist-packages/statsmodels/tools/_testing.py:19: FutureWarning: pandas.util.testing is deprecated. Use the functions in the public API at pandas.testing instead.\n",
            "  import pandas.util.testing as tm\n"
          ],
          "name": "stderr"
        },
        {
          "output_type": "display_data",
          "data": {
            "image/png": "[encoded data removed]",
            "text/plain": [
              "<Figure size 432x288 with 2 Axes>"
            ]
          },
          "metadata": {
            "tags": []
          }
        }
      ]
    },
    {
      "cell_type": "code",
      "metadata": {
        "id": "oPu8HeZhdrdJ",
        "colab_type": "code",
        "colab": {}
      },
      "source": [
        "# debug_name_list = ['宝鐘マリン', '白上フブキ', '天音かなた', '夏色まつり']\n",
        "\n",
        "# up_total = 0\n",
        "\n",
        "# for i in range(len(y_pred)):\n",
        "#   if up_total == 50:\n",
        "#     pdb.set_trace()\n",
        "#   if y_pred[i] != y_test[i]:\n",
        "#     plt.plot(X_test[i], color = 'orange', label='incorrect data')\n",
        "#     plt.title(f\"pred: {y_pred[i]}, real: {y_test[i]}\")\n",
        "#     plt.show()\n",
        "#     print(f\" 预测: {debug_name_list[y_pred[i]]}, 实际: {debug_name_list[y_test[i]]}\")\n",
        "#     for j in range(4):\n",
        "#       print(f\"{debug_name_list[j]}: {four_class_probs[i][j]}\")\n",
        "#     IPython.display.display(IPython.display.Audio(np.asarray(X_test[i]).T, rate=8000))\n",
        "#     up_total += 1\n",
        "    "
      ],
      "execution_count": 0,
      "outputs": []
    }
  ]
}