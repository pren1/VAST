{
  "nbformat": 4,
  "nbformat_minor": 0,
  "metadata": {
    "colab": {
      "name": "VTB_classifier_playground",
      "provenance": [],
      "collapsed_sections": [
        "NNJ1OZeRjE6f",
        "c-A_lSAmjwEb",
        "YOxkH3ocmxzx"
      ],
      "authorship_tag": "ABX9TyNDs4uV9oSwXR/NFY8Tqh39",
      "include_colab_link": true
    },
    "kernelspec": {
      "name": "python3",
      "display_name": "Python 3"
    }
  },
  "cells": [
    {
      "cell_type": "markdown",
      "metadata": {
        "id": "view-in-github",
        "colab_type": "text"
      },
      "source": [
        "<a href=\"https://colab.research.google.com/github/pren1/VAST/blob/master/VTB_classifier_playground.ipynb\" target=\"_parent\"><img src=\"https://colab.research.google.com/assets/colab-badge.svg\" alt=\"Open In Colab\"/></a>"
      ]
    },
    {
      "cell_type": "code",
      "metadata": {
        "id": "d9A4Tbg0gN8r",
        "colab_type": "code",
        "outputId": "2e353bd9-6902-4bc2-cea3-f342c2774354",
        "colab": {
          "base_uri": "https://localhost:8080/",
          "height": 399
        }
      },
      "source": [
        "!rm -rf VAST/\n",
        "!git clone https://github.com/pren1/VAST.git\n",
        "!pip3 install soundfile\n",
        "!pip3 install librosa"
      ],
      "execution_count": 1,
      "outputs": [
        {
          "output_type": "stream",
          "text": [
            "Cloning into 'VAST'...\n",
            "remote: Enumerating objects: 94, done.\u001b[K\n",
            "remote: Counting objects: 100% (94/94), done.\u001b[K\n",
            "remote: Compressing objects: 100% (68/68), done.\u001b[K\n",
            "remote: Total 94 (delta 40), reused 50 (delta 18), pack-reused 0\u001b[K\n",
            "Unpacking objects: 100% (94/94), done.\n",
            "Requirement already satisfied: soundfile in /usr/local/lib/python3.6/dist-packages (0.10.3.post1)\n",
            "Requirement already satisfied: cffi>=1.0 in /usr/local/lib/python3.6/dist-packages (from soundfile) (1.14.0)\n",
            "Requirement already satisfied: pycparser in /usr/local/lib/python3.6/dist-packages (from cffi>=1.0->soundfile) (2.20)\n",
            "Requirement already satisfied: librosa in /usr/local/lib/python3.6/dist-packages (0.6.3)\n",
            "Requirement already satisfied: numpy>=1.8.0 in /usr/local/lib/python3.6/dist-packages (from librosa) (1.18.4)\n",
            "Requirement already satisfied: resampy>=0.2.0 in /usr/local/lib/python3.6/dist-packages (from librosa) (0.2.2)\n",
            "Requirement already satisfied: scipy>=1.0.0 in /usr/local/lib/python3.6/dist-packages (from librosa) (1.4.1)\n",
            "Requirement already satisfied: six>=1.3 in /usr/local/lib/python3.6/dist-packages (from librosa) (1.12.0)\n",
            "Requirement already satisfied: joblib>=0.12 in /usr/local/lib/python3.6/dist-packages (from librosa) (0.14.1)\n",
            "Requirement already satisfied: numba>=0.38.0 in /usr/local/lib/python3.6/dist-packages (from librosa) (0.48.0)\n",
            "Requirement already satisfied: decorator>=3.0.0 in /usr/local/lib/python3.6/dist-packages (from librosa) (4.4.2)\n",
            "Requirement already satisfied: audioread>=2.0.0 in /usr/local/lib/python3.6/dist-packages (from librosa) (2.1.8)\n",
            "Requirement already satisfied: scikit-learn!=0.19.0,>=0.14.0 in /usr/local/lib/python3.6/dist-packages (from librosa) (0.22.2.post1)\n",
            "Requirement already satisfied: llvmlite<0.32.0,>=0.31.0dev0 in /usr/local/lib/python3.6/dist-packages (from numba>=0.38.0->librosa) (0.31.0)\n",
            "Requirement already satisfied: setuptools in /usr/local/lib/python3.6/dist-packages (from numba>=0.38.0->librosa) (46.1.3)\n"
          ],
          "name": "stdout"
        }
      ]
    },
    {
      "cell_type": "code",
      "metadata": {
        "id": "zAOEgEC3gY2-",
        "colab_type": "code",
        "colab": {}
      },
      "source": [
        "from VAST.util import *\n",
        "import pdb\n",
        "import pprint\n",
        "from tqdm import tqdm\n",
        "import numpy as np\n",
        "import IPython\n",
        "import soundfile as sf\n",
        "import matplotlib.pyplot as plt\n",
        "import librosa\n",
        "import os"
      ],
      "execution_count": 0,
      "outputs": []
    },
    {
      "cell_type": "markdown",
      "metadata": {
        "id": "CFkmpVp7KwZ1",
        "colab_type": "text"
      },
      "source": [
        "### Prepare dataset"
      ]
    },
    {
      "cell_type": "code",
      "metadata": {
        "id": "wTdWN9Tmgacc",
        "colab_type": "code",
        "outputId": "14438f8a-aaec-4970-f530-6ea85154516c",
        "colab": {
          "base_uri": "https://localhost:8080/",
          "height": 35
        }
      },
      "source": [
        "from google.colab import drive\n",
        "drive.mount('/content/gdrive')\n",
        "\n",
        "# !gdown https://drive.google.com/uc?id=14AT3AGwNtPMRaFGN7VE2rf2BHrN4ImSd\n",
        "# !gdown https://drive.google.com/uc?id=16124JngZYtz-xt5p_KBdsuo4lXN-TDCW"
      ],
      "execution_count": 3,
      "outputs": [
        {
          "output_type": "stream",
          "text": [
            "Drive already mounted at /content/gdrive; to attempt to forcibly remount, call drive.mount(\"/content/gdrive\", force_remount=True).\n"
          ],
          "name": "stdout"
        }
      ]
    },
    {
      "cell_type": "markdown",
      "metadata": {
        "id": "WOGaNMM3SCuK",
        "colab_type": "text"
      },
      "source": [
        "### Set critical path and parameters"
      ]
    },
    {
      "cell_type": "code",
      "metadata": {
        "id": "4s-w0yI4SHdw",
        "colab_type": "code",
        "colab": {}
      },
      "source": [
        "regenerate_data_to_folder = False\n",
        "\n",
        "debug_name_list = ['宝鐘マリン', '白上フブキ', '天音かなた', '夏色まつり']\n",
        "save_path = \"gdrive/My Drive/Free_RAM_VAST/\"\n",
        "sub_size = 512\n",
        "train_ratio = 0.8\n",
        "batch_size = 2048\n",
        "dim = 8000 \n",
        "sample_rate = 8000\n",
        "n_classes = 4\n",
        "'How many sub_batch should we use for each vtb?'\n",
        "sub_value = int(batch_size/(n_classes * sub_size))\n",
        "dropout_rate = 0.1"
      ],
      "execution_count": 0,
      "outputs": []
    },
    {
      "cell_type": "markdown",
      "metadata": {
        "id": "2Uc2ZwwtXAUL",
        "colab_type": "text"
      },
      "source": [
        "### We save the data as some batches"
      ]
    },
    {
      "cell_type": "code",
      "metadata": {
        "id": "86Zsq_l_qIN2",
        "colab_type": "code",
        "colab": {}
      },
      "source": [
        "def split_data_into_folders(debug_name_list, save_path, Batch_size):\n",
        "  'Save data in a special way'\n",
        "  data, label = load_data()\n",
        "  label_list = set(label)\n",
        "  assert len(label_list) == len(debug_name_list)\n",
        "  create_folders(save_path)\n",
        "  whole_label = np.asarray(label)\n",
        "  for single in label_list:\n",
        "    whole_index = np.where(label == single)[0]\n",
        "    save_split_small_batch(data[whole_index], whole_label[whole_index], save_path + f\"{debug_name_list[single]}/\", Batch_size)\n",
        "\n",
        "def load_data():\n",
        "  'Just load data, be careful about your RAM'\n",
        "  data_folder = \"gdrive/My Drive/CLIPPED_VAST/\"\n",
        "  label_folder = \"gdrive/My Drive/CLIPPED_VAST/\"\n",
        "  data = []\n",
        "  label = []\n",
        "  for i in tqdm(range(6)):\n",
        "    data.append(load_data_array_from_npy(data_folder + f\"dataset_{i}.npy\"))\n",
        "    label.extend(load_data_array_from_npy(label_folder + f\"labelset_{i}.npy\"))\n",
        "\n",
        "  # data.append(load_data_array_from_npy(data_folder + f\"add_data.npy\"))\n",
        "  # label.extend(load_data_array_from_npy(label_folder + f\"add_label.npy\"))\n",
        "  data = np.vstack(data)\n",
        "  return data, label\n",
        "\n",
        "def save_split_small_batch(target_data, target_label, save_path, Batch_size = 128):\n",
        "  'save data, each npy file contains Batch_size seq of data'\n",
        "  save_index = 0\n",
        "  create_folders(save_path)\n",
        "  for index in tqdm(range(0, len(target_label), Batch_size)):\n",
        "    data_clip = target_data[index:index + Batch_size]\n",
        "    label_clip = target_label[index:index + Batch_size]\n",
        "    if len(data_clip) == Batch_size:\n",
        "      'save data'\n",
        "      save_data_array_as_npy(data_clip, save_path + f'data_{save_index}')\n",
        "      save_data_array_as_npy(label_clip, save_path + f'label_{save_index}')\n",
        "      save_index += 1"
      ],
      "execution_count": 0,
      "outputs": []
    },
    {
      "cell_type": "code",
      "metadata": {
        "id": "nV5k-iHvNj2r",
        "colab_type": "code",
        "colab": {}
      },
      "source": [
        "if regenerate_data_to_folder:\n",
        "  split_data_into_folders(debug_name_list = debug_name_list, save_path = save_path, Batch_size = sub_size)"
      ],
      "execution_count": 0,
      "outputs": []
    },
    {
      "cell_type": "markdown",
      "metadata": {
        "id": "NNJ1OZeRjE6f",
        "colab_type": "text"
      },
      "source": [
        "### Take a look at the loaded data"
      ]
    },
    {
      "cell_type": "code",
      "metadata": {
        "id": "vOGoPzW_jEGN",
        "colab_type": "code",
        "colab": {}
      },
      "source": [
        "# for i in range(3):\n",
        "#   plt.plot(data[i], color = 'orange', label='read in sample data')\n",
        "#   plt.title(f\"Label: {label[i]}\")\n",
        "#   plt.show()\n",
        "#   IPython.display.display(IPython.display.Audio(np.asarray(data[i]).T, rate=8000))"
      ],
      "execution_count": 0,
      "outputs": []
    },
    {
      "cell_type": "markdown",
      "metadata": {
        "id": "c-A_lSAmjwEb",
        "colab_type": "text"
      },
      "source": [
        "### See if the preprocess part works correct"
      ]
    },
    {
      "cell_type": "code",
      "metadata": {
        "id": "Eb9zkyCHjgNq",
        "colab_type": "code",
        "colab": {}
      },
      "source": [
        "# from keras.models import Sequential\n",
        "# from kapre.time_frequency import Melspectrogram, Spectrogram\n",
        "# from kapre.utils import Normalization2D\n",
        "\n",
        "# melspecModel = Sequential() \n",
        "\n",
        "# melspecModel.add(Melspectrogram(n_dft=1024, n_hop=128, input_shape=(1, data.shape[-1]),\n",
        "#                          padding='same', sr=sample_rate, n_mels=80,\n",
        "#                          fmin=40.0, fmax=sample_rate/2, power_melgram=1.0,\n",
        "#                          return_decibel_melgram=True, trainable_fb=False,\n",
        "#                          trainable_kernel=False,\n",
        "#                          name='mel_stft') )\n",
        "\n",
        "# melspecModel.add(Normalization2D(int_axis=0))\n",
        "\n",
        "# melspecModel.summary()"
      ],
      "execution_count": 0,
      "outputs": []
    },
    {
      "cell_type": "code",
      "metadata": {
        "id": "wOzBT3d6mBPs",
        "colab_type": "code",
        "colab": {}
      },
      "source": [
        "# test_input = np.expand_dims(np.expand_dims(data[0], 0), 0)\n",
        "# print(f\"test_input shape: {test_input.shape}\")\n",
        "# melspec = melspecModel.predict(test_input)\n",
        "# print(f\"melspec shape: {melspec.shape}\")\n",
        "\n",
        "# plt.figure(figsize=(17,6))\n",
        "# plt.pcolormesh(melspec[0,:,:,0])\n",
        "\n",
        "# plt.title('Spectrogram visualization')\n",
        "# plt.ylabel('Frequency')\n",
        "# plt.xlabel('Time')\n",
        "\n",
        "# plt.show()"
      ],
      "execution_count": 0,
      "outputs": []
    },
    {
      "cell_type": "markdown",
      "metadata": {
        "id": "YOxkH3ocmxzx",
        "colab_type": "text"
      },
      "source": [
        "### Check if mel spectrogram matches the one computed with librosa"
      ]
    },
    {
      "cell_type": "code",
      "metadata": {
        "id": "W19dlYOTmwVK",
        "colab_type": "code",
        "colab": {}
      },
      "source": [
        "# librosa_melspec = librosa.feature.melspectrogram(y=data[0], sr=sample_rate, n_fft=1024,\n",
        "#                                                  hop_length=128, power=1.0, #window='hann',\n",
        "#                                                  n_mels=80, fmin=40.0, fmax=sample_rate/2)\n",
        "# S_dB = librosa.power_to_db(librosa_melspec, ref=np.max)\n",
        "# plt.figure(figsize=(17,6))\n",
        "# plt.pcolormesh(S_dB)\n",
        "\n",
        "# plt.title('Spectrogram visualization - librosa')\n",
        "# plt.ylabel('Frequency')\n",
        "# plt.xlabel('Time')\n",
        "\n",
        "# plt.show()"
      ],
      "execution_count": 0,
      "outputs": []
    },
    {
      "cell_type": "markdown",
      "metadata": {
        "id": "-Qanl5IE1UZ-",
        "colab_type": "text"
      },
      "source": [
        "### A toy CNN + LSTM + attention classifier "
      ]
    },
    {
      "cell_type": "code",
      "metadata": {
        "id": "_7YclNci1ZUr",
        "colab_type": "code",
        "outputId": "8b1efd03-5cf8-41fc-c999-3554fedd9348",
        "colab": {
          "base_uri": "https://localhost:8080/",
          "height": 35
        }
      },
      "source": [
        "from keras import layers as L\n",
        "import keras.backend as K\n",
        "from keras.models import Model\n",
        "from keras.callbacks import LearningRateScheduler\n",
        "import math\n",
        "import keras\n",
        "from kapre.time_frequency import Melspectrogram, Spectrogram\n",
        "from kapre.utils import Normalization2D\n",
        "\n",
        "'define model'\n",
        "def AttRNNSpeechModel(nCategories, dropout_rate, samplingrate=8000,\n",
        "                      inputLength=8000, rnn_func=L.LSTM):\n",
        "    # simple LSTM\n",
        "    sr = samplingrate\n",
        "    iLen = inputLength\n",
        "    dropout_rate = dropout_rate\n",
        "\n",
        "    inputs = L.Input((inputLength,), name='input')\n",
        "\n",
        "    x = L.Reshape((1, -1))(inputs)\n",
        "\n",
        "    m = Melspectrogram(n_dft=1024, n_hop=128, input_shape=(1, iLen),\n",
        "                       padding='same', sr=sr, n_mels=80,\n",
        "                       fmin=40.0, fmax=sr / 2, power_melgram=1.0,\n",
        "                       return_decibel_melgram=True, trainable_fb=False,\n",
        "                       trainable_kernel=False,\n",
        "                       name='mel_stft')\n",
        "    m.trainable = False\n",
        "\n",
        "    x = m(x)\n",
        "\n",
        "    x = Normalization2D(int_axis=0, name='mel_stft_norm')(x)\n",
        "\n",
        "    # note that Melspectrogram puts the sequence in shape (batch_size, melDim, timeSteps, 1)\n",
        "    # we would rather have it the other way around for LSTMs\n",
        "\n",
        "    x = L.Permute((2, 1, 3))(x)\n",
        "\n",
        "    x = L.Conv2D(10, (5, 1), activation='relu', padding='same')(x)\n",
        "    x = L.BatchNormalization()(x)\n",
        "    x = L.Dropout(dropout_rate)(x)\n",
        "    \n",
        "    x = L.Conv2D(1, (5, 1), activation='relu', padding='same')(x)\n",
        "    x = L.BatchNormalization()(x)\n",
        "    x = L.Dropout(dropout_rate)(x)\n",
        "\n",
        "    # x = Reshape((125, 80)) (x)\n",
        "    # keras.backend.squeeze(x, axis)\n",
        "    x = L.Lambda(lambda q: K.squeeze(q, -1), name='squeeze_last_dim')(x)\n",
        "\n",
        "    x = L.Bidirectional(rnn_func(64, return_sequences=True)\n",
        "                        )(x)  # [b_s, seq_len, vec_dim]\n",
        "    \n",
        "    x = L.Dropout(dropout_rate)(x)                    \n",
        "    x = L.Bidirectional(rnn_func(64, return_sequences=True)\n",
        "                        )(x)  # [b_s, seq_len, vec_dim]\n",
        "\n",
        "    xFirst = L.Lambda(lambda q: q[:, -1])(x)  # [b_s, vec_dim]\n",
        "    query = L.Dense(128)(xFirst)\n",
        "\n",
        "    # dot product attention\n",
        "    attScores = L.Dot(axes=[1, 2])([query, x])\n",
        "    attScores = L.Softmax(name='attSoftmax')(attScores)  # [b_s, seq_len]\n",
        "\n",
        "    # rescale sequence\n",
        "    attVector = L.Dot(axes=[1, 1])([attScores, x])  # [b_s, vec_dim]\n",
        "\n",
        "    x = L.Dense(64, activation='relu')(attVector)\n",
        "    x = L.Dense(32)(x)\n",
        "\n",
        "    output = L.Dense(nCategories, activation='softmax', name='output')(x)\n",
        "\n",
        "    model = Model(inputs=[inputs], outputs=[output])\n",
        "\n",
        "    return model\n",
        "\n",
        "'learning rate decay'\n",
        "def step_decay(self, epoch):\n",
        "    initial_lrate = 0.01\n",
        "    drop = 0.5\n",
        "    epochs_drop = 2.0\n",
        "    lrate = initial_lrate * math.pow(drop, math.floor((1 + epoch) / epochs_drop))\n",
        "    return lrate    "
      ],
      "execution_count": 11,
      "outputs": [
        {
          "output_type": "stream",
          "text": [
            "Using TensorFlow backend.\n"
          ],
          "name": "stderr"
        }
      ]
    },
    {
      "cell_type": "code",
      "metadata": {
        "id": "Rv8LeJyK2Vqk",
        "colab_type": "code",
        "outputId": "e2c9f096-fbb0-47d1-e123-71b611d7da1a",
        "colab": {
          "base_uri": "https://localhost:8080/",
          "height": 1000
        }
      },
      "source": [
        "model = AttRNNSpeechModel(n_classes, dropout_rate=dropout_rate, samplingrate=sample_rate, inputLength=dim)\n",
        "model.compile(optimizer='adam', loss=['categorical_crossentropy'], metrics=['categorical_accuracy'])\n",
        "model.summary()\n",
        "lrate = LearningRateScheduler(step_decay)"
      ],
      "execution_count": 12,
      "outputs": [
        {
          "output_type": "stream",
          "text": [
            "tracking <tf.Variable 'mel_stft/real_kernels:0' shape=(1024, 1, 1, 513) dtype=float32> dft_real_kernels\n",
            "tracking <tf.Variable 'mel_stft/imag_kernels:0' shape=(1024, 1, 1, 513) dtype=float32> dft_imag_kernels\n",
            "tracking <tf.Variable 'mel_stft/Variable:0' shape=(513, 80) dtype=float32> freq2mel\n",
            "Model: \"model_1\"\n",
            "__________________________________________________________________________________________________\n",
            "Layer (type)                    Output Shape         Param #     Connected to                     \n",
            "==================================================================================================\n",
            "input (InputLayer)              (None, 8000)         0                                            \n",
            "__________________________________________________________________________________________________\n",
            "reshape_1 (Reshape)             (None, 1, 8000)      0           input[0][0]                      \n",
            "__________________________________________________________________________________________________\n",
            "mel_stft (Melspectrogram)       (None, 80, 63, 1)    1091664     reshape_1[0][0]                  \n",
            "__________________________________________________________________________________________________\n",
            "mel_stft_norm (Normalization2D) (None, 80, 63, 1)    0           mel_stft[0][0]                   \n",
            "__________________________________________________________________________________________________\n",
            "permute_1 (Permute)             (None, 63, 80, 1)    0           mel_stft_norm[0][0]              \n",
            "__________________________________________________________________________________________________\n",
            "conv2d_1 (Conv2D)               (None, 63, 80, 10)   60          permute_1[0][0]                  \n",
            "__________________________________________________________________________________________________\n",
            "batch_normalization_1 (BatchNor (None, 63, 80, 10)   40          conv2d_1[0][0]                   \n",
            "__________________________________________________________________________________________________\n",
            "dropout_1 (Dropout)             (None, 63, 80, 10)   0           batch_normalization_1[0][0]      \n",
            "__________________________________________________________________________________________________\n",
            "conv2d_2 (Conv2D)               (None, 63, 80, 1)    51          dropout_1[0][0]                  \n",
            "__________________________________________________________________________________________________\n",
            "batch_normalization_2 (BatchNor (None, 63, 80, 1)    4           conv2d_2[0][0]                   \n",
            "__________________________________________________________________________________________________\n",
            "dropout_2 (Dropout)             (None, 63, 80, 1)    0           batch_normalization_2[0][0]      \n",
            "__________________________________________________________________________________________________\n",
            "squeeze_last_dim (Lambda)       (None, 63, 80)       0           dropout_2[0][0]                  \n",
            "__________________________________________________________________________________________________\n",
            "bidirectional_1 (Bidirectional) (None, 63, 128)      74240       squeeze_last_dim[0][0]           \n",
            "__________________________________________________________________________________________________\n",
            "dropout_3 (Dropout)             (None, 63, 128)      0           bidirectional_1[0][0]            \n",
            "__________________________________________________________________________________________________\n",
            "bidirectional_2 (Bidirectional) (None, 63, 128)      98816       dropout_3[0][0]                  \n",
            "__________________________________________________________________________________________________\n",
            "lambda_1 (Lambda)               (None, 128)          0           bidirectional_2[0][0]            \n",
            "__________________________________________________________________________________________________\n",
            "dense_1 (Dense)                 (None, 128)          16512       lambda_1[0][0]                   \n",
            "__________________________________________________________________________________________________\n",
            "dot_1 (Dot)                     (None, 63)           0           dense_1[0][0]                    \n",
            "                                                                 bidirectional_2[0][0]            \n",
            "__________________________________________________________________________________________________\n",
            "attSoftmax (Softmax)            (None, 63)           0           dot_1[0][0]                      \n",
            "__________________________________________________________________________________________________\n",
            "dot_2 (Dot)                     (None, 128)          0           attSoftmax[0][0]                 \n",
            "                                                                 bidirectional_2[0][0]            \n",
            "__________________________________________________________________________________________________\n",
            "dense_2 (Dense)                 (None, 64)           8256        dot_2[0][0]                      \n",
            "__________________________________________________________________________________________________\n",
            "dense_3 (Dense)                 (None, 32)           2080        dense_2[0][0]                    \n",
            "__________________________________________________________________________________________________\n",
            "output (Dense)                  (None, 4)            132         dense_3[0][0]                    \n",
            "==================================================================================================\n",
            "Total params: 1,291,855\n",
            "Trainable params: 200,169\n",
            "Non-trainable params: 1,091,686\n",
            "__________________________________________________________________________________________________\n"
          ],
          "name": "stdout"
        }
      ]
    },
    {
      "cell_type": "markdown",
      "metadata": {
        "id": "O4ewvrg2cO2t",
        "colab_type": "text"
      },
      "source": [
        "### Define data generator"
      ]
    },
    {
      "cell_type": "code",
      "metadata": {
        "id": "YW-LGoxbTauh",
        "colab_type": "code",
        "colab": {}
      },
      "source": [
        "class reiterate_list():\n",
        "  'Iterate over the id list provided'\n",
        "  def __init__(self, ID_list, return_number, is_shuffle=True):\n",
        "    self.ID_list = np.asarray(ID_list)\n",
        "    self.list_length = len(self.ID_list)\n",
        "    self.return_number = return_number\n",
        "    self.order = np.arange(self.list_length)\n",
        "    self.shuffled = False\n",
        "    self.cursor = 0\n",
        "    if is_shuffle:\n",
        "        self.shuffle()\n",
        "\n",
        "  def shuffle(self):\n",
        "      np.random.shuffle(self.order)\n",
        "      self.cursor = 0\n",
        "\n",
        "  def next(self):\n",
        "      if self.shuffled==True:\n",
        "          self.shuffled = False\n",
        "      if self.cursor + self.return_number > self.list_length:\n",
        "          self.shuffle()\n",
        "          self.shuffled = True\n",
        "      idx = self.order[self.cursor:self.cursor + self.return_number]\n",
        "      self.cursor += self.return_number\n",
        "      return self.ID_list[idx]\n",
        "\n",
        "def build_train_test_id_dicts():\n",
        "  'randomly assign each id to either train set or test set'\n",
        "  first_level_folders = [f.path.split('/')[-1] for f in os.scandir(save_path) if f.is_dir()]\n",
        "  assert first_level_folders == debug_name_list, \"Saved folder inconsistent, check your code\"\n",
        "  train_dict = {}\n",
        "  test_dict = {}\n",
        "  for single_vtb in debug_name_list:\n",
        "    all_files = files_in_target_folder(save_path + single_vtb, '.npy')\n",
        "    range_index = np.arange(len(all_files)//2)\n",
        "    np.random.shuffle(range_index)\n",
        "    train_dict[single_vtb] = range_index[:int(train_ratio * len(range_index))]\n",
        "    test_dict[single_vtb] = range_index[int(train_ratio * len(range_index)):]\n",
        "  return train_dict, test_dict\n",
        "\n",
        "def DataGenerator(target_dict):\n",
        "  id_dict = {}\n",
        "  for single_vtb in target_dict:\n",
        "    id_dict[single_vtb] = reiterate_list(target_dict[single_vtb], sub_value)\n",
        "  \n",
        "  # Create empty arrays to contain batch of features and labels#\n",
        "  X = np.empty((batch_size, dim))\n",
        "  y = np.empty((batch_size), dtype=int)\n",
        "  while True:\n",
        "    'get a bunch of ids, then read in them'\n",
        "    data_list = []\n",
        "    label_list = []\n",
        "    for single_vtb in id_dict:\n",
        "      target_id_list = id_dict[single_vtb].next()\n",
        "      data_list.extend([save_path + single_vtb + \"/\" + f'data_{ID}.npy' for ID in target_id_list])\n",
        "      label_list.extend([save_path + single_vtb + \"/\" + f'label_{ID}.npy' for ID in target_id_list])\n",
        "      \n",
        "    'Then, fill in the read in results to X and y'\n",
        "    for index, (data_path, label_path) in enumerate(zip(data_list, label_list)):\n",
        "      X[index * sub_size:(index + 1) * sub_size] = load_data_array_from_npy(data_path)\n",
        "      y[index * sub_size:(index + 1) * sub_size] = load_data_array_from_npy(label_path)\n",
        "    'To one-hot'\n",
        "    yield X, keras.utils.to_categorical(y, num_classes=n_classes)\n",
        "\n",
        "def get_step_from_dictionary(input_dict):\n",
        "  'When will the whole dataset run out?'\n",
        "  res = []\n",
        "  for vtb in input_dict:\n",
        "    res.append(len(input_dict[vtb])//sub_value)\n",
        "  return np.max(res)  \n",
        "\n",
        "def generate_generator():\n",
        "  train_dict, test_dict = build_train_test_id_dicts()\n",
        "  train_generator = DataGenerator(train_dict)\n",
        "  test_generator = DataGenerator(test_dict)\n",
        "  return train_generator, test_generator, train_dict, test_dict"
      ],
      "execution_count": 0,
      "outputs": []
    },
    {
      "cell_type": "code",
      "metadata": {
        "id": "I7Ts922Dgled",
        "colab_type": "code",
        "colab": {}
      },
      "source": [
        "train_generator, test_generator, train_dict, test_dict = generate_generator()\n",
        "train_steps = get_step_from_dictionary(train_dict)\n",
        "validation_steps = get_step_from_dictionary(test_dict)"
      ],
      "execution_count": 0,
      "outputs": []
    },
    {
      "cell_type": "markdown",
      "metadata": {
        "id": "5FWfXquew1xB",
        "colab_type": "text"
      },
      "source": [
        "### Calculate class weights"
      ]
    },
    {
      "cell_type": "code",
      "metadata": {
        "id": "OnPy2sgRvjWn",
        "colab_type": "code",
        "colab": {
          "base_uri": "https://localhost:8080/",
          "height": 35
        },
        "outputId": "f4ea583f-fd9f-4021-d94c-1aa17314ea9b"
      },
      "source": [
        "from sklearn.utils import class_weight\n",
        "def build_label_for_class_weight_calculation(input_dict):\n",
        "  label = []\n",
        "  for index, vtb in enumerate(input_dict):\n",
        "    label.extend([index] * len(input_dict[vtb]))\n",
        "  return label  \n",
        "\n",
        "label = build_label_for_class_weight_calculation(train_dict)\n",
        "\n",
        "class_weights = class_weight.compute_class_weight('balanced',\n",
        "                                                 np.unique(label),\n",
        "                                                 label)\n",
        "class_weights"
      ],
      "execution_count": 15,
      "outputs": [
        {
          "output_type": "execute_result",
          "data": {
            "text/plain": [
              "array([0.82621951, 1.27830189, 0.82621951, 1.25462963])"
            ]
          },
          "metadata": {
            "tags": []
          },
          "execution_count": 15
        }
      ]
    },
    {
      "cell_type": "markdown",
      "metadata": {
        "id": "N0dQbE_fLK2h",
        "colab_type": "text"
      },
      "source": [
        "### Train model"
      ]
    },
    {
      "cell_type": "code",
      "metadata": {
        "id": "bFxHhBQo4I8o",
        "colab_type": "code",
        "outputId": "b2381328-b722-4cf9-9cfc-45edff41b332",
        "colab": {
          "base_uri": "https://localhost:8080/",
          "height": 619
        }
      },
      "source": [
        "# results = model.fit(x = data[train_idx], y = to_categorical(label[train_idx]),\n",
        "# \t\t\t\tepochs=30,\n",
        "# \t\t\t\tbatch_size=2048,\n",
        "# \t\t\t\tshuffle=True,\n",
        "# \t\t\t\tvalidation_data=(data[test_idx], to_categorical(label[test_idx])),\n",
        "# \t\t\t\tcallbacks=[lrate],\n",
        "# \t\t\t\tclass_weight=class_weights\n",
        "# \t\t\t\t)\n",
        "\n",
        "# Train model on dataset\n",
        "results = model.fit_generator(generator=train_generator,\n",
        "                    epochs=20,\n",
        "\t\t\t\t\t\t\t\t\t\tvalidation_data=test_generator,\n",
        "\t\t\t\t\t\t\t\t\t\tvalidation_steps = validation_steps,\n",
        "\t\t\t\t\t\t\t\t\t\tsteps_per_epoch = train_steps,\n",
        "\t\t\t\t\t\t\t\t\t\tshuffle=True,\n",
        "\t\t\t\t\t\t\t\t\t\tcallbacks=[lrate],\n",
        "\t\t\t\t\t\t\t\t\t\tclass_weight=class_weights\n",
        "                    )"
      ],
      "execution_count": 23,
      "outputs": [
        {
          "output_type": "stream",
          "text": [
            "Epoch 1/15\n",
            "82/82 [==============================] - 264s 3s/step - loss: 0.0232 - categorical_accuracy: 0.9917 - val_loss: 0.1008 - val_categorical_accuracy: 0.9750\n",
            "Epoch 2/15\n",
            "82/82 [==============================] - 226s 3s/step - loss: 0.0284 - categorical_accuracy: 0.9901 - val_loss: 0.1027 - val_categorical_accuracy: 0.9702\n",
            "Epoch 3/15\n",
            "82/82 [==============================] - 251s 3s/step - loss: 0.0233 - categorical_accuracy: 0.9919 - val_loss: 0.0712 - val_categorical_accuracy: 0.9712\n",
            "Epoch 4/15\n",
            "82/82 [==============================] - 231s 3s/step - loss: 0.0271 - categorical_accuracy: 0.9905 - val_loss: 0.0804 - val_categorical_accuracy: 0.9734\n",
            "Epoch 5/15\n",
            "53/82 [==================>...........] - ETA: 1:10 - loss: 0.0213 - categorical_accuracy: 0.9925"
          ],
          "name": "stdout"
        },
        {
          "output_type": "stream",
          "text": [
            "/usr/local/lib/python3.6/dist-packages/keras/utils/data_utils.py:718: UserWarning: An input could not be retrieved. It could be because a worker has died.We do not have any information on the lost sample.\n",
            "  UserWarning)\n"
          ],
          "name": "stderr"
        },
        {
          "output_type": "stream",
          "text": [
            "82/82 [==============================] - 248s 3s/step - loss: 0.0214 - categorical_accuracy: 0.9925 - val_loss: 0.1097 - val_categorical_accuracy: 0.9763\n",
            "Epoch 6/15\n",
            "82/82 [==============================] - 245s 3s/step - loss: 0.0210 - categorical_accuracy: 0.9927 - val_loss: 0.1055 - val_categorical_accuracy: 0.9743\n",
            "Epoch 7/15\n",
            "82/82 [==============================] - 231s 3s/step - loss: 0.0227 - categorical_accuracy: 0.9922 - val_loss: 0.1092 - val_categorical_accuracy: 0.9734\n",
            "Epoch 8/15\n",
            "82/82 [==============================] - 218s 3s/step - loss: 0.0213 - categorical_accuracy: 0.9924 - val_loss: 0.1352 - val_categorical_accuracy: 0.9756\n",
            "Epoch 9/15\n",
            "82/82 [==============================] - 204s 2s/step - loss: 0.0188 - categorical_accuracy: 0.9933 - val_loss: 0.0802 - val_categorical_accuracy: 0.9769\n",
            "Epoch 10/15\n",
            "82/82 [==============================] - 222s 3s/step - loss: 0.0177 - categorical_accuracy: 0.9938 - val_loss: 0.0881 - val_categorical_accuracy: 0.9768\n",
            "Epoch 11/15\n",
            "82/82 [==============================] - 230s 3s/step - loss: 0.0151 - categorical_accuracy: 0.9947 - val_loss: 0.0802 - val_categorical_accuracy: 0.9756\n",
            "Epoch 12/15\n",
            "82/82 [==============================] - 233s 3s/step - loss: 0.0146 - categorical_accuracy: 0.9948 - val_loss: 0.0827 - val_categorical_accuracy: 0.9786\n",
            "Epoch 13/15\n",
            "82/82 [==============================] - 224s 3s/step - loss: 0.0172 - categorical_accuracy: 0.9939 - val_loss: 0.1250 - val_categorical_accuracy: 0.9757\n",
            "Epoch 14/15\n",
            "82/82 [==============================] - 259s 3s/step - loss: 0.0160 - categorical_accuracy: 0.9944 - val_loss: 0.0838 - val_categorical_accuracy: 0.9771\n",
            "Epoch 15/15\n",
            "82/82 [==============================] - 230s 3s/step - loss: 0.0156 - categorical_accuracy: 0.9946 - val_loss: 0.0748 - val_categorical_accuracy: 0.9779\n"
          ],
          "name": "stdout"
        }
      ]
    },
    {
      "cell_type": "markdown",
      "metadata": {
        "id": "bFuCpAWPDklM",
        "colab_type": "text"
      },
      "source": [
        "### Training loss/acc curve"
      ]
    },
    {
      "cell_type": "code",
      "metadata": {
        "id": "ilHuvXUYAPd6",
        "colab_type": "code",
        "outputId": "d82e8a2f-a117-4846-8849-1424b231867b",
        "colab": {
          "base_uri": "https://localhost:8080/",
          "height": 613
        }
      },
      "source": [
        "# summarize history for categorical accuracy\n",
        "plt.plot(results.history['categorical_accuracy'])\n",
        "plt.plot(results.history['val_categorical_accuracy'])\n",
        "plt.title('Categorical accuracy')\n",
        "plt.ylabel('accuracy')\n",
        "plt.xlabel('epoch')\n",
        "plt.legend(['train', 'test'], loc='upper left')\n",
        "plt.show()\n",
        "# summarize history for loss\n",
        "plt.plot(results.history['loss'])\n",
        "plt.plot(results.history['val_loss'])\n",
        "plt.title('model loss')\n",
        "plt.ylabel('loss')\n",
        "plt.xlabel('epoch')\n",
        "plt.legend(['train', 'test'], loc='upper left')\n",
        "plt.show()"
      ],
      "execution_count": 24,
      "outputs": [
        {
          "output_type": "display_data",
          "data": {
            "image/png": "[encoded data removed]",
            "text/plain": [
              "<Figure size 432x288 with 1 Axes>"
            ]
          },
          "metadata": {
            "tags": []
          }
        },
        {
          "output_type": "display_data",
          "data": {
            "image/png": "[encoded data removed]",
            "text/plain": [
              "<Figure size 432x288 with 1 Axes>"
            ]
          },
          "metadata": {
            "tags": []
          }
        }
      ]
    },
    {
      "cell_type": "markdown",
      "metadata": {
        "id": "zUGdtNa0S5BI",
        "colab_type": "text"
      },
      "source": [
        "### Save model"
      ]
    },
    {
      "cell_type": "code",
      "metadata": {
        "id": "9zmmbqtdS35Z",
        "colab_type": "code",
        "colab": {}
      },
      "source": [
        "model.save_weights('gdrive/My Drive/four_vtb_classifier_model.h5')"
      ],
      "execution_count": 0,
      "outputs": []
    },
    {
      "cell_type": "code",
      "metadata": {
        "id": "OYOdPaPCdDCj",
        "colab_type": "code",
        "outputId": "e35a2163-3f11-4e1e-843d-6c4695cf8513",
        "colab": {
          "base_uri": "https://localhost:8080/",
          "height": 72
        }
      },
      "source": [
        "evaluate_model = AttRNNSpeechModel(n_classes, dropout_rate=dropout_rate)\n",
        "evaluate_model.load_weights('gdrive/My Drive/four_vtb_classifier_model.h5')"
      ],
      "execution_count": 26,
      "outputs": [
        {
          "output_type": "stream",
          "text": [
            "tracking <tf.Variable 'mel_stft_2/real_kernels:0' shape=(1024, 1, 1, 513) dtype=float32> dft_real_kernels\n",
            "tracking <tf.Variable 'mel_stft_2/imag_kernels:0' shape=(1024, 1, 1, 513) dtype=float32> dft_imag_kernels\n",
            "tracking <tf.Variable 'mel_stft_2/Variable:0' shape=(513, 80) dtype=float32> freq2mel\n"
          ],
          "name": "stdout"
        }
      ]
    },
    {
      "cell_type": "markdown",
      "metadata": {
        "id": "7H806kWpDoMV",
        "colab_type": "text"
      },
      "source": [
        "### Draw confusion matrix"
      ]
    },
    {
      "cell_type": "code",
      "metadata": {
        "id": "x471y59uDpqj",
        "colab_type": "code",
        "outputId": "d511786f-0bb2-4f87-94a8-0e2ec9053f78",
        "colab": {
          "base_uri": "https://localhost:8080/",
          "height": 35
        }
      },
      "source": [
        "from sklearn.metrics import confusion_matrix\n",
        "# Get y_pred_test\n",
        "y_pred = []\n",
        "y_test = []\n",
        "for i in tqdm(range(validation_steps)):\n",
        "  data, label = next(test_generator)\n",
        "  four_class_probs = evaluate_model.predict(data)\n",
        "  y_pred.extend(np.argmax(four_class_probs, axis=-1))\n",
        "  y_test.extend(np.argmax(label, axis=-1))\n",
        "\n",
        "confusion_mat = confusion_matrix(y_test, y_pred)"
      ],
      "execution_count": 27,
      "outputs": [
        {
          "output_type": "stream",
          "text": [
            "100%|██████████| 21/21 [01:40<00:00,  4.80s/it]\n"
          ],
          "name": "stderr"
        }
      ]
    },
    {
      "cell_type": "code",
      "metadata": {
        "id": "MNMl9ygFE2ek",
        "colab_type": "code",
        "outputId": "3a978c7a-492d-42a8-caee-6e36b2ef0669",
        "colab": {
          "base_uri": "https://localhost:8080/",
          "height": 273
        }
      },
      "source": [
        "import seaborn as sn\n",
        "import pandas as pd\n",
        "import matplotlib.pyplot as plt\n",
        "\n",
        "df_cm = pd.DataFrame(confusion_mat, range(confusion_mat.shape[0]), range(confusion_mat.shape[1]))\n",
        "sn.set(font_scale=1.4) # for label size\n",
        "sn.heatmap(df_cm, annot=True, cmap='Blues', fmt='d')\n",
        "plt.show()"
      ],
      "execution_count": 28,
      "outputs": [
        {
          "output_type": "display_data",
          "data": {
            "image/png": "[encoded data removed]",
            "text/plain": [
              "<Figure size 432x288 with 2 Axes>"
            ]
          },
          "metadata": {
            "tags": []
          }
        }
      ]
    },
    {
      "cell_type": "code",
      "metadata": {
        "id": "oPu8HeZhdrdJ",
        "colab_type": "code",
        "colab": {}
      },
      "source": [
        "# debug_name_list = ['宝鐘マリン', '白上フブキ', '天音かなた', '夏色まつり']\n",
        "\n",
        "# up_total = 0\n",
        "\n",
        "# for i in range(len(y_pred)):\n",
        "#   if up_total == 50:\n",
        "#     pdb.set_trace()\n",
        "#   if y_pred[i] != y_test[i]:\n",
        "#     plt.plot(X_test[i], color = 'orange', label='incorrect data')\n",
        "#     plt.title(f\"pred: {y_pred[i]}, real: {y_test[i]}\")\n",
        "#     plt.show()\n",
        "#     print(f\" 预测: {debug_name_list[y_pred[i]]}, 实际: {debug_name_list[y_test[i]]}\")\n",
        "#     for j in range(4):\n",
        "#       print(f\"{debug_name_list[j]}: {four_class_probs[i][j]}\")\n",
        "#     IPython.display.display(IPython.display.Audio(np.asarray(X_test[i]).T, rate=8000))\n",
        "#     up_total += 1\n",
        "    "
      ],
      "execution_count": 0,
      "outputs": []
    }
  ]
}