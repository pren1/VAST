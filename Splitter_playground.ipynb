{
  "nbformat": 4,
  "nbformat_minor": 0,
  "metadata": {
    "colab": {
      "name": "Splitter_playground.ipynb",
      "provenance": [],
      "collapsed_sections": [],
      "authorship_tag": "ABX9TyNCR/a4Pphq9OJeddrbjzPk",
      "include_colab_link": true
    },
    "kernelspec": {
      "name": "python3",
      "display_name": "Python 3"
    },
    "accelerator": "TPU"
  },
  "cells": [
    {
      "cell_type": "markdown",
      "metadata": {
        "id": "view-in-github",
        "colab_type": "text"
      },
      "source": [
        "<a href=\"https://colab.research.google.com/github/pren1/VAST/blob/master/Splitter_playground.ipynb\" target=\"_parent\"><img src=\"https://colab.research.google.com/assets/colab-badge.svg\" alt=\"Open In Colab\"/></a>"
      ]
    },
    {
      "cell_type": "code",
      "metadata": {
        "id": "czEROTY595JP",
        "colab_type": "code",
        "colab": {}
      },
      "source": [
        "# %tensorflow_version 1.x"
      ],
      "execution_count": 0,
      "outputs": []
    },
    {
      "cell_type": "code",
      "metadata": {
        "id": "twI28paZ7ETZ",
        "colab_type": "code",
        "outputId": "a40ccf53-da2f-488a-a92c-db833c6c6444",
        "colab": {
          "base_uri": "https://localhost:8080/",
          "height": 417
        }
      },
      "source": [
        "!rm -rf VAST/\n",
        "!git clone https://github.com/pren1/VAST.git\n",
        "!pip3 install soundfile\n",
        "!pip3 install librosa"
      ],
      "execution_count": 2,
      "outputs": [
        {
          "output_type": "stream",
          "text": [
            "Cloning into 'VAST'...\n",
            "remote: Enumerating objects: 153, done.\u001b[K\n",
            "remote: Counting objects: 100% (153/153), done.\u001b[K\n",
            "remote: Compressing objects: 100% (121/121), done.\u001b[K\n",
            "remote: Total 153 (delta 71), reused 66 (delta 24), pack-reused 0\u001b[K\n",
            "Receiving objects: 100% (153/153), 47.09 MiB | 10.04 MiB/s, done.\n",
            "Resolving deltas: 100% (71/71), done.\n",
            "Requirement already satisfied: soundfile in /usr/local/lib/python3.6/dist-packages (0.10.3.post1)\n",
            "Requirement already satisfied: cffi>=1.0 in /usr/local/lib/python3.6/dist-packages (from soundfile) (1.14.0)\n",
            "Requirement already satisfied: pycparser in /usr/local/lib/python3.6/dist-packages (from cffi>=1.0->soundfile) (2.20)\n",
            "Requirement already satisfied: librosa in /usr/local/lib/python3.6/dist-packages (0.6.3)\n",
            "Requirement already satisfied: numpy>=1.8.0 in /usr/local/lib/python3.6/dist-packages (from librosa) (1.18.4)\n",
            "Requirement already satisfied: scipy>=1.0.0 in /usr/local/lib/python3.6/dist-packages (from librosa) (1.4.1)\n",
            "Requirement already satisfied: numba>=0.38.0 in /usr/local/lib/python3.6/dist-packages (from librosa) (0.48.0)\n",
            "Requirement already satisfied: resampy>=0.2.0 in /usr/local/lib/python3.6/dist-packages (from librosa) (0.2.2)\n",
            "Requirement already satisfied: decorator>=3.0.0 in /usr/local/lib/python3.6/dist-packages (from librosa) (4.4.2)\n",
            "Requirement already satisfied: scikit-learn!=0.19.0,>=0.14.0 in /usr/local/lib/python3.6/dist-packages (from librosa) (0.22.2.post1)\n",
            "Requirement already satisfied: joblib>=0.12 in /usr/local/lib/python3.6/dist-packages (from librosa) (0.15.1)\n",
            "Requirement already satisfied: six>=1.3 in /usr/local/lib/python3.6/dist-packages (from librosa) (1.12.0)\n",
            "Requirement already satisfied: audioread>=2.0.0 in /usr/local/lib/python3.6/dist-packages (from librosa) (2.1.8)\n",
            "Requirement already satisfied: llvmlite<0.32.0,>=0.31.0dev0 in /usr/local/lib/python3.6/dist-packages (from numba>=0.38.0->librosa) (0.31.0)\n",
            "Requirement already satisfied: setuptools in /usr/local/lib/python3.6/dist-packages (from numba>=0.38.0->librosa) (46.3.0)\n"
          ],
          "name": "stdout"
        }
      ]
    },
    {
      "cell_type": "code",
      "metadata": {
        "id": "bAbJHx787OHV",
        "colab_type": "code",
        "colab": {}
      },
      "source": [
        "from VAST.util import *\n",
        "import pdb\n",
        "import pprint\n",
        "from tqdm import tqdm\n",
        "import numpy as np\n",
        "import IPython\n",
        "import soundfile as sf\n",
        "import matplotlib.pyplot as plt\n",
        "import librosa\n",
        "import os\n",
        "from tqdm import trange"
      ],
      "execution_count": 0,
      "outputs": []
    },
    {
      "cell_type": "code",
      "metadata": {
        "id": "CAksJZUD7OWN",
        "colab_type": "code",
        "outputId": "3978f960-bb77-45e6-acd3-31598b2e9844",
        "colab": {
          "base_uri": "https://localhost:8080/",
          "height": 35
        }
      },
      "source": [
        "from google.colab import drive\n",
        "drive.mount('/content/gdrive')"
      ],
      "execution_count": 4,
      "outputs": [
        {
          "output_type": "stream",
          "text": [
            "Drive already mounted at /content/gdrive; to attempt to forcibly remount, call drive.mount(\"/content/gdrive\", force_remount=True).\n"
          ],
          "name": "stdout"
        }
      ]
    },
    {
      "cell_type": "code",
      "metadata": {
        "id": "IfYr7P78cWiU",
        "colab_type": "code",
        "colab": {}
      },
      "source": [
        "# adapted from Keith Ito's tacotron implementation\n",
        "# https://github.com/keithito/tacotron/blob/master/util/audio.py\n",
        "\n",
        "import librosa\n",
        "import numpy as np\n",
        "\n",
        "\n",
        "class Audio():\n",
        "    def __init__(self):\n",
        "        self.ref_level_db = 20.0\n",
        "        self.n_fft = 1200\n",
        "        self.hop_length = 160\n",
        "        self.win_length = 400\n",
        "        self.min_level_db = -100.0\n",
        "\n",
        "    def wav2spec(self, y):\n",
        "        D = self.stft(y)\n",
        "        S = self.amp_to_db(np.abs(D)) - self.ref_level_db\n",
        "        S, D = self.normalize(S), np.angle(D)\n",
        "        S, D = S.T, D.T # to make [time, freq]\n",
        "        return S, D\n",
        "\n",
        "    def spec2wav(self, spectrogram, phase):\n",
        "        spectrogram, phase = spectrogram.T, phase.T\n",
        "        # used during inference only\n",
        "        # spectrogram: enhanced output\n",
        "        # phase: use noisy input's phase, so no GLA is required\n",
        "        S = self.db_to_amp(self.denormalize(spectrogram) + self.ref_level_db)\n",
        "        return self.istft(S, phase)\n",
        "\n",
        "    def stft(self, y):\n",
        "        return librosa.stft(y=y, n_fft=self.n_fft,\n",
        "                            hop_length=self.hop_length,\n",
        "                            win_length=self.win_length)\n",
        "\n",
        "    def istft(self, mag, phase):\n",
        "        stft_matrix = mag * np.exp(1j*phase)\n",
        "        return librosa.istft(stft_matrix,\n",
        "                             hop_length=self.hop_length,\n",
        "                             win_length=self.win_length)\n",
        "\n",
        "    def amp_to_db(self, x):\n",
        "        return 20.0 * np.log10(np.maximum(1e-5, x))\n",
        "\n",
        "    def db_to_amp(self, x):\n",
        "        return np.power(10.0, x * 0.05)\n",
        "\n",
        "    def normalize(self, S):\n",
        "        return np.clip(S / -self.min_level_db, -1.0, 0.0) + 1.0\n",
        "\n",
        "    def denormalize(self, S):\n",
        "        return (np.clip(S, 0.0, 1.0) - 1.0) * -self.min_level_db\n",
        "\n",
        "audio = Audio()"
      ],
      "execution_count": 0,
      "outputs": []
    },
    {
      "cell_type": "code",
      "metadata": {
        "id": "vo7t986-nHjx",
        "colab_type": "code",
        "colab": {}
      },
      "source": [
        "embedding_matrix = np.asarray([[ 0.67218363, -1.6871625 ,  0.39094335,  0.45416522,  3.060402  ,\n",
        "        -2.87009   , -0.29556486, -1.8322845 ,  2.287039  , -1.5228181 ,\n",
        "         2.8732414 ,  2.1143398 , -3.355237  , -0.4983314 , -2.6186857 ,\n",
        "         1.3060979 , -0.8364598 , -0.9532552 , -0.22835416,  0.8867765 ,\n",
        "         1.5227174 ,  1.2176653 , -0.9880353 , -0.32890812,  2.618597  ,\n",
        "        -2.7140734 , -2.3689802 ,  0.7710235 ,  1.9084004 ,  0.8810432 ,\n",
        "         2.6237597 , -2.6608293 ],\n",
        "         [-0.8265083 , -1.6049656 ,  1.5085448 ,  0.6589694 ,  2.1224942 ,\n",
        "         2.3647609 ,  0.11735925,  1.1543381 ,  0.99229884,  1.4278704 ,\n",
        "         0.5712279 , -1.5206277 ,  0.30854183, -2.6490169 ,  1.3902934 ,\n",
        "        -0.23975304,  0.94975144, -2.0093975 ,  0.17497058, -1.0554106 ,\n",
        "        -2.172874  , -1.5222347 ,  0.563387  ,  2.239781  , -0.96120906,\n",
        "        -0.42689592,  2.4739625 , -2.362247  , -0.98188835,  0.16969077,\n",
        "        -0.6247616 ,  0.04511972],\n",
        "        [ 0.0985966 ,  0.9150637 ,  2.2399673 , -2.6504104 , -1.3134806 ,\n",
        "        -1.8142706 , -0.18147974, -1.2972969 , -1.2393317 ,  1.5120008 ,\n",
        "         0.9399936 , -0.15138409,  1.557585  ,  0.6709012 , -2.143024  ,\n",
        "         1.276797  , -0.5063797 ,  2.5019035 ,  0.11260484,  1.5303274 ,\n",
        "         1.7554147 ,  1.4767547 ,  2.4642498 ,  1.399184  , -1.5406029 ,\n",
        "         2.0078533 ,  0.1091506 ,  1.1654673 ,  0.0777089 ,  1.4040853 ,\n",
        "        -0.7952607 , -0.1732147 ],\n",
        "        [ 0.47638106,  1.8903663 , -2.9872196 ,  2.3670852 , -2.4623342 ,\n",
        "         2.220159  ,  0.23939389,  1.5010741 , -0.7784126 , -0.54998654,\n",
        "        -2.0378437 , -0.07159348,  0.3601075 ,  1.7380389 ,  2.3474126 ,\n",
        "        -1.0004979 ,  0.47312295, -0.88486624,  0.18921344, -0.43055353,\n",
        "         0.38867134,  0.00616272, -3.2682106 , -2.6373188 ,  2.909382  ,\n",
        "         0.7305331 , -1.1071701 ,  0.9580342 , -1.1098799 , -1.7031851 ,\n",
        "         0.00362744,  2.3521018 ]\n",
        "         ])"
      ],
      "execution_count": 0,
      "outputs": []
    },
    {
      "cell_type": "code",
      "metadata": {
        "id": "YJ7EoJwKnICJ",
        "colab_type": "code",
        "outputId": "4706b03f-e148-4507-b649-a8a4fe1917d6",
        "colab": {
          "base_uri": "https://localhost:8080/",
          "height": 35
        }
      },
      "source": [
        "embedding_matrix.shape"
      ],
      "execution_count": 7,
      "outputs": [
        {
          "output_type": "execute_result",
          "data": {
            "text/plain": [
              "(4, 32)"
            ]
          },
          "metadata": {
            "tags": []
          },
          "execution_count": 7
        }
      ]
    },
    {
      "cell_type": "code",
      "metadata": {
        "id": "LwUWhLBm7VN_",
        "colab_type": "code",
        "colab": {}
      },
      "source": [
        "import math\n",
        "import tensorflow as tf\n",
        "\n",
        "def trunk_network(conv_size = 64, LSTM_size = 400, input_size = (51, 601), dropout_rate = 0.3):\n",
        "    inputs = tf.keras.layers.Input(input_size)\n",
        "\n",
        "    speaker_embeddings = tf.keras.Input(shape=(1, 32), dtype=tf.float32)\n",
        "    \n",
        "    x = tf.keras.layers.Reshape((input_size[0],  input_size[1], 1))(inputs)\n",
        "    # cnn1\n",
        "    x = tf.keras.layers.ZeroPadding2D(padding=((0, 0), (3, 3)))(x)\n",
        "    x = tf.keras.layers.Conv2D(conv_size, (1, 7))(x)\n",
        "    x = tf.keras.layers.BatchNormalization()(x)\n",
        "    x = tf.keras.layers.ReLU()(x)\n",
        "    x = tf.keras.layers.Dropout(dropout_rate)(x)\n",
        "\n",
        "    # cnn2\n",
        "    x = tf.keras.layers.ZeroPadding2D(padding=((3, 3), (0, 0)))(x)\n",
        "    x = tf.keras.layers.Conv2D(conv_size, (7, 1))(x)\n",
        "    x = tf.keras.layers.BatchNormalization()(x)\n",
        "    x = tf.keras.layers.ReLU()(x)\n",
        "    x = tf.keras.layers.Dropout(dropout_rate)(x)\n",
        "\n",
        "    # cnn3\n",
        "    x = tf.keras.layers.ZeroPadding2D(padding=((2, 2), (2, 2)))(x)\n",
        "    x = tf.keras.layers.Conv2D(conv_size, (5, 5))(x)\n",
        "    x = tf.keras.layers.BatchNormalization()(x)\n",
        "    x = tf.keras.layers.ReLU()(x)\n",
        "    x = tf.keras.layers.Dropout(dropout_rate)(x)\n",
        "\n",
        "    # # cnn1\n",
        "    # x = tf.keras.layers.ZeroPadding2D(padding=((0, 0), (3, 3)))(x)\n",
        "    # x = tf.keras.layers.Conv2D(conv_size, (1, 7))(x)\n",
        "    # x = tf.keras.layers.BatchNormalization()(x)\n",
        "    # x = tf.keras.layers.ReLU()(x)\n",
        "    # x = tf.keras.layers.Dropout(dropout_rate)(x)\n",
        "\n",
        "    # # cnn2\n",
        "    # x = tf.keras.layers.ZeroPadding2D(padding=((3, 3), (0, 0)))(x)\n",
        "    # x = tf.keras.layers.Conv2D(conv_size, (7, 1))(x)\n",
        "    # x = tf.keras.layers.BatchNormalization()(x)\n",
        "    # x = tf.keras.layers.ReLU()(x)\n",
        "    # x = tf.keras.layers.Dropout(dropout_rate)(x)\n",
        "\n",
        "    # cnn3\n",
        "    x = tf.keras.layers.ZeroPadding2D(padding=((2, 2), (2, 2)))(x)\n",
        "    x = tf.keras.layers.Conv2D(conv_size, (5, 5))(x)\n",
        "    x = tf.keras.layers.BatchNormalization()(x)\n",
        "    x = tf.keras.layers.ReLU()(x)\n",
        "    x = tf.keras.layers.Dropout(dropout_rate)(x)\n",
        "\n",
        "    # cnn3\n",
        "    x = tf.keras.layers.ZeroPadding2D(padding=((2, 2), (2, 2)))(x)\n",
        "    x = tf.keras.layers.Conv2D(conv_size, (5, 5))(x)\n",
        "    x = tf.keras.layers.BatchNormalization()(x)\n",
        "    x = tf.keras.layers.ReLU()(x)\n",
        "    x = tf.keras.layers.Dropout(dropout_rate)(x)\n",
        "\n",
        "    # cnn3\n",
        "    x = tf.keras.layers.ZeroPadding2D(padding=((2, 2), (2, 2)))(x)\n",
        "    x = tf.keras.layers.Conv2D(conv_size, (5, 5))(x)\n",
        "    x = tf.keras.layers.BatchNormalization()(x)\n",
        "    x = tf.keras.layers.ReLU()(x)\n",
        "    x = tf.keras.layers.Dropout(dropout_rate)(x)\n",
        "\n",
        "    # # # cnn4\n",
        "    # x = tf.keras.layers.ZeroPadding2D(padding=((4, 4), (2, 2)))(x)\n",
        "    # x = tf.keras.layers.Conv2D(conv_size, (5, 5), dilation_rate=(2, 1))(x)\n",
        "    # x = tf.keras.layers.BatchNormalization()(x)\n",
        "    # x = tf.keras.layers.ReLU()(x)\n",
        "    # pdb.set_trace()\n",
        "\n",
        "    # # cnn5\n",
        "    # x = tf.keras.layers.ZeroPadding2D(padding=((8, 8), (2, 2)))(x)     \n",
        "    # x = tf.keras.layers.Conv2D(conv_size, (5, 5), dilation_rate=(4, 1))(x)       \n",
        "    # x = tf.keras.layers.BatchNormalization()(x)\n",
        "    # x = tf.keras.layers.ReLU()(x)\n",
        "\n",
        "    # # cnn6\n",
        "    # x = tf.keras.layers.ZeroPadding2D(padding=((16, 16), (2, 2)))(x)                 \n",
        "    # x = tf.keras.layers.Conv2D(conv_size, (5, 5), dilation_rate=(8, 1))(x) \n",
        "    # x = tf.keras.layers.BatchNormalization()(x)\n",
        "    # x = tf.keras.layers.ReLU()(x)\n",
        "\n",
        "    # # cnn7 TensorShape([None, 51, 601, conv_size])\n",
        "    # x = tf.keras.layers.ZeroPadding2D(padding=((32, 32), (2, 2)))(x)\n",
        "    # x = tf.keras.layers.Conv2D(conv_size, (5, 5), dilation_rate=(16, 1))(x)     \n",
        "    # x = tf.keras.layers.BatchNormalization()(x)\n",
        "    # x = tf.keras.layers.ReLU()(x)\n",
        "\n",
        "    # cnn8 TensorShape([None, 51, 601, 8])\n",
        "    x = tf.keras.layers.Conv2D(8, (1, 1))(x)     \n",
        "    x = tf.keras.layers.BatchNormalization()(x)\n",
        "    x = tf.keras.layers.ReLU()(x)\n",
        "    x = tf.keras.layers.Dropout(dropout_rate)(x)\n",
        "\n",
        "    'Reshape x shape TensorShape([None, 51, 4808])'\n",
        "    # x = tf.keras.layers.Reshape((tf.keras.backend.int_shape(x)[1], tf.keras.backend.int_shape(x)[2]*tf.keras.backend.int_shape(x)[3]))(x)\n",
        "    x = tf.keras.layers.Reshape((51, 4808))(x)\n",
        "    repeat_embedding_time_wise = tf.tile(speaker_embeddings, [1, 51, 1])\n",
        "    \n",
        "    x = tf.keras.layers.concatenate([x, repeat_embedding_time_wise],axis=-1)\n",
        "    # LSTM 1\n",
        "    x = tf.keras.layers.Bidirectional(tf.keras.layers.LSTM(LSTM_size, return_sequences=True)\n",
        "                            )(x)  # [b_s, seq_len, vec_dim]\n",
        "    x = tf.keras.layers.Dropout(dropout_rate)(x)                        \n",
        "\n",
        "    # # LSTM 2 TensorShape([None, 51, 800])                                           \n",
        "    # x = tf.keras.layers.Bidirectional(tf.keras.layers.LSTM(LSTM_size, return_sequences=True)\n",
        "    #                         )(x)  # [b_s, seq_len, vec_dim]\n",
        "\n",
        "    x = tf.keras.layers.ReLU()(x)\n",
        "    # Dense 1\n",
        "    x = tf.keras.layers.TimeDistributed(tf.keras.layers.Dense(input_size[1]))(x)\n",
        "    x = tf.keras.layers.ReLU()(x)\n",
        "    x = tf.keras.layers.Dropout(dropout_rate)(x)\n",
        "    # Dense 2\n",
        "    mask = tf.keras.layers.TimeDistributed(tf.keras.layers.Dense(input_size[1], activation='sigmoid'))(x)\n",
        "\n",
        "    output = tf.keras.layers.Multiply()([inputs, mask])\n",
        "    # print(output.shape)\n",
        "    model = tf.keras.Model(inputs=[inputs, speaker_embeddings], outputs=[output])\n",
        "    return model\n",
        "\n",
        "'learning rate decay'\n",
        "def step_decay(epoch):\n",
        "    initial_lrate = 0.001\n",
        "    drop = 0.5\n",
        "    epochs_drop = 10.0\n",
        "    lrate = initial_lrate * math.pow(drop, math.floor((1 + epoch) / epochs_drop))\n",
        "    return lrate    "
      ],
      "execution_count": 0,
      "outputs": []
    },
    {
      "cell_type": "markdown",
      "metadata": {
        "id": "QBwhSxHcVS1E",
        "colab_type": "text"
      },
      "source": [
        "### Prepare data"
      ]
    },
    {
      "cell_type": "code",
      "metadata": {
        "id": "9ehDMj2ac7S-",
        "colab_type": "code",
        "outputId": "14bd2a0d-6412-4f53-b1af-666b6da6b26e",
        "colab": {
          "base_uri": "https://localhost:8080/",
          "height": 745
        }
      },
      "source": [
        "resolver = tf.distribute.cluster_resolver.TPUClusterResolver(tpu='grpc://' + os.environ['COLAB_TPU_ADDR'])\n",
        "tf.config.experimental_connect_to_cluster(resolver)\n",
        "# This is the TPU initialization code that has to be at the beginning.\n",
        "tf.tpu.experimental.initialize_tpu_system(resolver)\n",
        "strategy = tf.distribute.experimental.TPUStrategy(resolver)\n",
        "with strategy.scope():\n",
        "  model = trunk_network(conv_size = 64, LSTM_size = 400)\n",
        "  model.compile(optimizer=tf.keras.optimizers.Adam(0.01), loss=['mse'])\n",
        "  lrate = tf.keras.callbacks.LearningRateScheduler(step_decay)"
      ],
      "execution_count": 9,
      "outputs": [
        {
          "output_type": "stream",
          "text": [
            "INFO:tensorflow:Initializing the TPU system: grpc://10.26.150.58:8470\n"
          ],
          "name": "stdout"
        },
        {
          "output_type": "stream",
          "text": [
            "INFO:tensorflow:Initializing the TPU system: grpc://10.26.150.58:8470\n"
          ],
          "name": "stderr"
        },
        {
          "output_type": "stream",
          "text": [
            "INFO:tensorflow:Clearing out eager caches\n"
          ],
          "name": "stdout"
        },
        {
          "output_type": "stream",
          "text": [
            "INFO:tensorflow:Clearing out eager caches\n"
          ],
          "name": "stderr"
        },
        {
          "output_type": "stream",
          "text": [
            "INFO:tensorflow:Finished initializing TPU system.\n"
          ],
          "name": "stdout"
        },
        {
          "output_type": "stream",
          "text": [
            "INFO:tensorflow:Finished initializing TPU system.\n"
          ],
          "name": "stderr"
        },
        {
          "output_type": "stream",
          "text": [
            "INFO:tensorflow:Found TPU system:\n"
          ],
          "name": "stdout"
        },
        {
          "output_type": "stream",
          "text": [
            "INFO:tensorflow:Found TPU system:\n"
          ],
          "name": "stderr"
        },
        {
          "output_type": "stream",
          "text": [
            "INFO:tensorflow:*** Num TPU Cores: 8\n"
          ],
          "name": "stdout"
        },
        {
          "output_type": "stream",
          "text": [
            "INFO:tensorflow:*** Num TPU Cores: 8\n"
          ],
          "name": "stderr"
        },
        {
          "output_type": "stream",
          "text": [
            "INFO:tensorflow:*** Num TPU Workers: 1\n"
          ],
          "name": "stdout"
        },
        {
          "output_type": "stream",
          "text": [
            "INFO:tensorflow:*** Num TPU Workers: 1\n"
          ],
          "name": "stderr"
        },
        {
          "output_type": "stream",
          "text": [
            "INFO:tensorflow:*** Num TPU Cores Per Worker: 8\n"
          ],
          "name": "stdout"
        },
        {
          "output_type": "stream",
          "text": [
            "INFO:tensorflow:*** Num TPU Cores Per Worker: 8\n"
          ],
          "name": "stderr"
        },
        {
          "output_type": "stream",
          "text": [
            "INFO:tensorflow:*** Available Device: _DeviceAttributes(/job:localhost/replica:0/task:0/device:CPU:0, CPU, 0, 0)\n"
          ],
          "name": "stdout"
        },
        {
          "output_type": "stream",
          "text": [
            "INFO:tensorflow:*** Available Device: _DeviceAttributes(/job:localhost/replica:0/task:0/device:CPU:0, CPU, 0, 0)\n"
          ],
          "name": "stderr"
        },
        {
          "output_type": "stream",
          "text": [
            "INFO:tensorflow:*** Available Device: _DeviceAttributes(/job:localhost/replica:0/task:0/device:XLA_CPU:0, XLA_CPU, 0, 0)\n"
          ],
          "name": "stdout"
        },
        {
          "output_type": "stream",
          "text": [
            "INFO:tensorflow:*** Available Device: _DeviceAttributes(/job:localhost/replica:0/task:0/device:XLA_CPU:0, XLA_CPU, 0, 0)\n"
          ],
          "name": "stderr"
        },
        {
          "output_type": "stream",
          "text": [
            "INFO:tensorflow:*** Available Device: _DeviceAttributes(/job:worker/replica:0/task:0/device:CPU:0, CPU, 0, 0)\n"
          ],
          "name": "stdout"
        },
        {
          "output_type": "stream",
          "text": [
            "INFO:tensorflow:*** Available Device: _DeviceAttributes(/job:worker/replica:0/task:0/device:CPU:0, CPU, 0, 0)\n"
          ],
          "name": "stderr"
        },
        {
          "output_type": "stream",
          "text": [
            "INFO:tensorflow:*** Available Device: _DeviceAttributes(/job:worker/replica:0/task:0/device:TPU:0, TPU, 0, 0)\n"
          ],
          "name": "stdout"
        },
        {
          "output_type": "stream",
          "text": [
            "INFO:tensorflow:*** Available Device: _DeviceAttributes(/job:worker/replica:0/task:0/device:TPU:0, TPU, 0, 0)\n"
          ],
          "name": "stderr"
        },
        {
          "output_type": "stream",
          "text": [
            "INFO:tensorflow:*** Available Device: _DeviceAttributes(/job:worker/replica:0/task:0/device:TPU:1, TPU, 0, 0)\n"
          ],
          "name": "stdout"
        },
        {
          "output_type": "stream",
          "text": [
            "INFO:tensorflow:*** Available Device: _DeviceAttributes(/job:worker/replica:0/task:0/device:TPU:1, TPU, 0, 0)\n"
          ],
          "name": "stderr"
        },
        {
          "output_type": "stream",
          "text": [
            "INFO:tensorflow:*** Available Device: _DeviceAttributes(/job:worker/replica:0/task:0/device:TPU:2, TPU, 0, 0)\n"
          ],
          "name": "stdout"
        },
        {
          "output_type": "stream",
          "text": [
            "INFO:tensorflow:*** Available Device: _DeviceAttributes(/job:worker/replica:0/task:0/device:TPU:2, TPU, 0, 0)\n"
          ],
          "name": "stderr"
        },
        {
          "output_type": "stream",
          "text": [
            "INFO:tensorflow:*** Available Device: _DeviceAttributes(/job:worker/replica:0/task:0/device:TPU:3, TPU, 0, 0)\n"
          ],
          "name": "stdout"
        },
        {
          "output_type": "stream",
          "text": [
            "INFO:tensorflow:*** Available Device: _DeviceAttributes(/job:worker/replica:0/task:0/device:TPU:3, TPU, 0, 0)\n"
          ],
          "name": "stderr"
        },
        {
          "output_type": "stream",
          "text": [
            "INFO:tensorflow:*** Available Device: _DeviceAttributes(/job:worker/replica:0/task:0/device:TPU:4, TPU, 0, 0)\n"
          ],
          "name": "stdout"
        },
        {
          "output_type": "stream",
          "text": [
            "INFO:tensorflow:*** Available Device: _DeviceAttributes(/job:worker/replica:0/task:0/device:TPU:4, TPU, 0, 0)\n"
          ],
          "name": "stderr"
        },
        {
          "output_type": "stream",
          "text": [
            "INFO:tensorflow:*** Available Device: _DeviceAttributes(/job:worker/replica:0/task:0/device:TPU:5, TPU, 0, 0)\n"
          ],
          "name": "stdout"
        },
        {
          "output_type": "stream",
          "text": [
            "INFO:tensorflow:*** Available Device: _DeviceAttributes(/job:worker/replica:0/task:0/device:TPU:5, TPU, 0, 0)\n"
          ],
          "name": "stderr"
        },
        {
          "output_type": "stream",
          "text": [
            "INFO:tensorflow:*** Available Device: _DeviceAttributes(/job:worker/replica:0/task:0/device:TPU:6, TPU, 0, 0)\n"
          ],
          "name": "stdout"
        },
        {
          "output_type": "stream",
          "text": [
            "INFO:tensorflow:*** Available Device: _DeviceAttributes(/job:worker/replica:0/task:0/device:TPU:6, TPU, 0, 0)\n"
          ],
          "name": "stderr"
        },
        {
          "output_type": "stream",
          "text": [
            "INFO:tensorflow:*** Available Device: _DeviceAttributes(/job:worker/replica:0/task:0/device:TPU:7, TPU, 0, 0)\n"
          ],
          "name": "stdout"
        },
        {
          "output_type": "stream",
          "text": [
            "INFO:tensorflow:*** Available Device: _DeviceAttributes(/job:worker/replica:0/task:0/device:TPU:7, TPU, 0, 0)\n"
          ],
          "name": "stderr"
        },
        {
          "output_type": "stream",
          "text": [
            "INFO:tensorflow:*** Available Device: _DeviceAttributes(/job:worker/replica:0/task:0/device:TPU_SYSTEM:0, TPU_SYSTEM, 0, 0)\n"
          ],
          "name": "stdout"
        },
        {
          "output_type": "stream",
          "text": [
            "INFO:tensorflow:*** Available Device: _DeviceAttributes(/job:worker/replica:0/task:0/device:TPU_SYSTEM:0, TPU_SYSTEM, 0, 0)\n"
          ],
          "name": "stderr"
        },
        {
          "output_type": "stream",
          "text": [
            "INFO:tensorflow:*** Available Device: _DeviceAttributes(/job:worker/replica:0/task:0/device:XLA_CPU:0, XLA_CPU, 0, 0)\n"
          ],
          "name": "stdout"
        },
        {
          "output_type": "stream",
          "text": [
            "INFO:tensorflow:*** Available Device: _DeviceAttributes(/job:worker/replica:0/task:0/device:XLA_CPU:0, XLA_CPU, 0, 0)\n"
          ],
          "name": "stderr"
        }
      ]
    },
    {
      "cell_type": "code",
      "metadata": {
        "id": "ylpzMlb5jQL2",
        "colab_type": "code",
        "outputId": "e62710fa-d370-4677-f63a-a17109c86cdb",
        "colab": {
          "base_uri": "https://localhost:8080/",
          "height": 1000
        }
      },
      "source": [
        "model.summary()"
      ],
      "execution_count": 10,
      "outputs": [
        {
          "output_type": "stream",
          "text": [
            "Model: \"model\"\n",
            "__________________________________________________________________________________________________\n",
            "Layer (type)                    Output Shape         Param #     Connected to                     \n",
            "==================================================================================================\n",
            "input_1 (InputLayer)            [(None, 51, 601)]    0                                            \n",
            "__________________________________________________________________________________________________\n",
            "reshape (Reshape)               (None, 51, 601, 1)   0           input_1[0][0]                    \n",
            "__________________________________________________________________________________________________\n",
            "zero_padding2d (ZeroPadding2D)  (None, 51, 607, 1)   0           reshape[0][0]                    \n",
            "__________________________________________________________________________________________________\n",
            "conv2d (Conv2D)                 (None, 51, 601, 64)  512         zero_padding2d[0][0]             \n",
            "__________________________________________________________________________________________________\n",
            "batch_normalization (BatchNorma (None, 51, 601, 64)  256         conv2d[0][0]                     \n",
            "__________________________________________________________________________________________________\n",
            "re_lu (ReLU)                    (None, 51, 601, 64)  0           batch_normalization[0][0]        \n",
            "__________________________________________________________________________________________________\n",
            "dropout (Dropout)               (None, 51, 601, 64)  0           re_lu[0][0]                      \n",
            "__________________________________________________________________________________________________\n",
            "zero_padding2d_1 (ZeroPadding2D (None, 57, 601, 64)  0           dropout[0][0]                    \n",
            "__________________________________________________________________________________________________\n",
            "conv2d_1 (Conv2D)               (None, 51, 601, 64)  28736       zero_padding2d_1[0][0]           \n",
            "__________________________________________________________________________________________________\n",
            "batch_normalization_1 (BatchNor (None, 51, 601, 64)  256         conv2d_1[0][0]                   \n",
            "__________________________________________________________________________________________________\n",
            "re_lu_1 (ReLU)                  (None, 51, 601, 64)  0           batch_normalization_1[0][0]      \n",
            "__________________________________________________________________________________________________\n",
            "dropout_1 (Dropout)             (None, 51, 601, 64)  0           re_lu_1[0][0]                    \n",
            "__________________________________________________________________________________________________\n",
            "zero_padding2d_2 (ZeroPadding2D (None, 55, 605, 64)  0           dropout_1[0][0]                  \n",
            "__________________________________________________________________________________________________\n",
            "conv2d_2 (Conv2D)               (None, 51, 601, 64)  102464      zero_padding2d_2[0][0]           \n",
            "__________________________________________________________________________________________________\n",
            "batch_normalization_2 (BatchNor (None, 51, 601, 64)  256         conv2d_2[0][0]                   \n",
            "__________________________________________________________________________________________________\n",
            "re_lu_2 (ReLU)                  (None, 51, 601, 64)  0           batch_normalization_2[0][0]      \n",
            "__________________________________________________________________________________________________\n",
            "dropout_2 (Dropout)             (None, 51, 601, 64)  0           re_lu_2[0][0]                    \n",
            "__________________________________________________________________________________________________\n",
            "zero_padding2d_3 (ZeroPadding2D (None, 55, 605, 64)  0           dropout_2[0][0]                  \n",
            "__________________________________________________________________________________________________\n",
            "conv2d_3 (Conv2D)               (None, 51, 601, 64)  102464      zero_padding2d_3[0][0]           \n",
            "__________________________________________________________________________________________________\n",
            "batch_normalization_3 (BatchNor (None, 51, 601, 64)  256         conv2d_3[0][0]                   \n",
            "__________________________________________________________________________________________________\n",
            "re_lu_3 (ReLU)                  (None, 51, 601, 64)  0           batch_normalization_3[0][0]      \n",
            "__________________________________________________________________________________________________\n",
            "dropout_3 (Dropout)             (None, 51, 601, 64)  0           re_lu_3[0][0]                    \n",
            "__________________________________________________________________________________________________\n",
            "zero_padding2d_4 (ZeroPadding2D (None, 55, 605, 64)  0           dropout_3[0][0]                  \n",
            "__________________________________________________________________________________________________\n",
            "conv2d_4 (Conv2D)               (None, 51, 601, 64)  102464      zero_padding2d_4[0][0]           \n",
            "__________________________________________________________________________________________________\n",
            "batch_normalization_4 (BatchNor (None, 51, 601, 64)  256         conv2d_4[0][0]                   \n",
            "__________________________________________________________________________________________________\n",
            "re_lu_4 (ReLU)                  (None, 51, 601, 64)  0           batch_normalization_4[0][0]      \n",
            "__________________________________________________________________________________________________\n",
            "dropout_4 (Dropout)             (None, 51, 601, 64)  0           re_lu_4[0][0]                    \n",
            "__________________________________________________________________________________________________\n",
            "zero_padding2d_5 (ZeroPadding2D (None, 55, 605, 64)  0           dropout_4[0][0]                  \n",
            "__________________________________________________________________________________________________\n",
            "conv2d_5 (Conv2D)               (None, 51, 601, 64)  102464      zero_padding2d_5[0][0]           \n",
            "__________________________________________________________________________________________________\n",
            "batch_normalization_5 (BatchNor (None, 51, 601, 64)  256         conv2d_5[0][0]                   \n",
            "__________________________________________________________________________________________________\n",
            "re_lu_5 (ReLU)                  (None, 51, 601, 64)  0           batch_normalization_5[0][0]      \n",
            "__________________________________________________________________________________________________\n",
            "dropout_5 (Dropout)             (None, 51, 601, 64)  0           re_lu_5[0][0]                    \n",
            "__________________________________________________________________________________________________\n",
            "conv2d_6 (Conv2D)               (None, 51, 601, 8)   520         dropout_5[0][0]                  \n",
            "__________________________________________________________________________________________________\n",
            "batch_normalization_6 (BatchNor (None, 51, 601, 8)   32          conv2d_6[0][0]                   \n",
            "__________________________________________________________________________________________________\n",
            "re_lu_6 (ReLU)                  (None, 51, 601, 8)   0           batch_normalization_6[0][0]      \n",
            "__________________________________________________________________________________________________\n",
            "dropout_6 (Dropout)             (None, 51, 601, 8)   0           re_lu_6[0][0]                    \n",
            "__________________________________________________________________________________________________\n",
            "input_2 (InputLayer)            [(None, 1, 32)]      0                                            \n",
            "__________________________________________________________________________________________________\n",
            "reshape_1 (Reshape)             (None, 51, 4808)     0           dropout_6[0][0]                  \n",
            "__________________________________________________________________________________________________\n",
            "tf_op_layer_Tile (TensorFlowOpL [(None, 51, 32)]     0           input_2[0][0]                    \n",
            "__________________________________________________________________________________________________\n",
            "concatenate (Concatenate)       (None, 51, 4840)     0           reshape_1[0][0]                  \n",
            "                                                                 tf_op_layer_Tile[0][0]           \n",
            "__________________________________________________________________________________________________\n",
            "bidirectional (Bidirectional)   (None, 51, 800)      16771200    concatenate[0][0]                \n",
            "__________________________________________________________________________________________________\n",
            "dropout_7 (Dropout)             (None, 51, 800)      0           bidirectional[0][0]              \n",
            "__________________________________________________________________________________________________\n",
            "re_lu_7 (ReLU)                  (None, 51, 800)      0           dropout_7[0][0]                  \n",
            "__________________________________________________________________________________________________\n",
            "time_distributed (TimeDistribut (None, 51, 601)      481401      re_lu_7[0][0]                    \n",
            "__________________________________________________________________________________________________\n",
            "re_lu_8 (ReLU)                  (None, 51, 601)      0           time_distributed[0][0]           \n",
            "__________________________________________________________________________________________________\n",
            "dropout_8 (Dropout)             (None, 51, 601)      0           re_lu_8[0][0]                    \n",
            "__________________________________________________________________________________________________\n",
            "time_distributed_1 (TimeDistrib (None, 51, 601)      361802      dropout_8[0][0]                  \n",
            "__________________________________________________________________________________________________\n",
            "multiply (Multiply)             (None, 51, 601)      0           input_1[0][0]                    \n",
            "                                                                 time_distributed_1[0][0]         \n",
            "==================================================================================================\n",
            "Total params: 18,055,595\n",
            "Trainable params: 18,054,811\n",
            "Non-trainable params: 784\n",
            "__________________________________________________________________________________________________\n"
          ],
          "name": "stdout"
        }
      ]
    },
    {
      "cell_type": "code",
      "metadata": {
        "id": "Rpb-tUHJ8QqT",
        "colab_type": "code",
        "colab": {}
      },
      "source": [
        "# The batch iterator\n",
        "class BatchIterator:\n",
        "    def __init__(self, data, label, spk_label, batch_size, is_shuffle):\n",
        "        data = np.asarray(data)\n",
        "        label = np.asarray(label)\n",
        "        self.spk_label = np.asarray(spk_label)\n",
        "        self.data = data\n",
        "        self.label = label\n",
        "        self.batch_size = batch_size\n",
        "        self.cursor = 0\n",
        "        self.size = data.shape[0]\n",
        "        self.order = np.arange(self.size)\n",
        "        self.shuffled = False\n",
        "        if is_shuffle:\n",
        "            self.shuffle()\n",
        "\n",
        "    def shuffle(self):\n",
        "        np.random.shuffle(self.order)\n",
        "        # print \"Batch shuffled\"\n",
        "        self.cursor = 0\n",
        "\n",
        "    def next(self):\n",
        "        if self.shuffled==True:\n",
        "            self.shuffled = False\n",
        "        if self.cursor + self.batch_size > self.size:\n",
        "            self.shuffle()\n",
        "            self.shuffled = True\n",
        "        idx = self.order[self.cursor:self.cursor + self.batch_size]\n",
        "        self.cursor += self.batch_size\n",
        "        return self.data[idx], self.label[idx], self.spk_label[idx]"
      ],
      "execution_count": 0,
      "outputs": []
    },
    {
      "cell_type": "code",
      "metadata": {
        "id": "cMvHoLTsSfCe",
        "colab_type": "code",
        "colab": {}
      },
      "source": [
        "def evaluate_results(model, X_test, y_test, test_label):\n",
        "  test_res = model.predict([X_test, test_label])\n",
        "  mse = (np.square(test_res - y_test)).mean(axis=None)\n",
        "  return mse"
      ],
      "execution_count": 0,
      "outputs": []
    },
    {
      "cell_type": "code",
      "metadata": {
        "id": "R9pK3R-bUnnE",
        "colab_type": "code",
        "colab": {}
      },
      "source": [
        "# model.load_weights(f'gdrive/My Drive/Spitter_VTB/{75}_my_model.h5')\n",
        "# model.load_weights(f'gdrive/My Drive/Spitter_VTB/saved_model/115_my_model.h5')\n",
        "model.load_weights(f'gdrive/My Drive/Spitter_VTB/four_speaker.h5')"
      ],
      "execution_count": 0,
      "outputs": []
    },
    {
      "cell_type": "code",
      "metadata": {
        "id": "uNZAbQF3zlt2",
        "colab_type": "code",
        "outputId": "32dcfbb7-b81c-472d-835b-080789ffc9fe",
        "colab": {
          "base_uri": "https://localhost:8080/",
          "height": 35
        }
      },
      "source": [
        "iterations = 150\n",
        "X_test = load_data_array_from_npy(f\"gdrive/My Drive/Free_RAM_VAST/cycle_test_case/cycle_mixed_mag_list.npy\")\n",
        "y_test = load_data_array_from_npy(f\"gdrive/My Drive/Free_RAM_VAST/cycle_test_case/cycle_target_mag_list.npy\")\n",
        "test_label = load_data_array_from_npy(f\"gdrive/My Drive/Free_RAM_VAST/cycle_test_case/cycle_speaker_label.npy\")\n",
        "\n",
        "test_label = np.expand_dims(np.matmul(np.eye(4)[np.asarray(test_label)], embedding_matrix), axis=1)\n",
        "data_counter = 0\n",
        "with trange(iterations) as t:\n",
        "  for iteration in t:\n",
        "    if True:\n",
        "      'load X_train'\n",
        "      target_index = data_counter % 60\n",
        "\n",
        "      X_train = load_data_array_from_npy(f\"gdrive/My Drive/Free_RAM_VAST/cycle_train_case/cycle_mixed_mag_list_{target_index}.npy\")\n",
        "      y_train = load_data_array_from_npy(f\"gdrive/My Drive/Free_RAM_VAST/cycle_train_case/cycle_target_mag_list_{target_index}.npy\")\n",
        "      train_label = load_data_array_from_npy(f\"gdrive/My Drive/Free_RAM_VAST/cycle_train_case/cycle_speaker_label{target_index}.npy\")\n",
        "\n",
        "      train_label = np.expand_dims(np.matmul(np.eye(4)[np.asarray(train_label)], embedding_matrix), axis=1)\n",
        "\n",
        "      print(f\"New data loaded at {target_index}\")\n",
        "      data_counter += 1\n",
        "\n",
        "    model.fit(\n",
        "      x = [X_train, train_label], y = y_train,\n",
        "      # steps_per_epoch=67,\n",
        "      batch_size = 128,\n",
        "      epochs=4,\n",
        "      validation_data = ([X_test, test_label], y_test),\n",
        "      callbacks=[lrate]\n",
        "    )\n",
        "\n",
        "    if iteration % 5 == 0:\n",
        "      model.save_weights(f'gdrive/My Drive/Spitter_VTB/{iteration}_four_speaker_split.h5')"
      ],
      "execution_count": 0,
      "outputs": [
        {
          "output_type": "stream",
          "text": [
            "\r  0%|          | 0/150 [00:00<?, ?it/s]"
          ],
          "name": "stderr"
        },
        {
          "output_type": "stream",
          "text": [
            "New data loaded at 0\n"
          ],
          "name": "stdout"
        }
      ]
    },
    {
      "cell_type": "code",
      "metadata": {
        "id": "2S14xv46UIt4",
        "colab_type": "code",
        "colab": {}
      },
      "source": [
        "model.save_weights(f'gdrive/My Drive/Spitter_VTB/four_speaker.h5')"
      ],
      "execution_count": 0,
      "outputs": []
    },
    {
      "cell_type": "code",
      "metadata": {
        "id": "Y4AZ3NNTg93Z",
        "colab_type": "code",
        "colab": {}
      },
      "source": [
        "test_res = model.predict([X_test, test_label])"
      ],
      "execution_count": 0,
      "outputs": []
    },
    {
      "cell_type": "code",
      "metadata": {
        "id": "bxCsPd1mhL88",
        "colab_type": "code",
        "colab": {}
      },
      "source": [
        "test_res.shape"
      ],
      "execution_count": 0,
      "outputs": []
    },
    {
      "cell_type": "code",
      "metadata": {
        "id": "iguo1isWfLSP",
        "colab_type": "code",
        "colab": {}
      },
      "source": [
        "np.expand_dims(embedding_matrix[0, :], axis=0).shape"
      ],
      "execution_count": 0,
      "outputs": []
    },
    {
      "cell_type": "code",
      "metadata": {
        "id": "Y7FqYldIfNAa",
        "colab_type": "code",
        "colab": {}
      },
      "source": [
        "test_label[0].shape"
      ],
      "execution_count": 0,
      "outputs": []
    },
    {
      "cell_type": "code",
      "metadata": {
        "id": "bnlhIWbDV9Tq",
        "colab_type": "code",
        "colab": {}
      },
      "source": [
        "def reconstruct_wav(mag, phase, plt_name):\n",
        "  resulted_wav = audio.spec2wav(mag, phase)\n",
        "  plt.plot(resulted_wav, color = 'orange', label='resulted_wav')\n",
        "  plt.title(plt_name)\n",
        "  plt.show()\n",
        "  IPython.display.display(IPython.display.Audio(np.asarray(resulted_wav).T, rate=8000))"
      ],
      "execution_count": 0,
      "outputs": []
    },
    {
      "cell_type": "code",
      "metadata": {
        "id": "IFC_3ufx2UlN",
        "colab_type": "code",
        "colab": {}
      },
      "source": [
        "test_phase = load_data_array_from_npy(f\"gdrive/My Drive/Free_RAM_VAST/cycle_test_case/cycle_mixed_phase_list.npy\")"
      ],
      "execution_count": 0,
      "outputs": []
    },
    {
      "cell_type": "code",
      "metadata": {
        "id": "QkLltiOMWlNO",
        "colab_type": "code",
        "colab": {}
      },
      "source": [
        "for i in range(10, 20):\n",
        "  reconstruct_wav(X_test[i], test_phase[i], \"Mixed voice\")\n",
        "  reconstruct_wav(y_test[i], test_phase[i], \"ground truth\")\n",
        "  reconstruct_wav(test_res[i], test_phase[i], \"prediction\")"
      ],
      "execution_count": 0,
      "outputs": []
    },
    {
      "cell_type": "code",
      "metadata": {
        "id": "NIJeVD6BfaXA",
        "colab_type": "code",
        "colab": {}
      },
      "source": [
        "# label_0_embeddings = np.expand_dims(embedding_matrix[0, :], axis=0)\n",
        "# label_1_embeddings = np.expand_dims(embedding_matrix[1, :], axis=0)\n",
        "\n",
        "# for i in range(20, 30):\n",
        "#   label_0_res = model.predict([np.expand_dims(X_test[i], axis=0), np.expand_dims(label_0_embeddings, axis=0)])\n",
        "#   label_1_res = model.predict([np.expand_dims(X_test[i], axis=0), np.expand_dims(label_1_embeddings, axis=0)])\n",
        "\n",
        "#   reconstruct_wav(X_test[i], test_phase[i], \"Mixed voice\")\n",
        "#   reconstruct_wav(y_test[i], test_phase[i], \"ground truth\")\n",
        "#   reconstruct_wav(label_0_res[0], test_phase[i], \"prediction: label 0\")\n",
        "#   reconstruct_wav(label_1_res[0], test_phase[i], \"prediction: label 1\")"
      ],
      "execution_count": 0,
      "outputs": []
    }
  ]
}