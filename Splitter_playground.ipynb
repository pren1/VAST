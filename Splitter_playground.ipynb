{
  "nbformat": 4,
  "nbformat_minor": 0,
  "metadata": {
    "colab": {
      "name": "Splitter_playground.ipynb",
      "provenance": [],
      "collapsed_sections": [],
      "machine_shape": "hm",
      "authorship_tag": "ABX9TyP/w6oVBCbXIAQTwPJzN2d3",
      "include_colab_link": true
    },
    "kernelspec": {
      "name": "python3",
      "display_name": "Python 3"
    },
    "accelerator": "TPU"
  },
  "cells": [
    {
      "cell_type": "markdown",
      "metadata": {
        "id": "view-in-github",
        "colab_type": "text"
      },
      "source": [
        "<a href=\"https://colab.research.google.com/github/pren1/VAST/blob/master/Splitter_playground.ipynb\" target=\"_parent\"><img src=\"https://colab.research.google.com/assets/colab-badge.svg\" alt=\"Open In Colab\"/></a>"
      ]
    },
    {
      "cell_type": "code",
      "metadata": {
        "id": "czEROTY595JP",
        "colab_type": "code",
        "colab": {}
      },
      "source": [
        "# %tensorflow_version 1.x"
      ],
      "execution_count": 0,
      "outputs": []
    },
    {
      "cell_type": "code",
      "metadata": {
        "id": "twI28paZ7ETZ",
        "colab_type": "code",
        "outputId": "a7b44c9a-3d7f-4785-9584-e09e6391c90e",
        "colab": {
          "base_uri": "https://localhost:8080/",
          "height": 417
        }
      },
      "source": [
        "!rm -rf VAST/\n",
        "!git clone https://github.com/pren1/VAST.git\n",
        "!pip3 install soundfile\n",
        "!pip3 install librosa"
      ],
      "execution_count": 2,
      "outputs": [
        {
          "output_type": "stream",
          "text": [
            "Cloning into 'VAST'...\n",
            "remote: Enumerating objects: 124, done.\u001b[K\n",
            "remote: Counting objects: 100% (124/124), done.\u001b[K\n",
            "remote: Compressing objects: 100% (95/95), done.\u001b[K\n",
            "remote: Total 124 (delta 56), reused 58 (delta 21), pack-reused 0\u001b[K\n",
            "Receiving objects: 100% (124/124), 44.21 MiB | 10.12 MiB/s, done.\n",
            "Resolving deltas: 100% (56/56), done.\n",
            "Requirement already satisfied: soundfile in /usr/local/lib/python3.6/dist-packages (0.10.3.post1)\n",
            "Requirement already satisfied: cffi>=1.0 in /usr/local/lib/python3.6/dist-packages (from soundfile) (1.14.0)\n",
            "Requirement already satisfied: pycparser in /usr/local/lib/python3.6/dist-packages (from cffi>=1.0->soundfile) (2.20)\n",
            "Requirement already satisfied: librosa in /usr/local/lib/python3.6/dist-packages (0.6.3)\n",
            "Requirement already satisfied: scipy>=1.0.0 in /usr/local/lib/python3.6/dist-packages (from librosa) (1.4.1)\n",
            "Requirement already satisfied: resampy>=0.2.0 in /usr/local/lib/python3.6/dist-packages (from librosa) (0.2.2)\n",
            "Requirement already satisfied: numba>=0.38.0 in /usr/local/lib/python3.6/dist-packages (from librosa) (0.48.0)\n",
            "Requirement already satisfied: decorator>=3.0.0 in /usr/local/lib/python3.6/dist-packages (from librosa) (4.4.2)\n",
            "Requirement already satisfied: joblib>=0.12 in /usr/local/lib/python3.6/dist-packages (from librosa) (0.14.1)\n",
            "Requirement already satisfied: audioread>=2.0.0 in /usr/local/lib/python3.6/dist-packages (from librosa) (2.1.8)\n",
            "Requirement already satisfied: numpy>=1.8.0 in /usr/local/lib/python3.6/dist-packages (from librosa) (1.18.4)\n",
            "Requirement already satisfied: six>=1.3 in /usr/local/lib/python3.6/dist-packages (from librosa) (1.12.0)\n",
            "Requirement already satisfied: scikit-learn!=0.19.0,>=0.14.0 in /usr/local/lib/python3.6/dist-packages (from librosa) (0.22.2.post1)\n",
            "Requirement already satisfied: setuptools in /usr/local/lib/python3.6/dist-packages (from numba>=0.38.0->librosa) (46.3.0)\n",
            "Requirement already satisfied: llvmlite<0.32.0,>=0.31.0dev0 in /usr/local/lib/python3.6/dist-packages (from numba>=0.38.0->librosa) (0.31.0)\n"
          ],
          "name": "stdout"
        }
      ]
    },
    {
      "cell_type": "code",
      "metadata": {
        "id": "bAbJHx787OHV",
        "colab_type": "code",
        "colab": {}
      },
      "source": [
        "from VAST.util import *\n",
        "import pdb\n",
        "import pprint\n",
        "from tqdm import tqdm\n",
        "import numpy as np\n",
        "import IPython\n",
        "import soundfile as sf\n",
        "import matplotlib.pyplot as plt\n",
        "import librosa\n",
        "import os\n",
        "from tqdm import trange"
      ],
      "execution_count": 0,
      "outputs": []
    },
    {
      "cell_type": "code",
      "metadata": {
        "id": "CAksJZUD7OWN",
        "colab_type": "code",
        "outputId": "7ac25553-dc6c-49d7-a4e1-7be0929bd0c8",
        "colab": {
          "base_uri": "https://localhost:8080/",
          "height": 35
        }
      },
      "source": [
        "from google.colab import drive\n",
        "drive.mount('/content/gdrive')"
      ],
      "execution_count": 4,
      "outputs": [
        {
          "output_type": "stream",
          "text": [
            "Drive already mounted at /content/gdrive; to attempt to forcibly remount, call drive.mount(\"/content/gdrive\", force_remount=True).\n"
          ],
          "name": "stdout"
        }
      ]
    },
    {
      "cell_type": "code",
      "metadata": {
        "id": "IfYr7P78cWiU",
        "colab_type": "code",
        "colab": {}
      },
      "source": [
        "# adapted from Keith Ito's tacotron implementation\n",
        "# https://github.com/keithito/tacotron/blob/master/util/audio.py\n",
        "\n",
        "import librosa\n",
        "import numpy as np\n",
        "\n",
        "\n",
        "class Audio():\n",
        "    def __init__(self):\n",
        "        self.ref_level_db = 20.0\n",
        "        self.n_fft = 1200\n",
        "        self.hop_length = 160\n",
        "        self.win_length = 400\n",
        "        self.min_level_db = -100.0\n",
        "\n",
        "    def wav2spec(self, y):\n",
        "        D = self.stft(y)\n",
        "        S = self.amp_to_db(np.abs(D)) - self.ref_level_db\n",
        "        S, D = self.normalize(S), np.angle(D)\n",
        "        S, D = S.T, D.T # to make [time, freq]\n",
        "        return S, D\n",
        "\n",
        "    def spec2wav(self, spectrogram, phase):\n",
        "        spectrogram, phase = spectrogram.T, phase.T\n",
        "        # used during inference only\n",
        "        # spectrogram: enhanced output\n",
        "        # phase: use noisy input's phase, so no GLA is required\n",
        "        S = self.db_to_amp(self.denormalize(spectrogram) + self.ref_level_db)\n",
        "        return self.istft(S, phase)\n",
        "\n",
        "    def stft(self, y):\n",
        "        return librosa.stft(y=y, n_fft=self.n_fft,\n",
        "                            hop_length=self.hop_length,\n",
        "                            win_length=self.win_length)\n",
        "\n",
        "    def istft(self, mag, phase):\n",
        "        stft_matrix = mag * np.exp(1j*phase)\n",
        "        return librosa.istft(stft_matrix,\n",
        "                             hop_length=self.hop_length,\n",
        "                             win_length=self.win_length)\n",
        "\n",
        "    def amp_to_db(self, x):\n",
        "        return 20.0 * np.log10(np.maximum(1e-5, x))\n",
        "\n",
        "    def db_to_amp(self, x):\n",
        "        return np.power(10.0, x * 0.05)\n",
        "\n",
        "    def normalize(self, S):\n",
        "        return np.clip(S / -self.min_level_db, -1.0, 0.0) + 1.0\n",
        "\n",
        "    def denormalize(self, S):\n",
        "        return (np.clip(S, 0.0, 1.0) - 1.0) * -self.min_level_db\n",
        "\n",
        "audio = Audio()"
      ],
      "execution_count": 0,
      "outputs": []
    },
    {
      "cell_type": "code",
      "metadata": {
        "id": "LwUWhLBm7VN_",
        "colab_type": "code",
        "colab": {}
      },
      "source": [
        "import math\n",
        "import tensorflow as tf\n",
        "\n",
        "def trunk_network(conv_size = 64, LSTM_size = 400, input_size = (51, 601)):\n",
        "    inputs = tf.keras.layers.Input(input_size)\n",
        "    x = tf.keras.layers.Reshape((input_size[0],  input_size[1], 1))(inputs)\n",
        "    # cnn1\n",
        "    x = tf.keras.layers.ZeroPadding2D(padding=((0, 0), (3, 3)))(x)\n",
        "    x = tf.keras.layers.Conv2D(conv_size, (1, 7))(x)\n",
        "    x = tf.keras.layers.BatchNormalization()(x)\n",
        "    x = tf.keras.layers.ReLU()(x)\n",
        "\n",
        "    # cnn2\n",
        "    x = tf.keras.layers.ZeroPadding2D(padding=((3, 3), (0, 0)))(x)\n",
        "    x = tf.keras.layers.Conv2D(conv_size, (7, 1))(x)\n",
        "    x = tf.keras.layers.BatchNormalization()(x)\n",
        "    x = tf.keras.layers.ReLU()(x)\n",
        "\n",
        "    # cnn3\n",
        "    x = tf.keras.layers.ZeroPadding2D(padding=((2, 2), (2, 2)))(x)\n",
        "    x = tf.keras.layers.Conv2D(conv_size, (5, 5))(x)\n",
        "    x = tf.keras.layers.BatchNormalization()(x)\n",
        "    x = tf.keras.layers.ReLU()(x)\n",
        "\n",
        "    # cnn3\n",
        "    x = tf.keras.layers.ZeroPadding2D(padding=((2, 2), (2, 2)))(x)\n",
        "    x = tf.keras.layers.Conv2D(conv_size, (5, 5))(x)\n",
        "    x = tf.keras.layers.BatchNormalization()(x)\n",
        "    x = tf.keras.layers.ReLU()(x)\n",
        "\n",
        "    # cnn3\n",
        "    x = tf.keras.layers.ZeroPadding2D(padding=((2, 2), (2, 2)))(x)\n",
        "    x = tf.keras.layers.Conv2D(conv_size, (5, 5))(x)\n",
        "    x = tf.keras.layers.BatchNormalization()(x)\n",
        "    x = tf.keras.layers.ReLU()(x)\n",
        "\n",
        "    # cnn3\n",
        "    x = tf.keras.layers.ZeroPadding2D(padding=((2, 2), (2, 2)))(x)\n",
        "    x = tf.keras.layers.Conv2D(conv_size, (5, 5))(x)\n",
        "    x = tf.keras.layers.BatchNormalization()(x)\n",
        "    x = tf.keras.layers.ReLU()(x)\n",
        "\n",
        "    # # # cnn4\n",
        "    # x = tf.keras.layers.ZeroPadding2D(padding=((4, 4), (2, 2)))(x)\n",
        "    # x = tf.keras.layers.Conv2D(conv_size, (5, 5), dilation_rate=(2, 1))(x)\n",
        "    # x = tf.keras.layers.BatchNormalization()(x)\n",
        "    # x = tf.keras.layers.ReLU()(x)\n",
        "\n",
        "    # # cnn5\n",
        "    # x = tf.keras.layers.ZeroPadding2D(padding=((8, 8), (2, 2)))(x)     \n",
        "    # x = tf.keras.layers.Conv2D(conv_size, (5, 5), dilation_rate=(4, 1))(x)       \n",
        "    # x = tf.keras.layers.BatchNormalization()(x)\n",
        "    # x = tf.keras.layers.ReLU()(x)\n",
        "\n",
        "    # # cnn6\n",
        "    # x = tf.keras.layers.ZeroPadding2D(padding=((16, 16), (2, 2)))(x)                 \n",
        "    # x = tf.keras.layers.Conv2D(conv_size, (5, 5), dilation_rate=(8, 1))(x) \n",
        "    # x = tf.keras.layers.BatchNormalization()(x)\n",
        "    # x = tf.keras.layers.ReLU()(x)\n",
        "\n",
        "    # # cnn7 TensorShape([None, 51, 601, conv_size])\n",
        "    # x = tf.keras.layers.ZeroPadding2D(padding=((32, 32), (2, 2)))(x)\n",
        "    # x = tf.keras.layers.Conv2D(conv_size, (5, 5), dilation_rate=(16, 1))(x)     \n",
        "    # x = tf.keras.layers.BatchNormalization()(x)\n",
        "    # x = tf.keras.layers.ReLU()(x)\n",
        "\n",
        "    # cnn8 TensorShape([None, 51, 601, 8])\n",
        "    x = tf.keras.layers.Conv2D(8, (1, 1))(x)     \n",
        "    x = tf.keras.layers.BatchNormalization()(x)\n",
        "    x = tf.keras.layers.ReLU()(x)\n",
        "\n",
        "    'Reshape x shape TensorShape([None, 51, 4808])'\n",
        "    # x = tf.keras.layers.Reshape((tf.keras.backend.int_shape(x)[1], tf.keras.backend.int_shape(x)[2]*tf.keras.backend.int_shape(x)[3]))(x)\n",
        "    x = tf.keras.layers.Reshape((51, 4808))(x)\n",
        "\n",
        "    # LSTM 1\n",
        "    x = tf.keras.layers.Bidirectional(tf.keras.layers.LSTM(LSTM_size, return_sequences=True)\n",
        "                            )(x)  # [b_s, seq_len, vec_dim]\n",
        "\n",
        "    # # LSTM 2 TensorShape([None, 51, 800])                                           \n",
        "    # x = tf.keras.layers.Bidirectional(tf.keras.layers.LSTM(LSTM_size, return_sequences=True)\n",
        "    #                         )(x)  # [b_s, seq_len, vec_dim]\n",
        "\n",
        "    x = tf.keras.layers.ReLU()(x)\n",
        "    # Dense 1\n",
        "    x = tf.keras.layers.TimeDistributed(tf.keras.layers.Dense(input_size[1]))(x)\n",
        "    x = tf.keras.layers.ReLU()(x)\n",
        "    # Dense 2\n",
        "    mask = tf.keras.layers.TimeDistributed(tf.keras.layers.Dense(input_size[1], activation='sigmoid'))(x)\n",
        "\n",
        "    output = tf.keras.layers.Multiply()([inputs, mask])\n",
        "    # print(output.shape)\n",
        "    model = tf.keras.Model(inputs=[inputs], outputs=[output])\n",
        "    return model\n",
        "\n",
        "'learning rate decay'\n",
        "def step_decay(self, epoch):\n",
        "    initial_lrate = 0.01\n",
        "    drop = 0.5\n",
        "    epochs_drop = 2.0\n",
        "    lrate = initial_lrate * math.pow(drop, math.floor((1 + epoch) / epochs_drop))\n",
        "    return lrate    "
      ],
      "execution_count": 0,
      "outputs": []
    },
    {
      "cell_type": "markdown",
      "metadata": {
        "id": "QBwhSxHcVS1E",
        "colab_type": "text"
      },
      "source": [
        "### Prepare data"
      ]
    },
    {
      "cell_type": "code",
      "metadata": {
        "id": "9ehDMj2ac7S-",
        "colab_type": "code",
        "outputId": "fd9937dc-e572-4972-fa21-3c710ddb1a3c",
        "colab": {
          "base_uri": "https://localhost:8080/",
          "height": 745
        }
      },
      "source": [
        "resolver = tf.distribute.cluster_resolver.TPUClusterResolver(tpu='grpc://' + os.environ['COLAB_TPU_ADDR'])\n",
        "tf.config.experimental_connect_to_cluster(resolver)\n",
        "# This is the TPU initialization code that has to be at the beginning.\n",
        "tf.tpu.experimental.initialize_tpu_system(resolver)\n",
        "strategy = tf.distribute.experimental.TPUStrategy(resolver)\n",
        "with strategy.scope():\n",
        "  model = trunk_network()\n",
        "  model.compile(optimizer='adam', loss=['mse'])\n",
        "  lrate = tf.keras.callbacks.LearningRateScheduler(step_decay)"
      ],
      "execution_count": 7,
      "outputs": [
        {
          "output_type": "stream",
          "text": [
            "INFO:tensorflow:Initializing the TPU system: grpc://10.0.15.226:8470\n"
          ],
          "name": "stdout"
        },
        {
          "output_type": "stream",
          "text": [
            "INFO:tensorflow:Initializing the TPU system: grpc://10.0.15.226:8470\n"
          ],
          "name": "stderr"
        },
        {
          "output_type": "stream",
          "text": [
            "INFO:tensorflow:Clearing out eager caches\n"
          ],
          "name": "stdout"
        },
        {
          "output_type": "stream",
          "text": [
            "INFO:tensorflow:Clearing out eager caches\n"
          ],
          "name": "stderr"
        },
        {
          "output_type": "stream",
          "text": [
            "INFO:tensorflow:Finished initializing TPU system.\n"
          ],
          "name": "stdout"
        },
        {
          "output_type": "stream",
          "text": [
            "INFO:tensorflow:Finished initializing TPU system.\n"
          ],
          "name": "stderr"
        },
        {
          "output_type": "stream",
          "text": [
            "INFO:tensorflow:Found TPU system:\n"
          ],
          "name": "stdout"
        },
        {
          "output_type": "stream",
          "text": [
            "INFO:tensorflow:Found TPU system:\n"
          ],
          "name": "stderr"
        },
        {
          "output_type": "stream",
          "text": [
            "INFO:tensorflow:*** Num TPU Cores: 8\n"
          ],
          "name": "stdout"
        },
        {
          "output_type": "stream",
          "text": [
            "INFO:tensorflow:*** Num TPU Cores: 8\n"
          ],
          "name": "stderr"
        },
        {
          "output_type": "stream",
          "text": [
            "INFO:tensorflow:*** Num TPU Workers: 1\n"
          ],
          "name": "stdout"
        },
        {
          "output_type": "stream",
          "text": [
            "INFO:tensorflow:*** Num TPU Workers: 1\n"
          ],
          "name": "stderr"
        },
        {
          "output_type": "stream",
          "text": [
            "INFO:tensorflow:*** Num TPU Cores Per Worker: 8\n"
          ],
          "name": "stdout"
        },
        {
          "output_type": "stream",
          "text": [
            "INFO:tensorflow:*** Num TPU Cores Per Worker: 8\n"
          ],
          "name": "stderr"
        },
        {
          "output_type": "stream",
          "text": [
            "INFO:tensorflow:*** Available Device: _DeviceAttributes(/job:localhost/replica:0/task:0/device:CPU:0, CPU, 0, 0)\n"
          ],
          "name": "stdout"
        },
        {
          "output_type": "stream",
          "text": [
            "INFO:tensorflow:*** Available Device: _DeviceAttributes(/job:localhost/replica:0/task:0/device:CPU:0, CPU, 0, 0)\n"
          ],
          "name": "stderr"
        },
        {
          "output_type": "stream",
          "text": [
            "INFO:tensorflow:*** Available Device: _DeviceAttributes(/job:localhost/replica:0/task:0/device:XLA_CPU:0, XLA_CPU, 0, 0)\n"
          ],
          "name": "stdout"
        },
        {
          "output_type": "stream",
          "text": [
            "INFO:tensorflow:*** Available Device: _DeviceAttributes(/job:localhost/replica:0/task:0/device:XLA_CPU:0, XLA_CPU, 0, 0)\n"
          ],
          "name": "stderr"
        },
        {
          "output_type": "stream",
          "text": [
            "INFO:tensorflow:*** Available Device: _DeviceAttributes(/job:worker/replica:0/task:0/device:CPU:0, CPU, 0, 0)\n"
          ],
          "name": "stdout"
        },
        {
          "output_type": "stream",
          "text": [
            "INFO:tensorflow:*** Available Device: _DeviceAttributes(/job:worker/replica:0/task:0/device:CPU:0, CPU, 0, 0)\n"
          ],
          "name": "stderr"
        },
        {
          "output_type": "stream",
          "text": [
            "INFO:tensorflow:*** Available Device: _DeviceAttributes(/job:worker/replica:0/task:0/device:TPU:0, TPU, 0, 0)\n"
          ],
          "name": "stdout"
        },
        {
          "output_type": "stream",
          "text": [
            "INFO:tensorflow:*** Available Device: _DeviceAttributes(/job:worker/replica:0/task:0/device:TPU:0, TPU, 0, 0)\n"
          ],
          "name": "stderr"
        },
        {
          "output_type": "stream",
          "text": [
            "INFO:tensorflow:*** Available Device: _DeviceAttributes(/job:worker/replica:0/task:0/device:TPU:1, TPU, 0, 0)\n"
          ],
          "name": "stdout"
        },
        {
          "output_type": "stream",
          "text": [
            "INFO:tensorflow:*** Available Device: _DeviceAttributes(/job:worker/replica:0/task:0/device:TPU:1, TPU, 0, 0)\n"
          ],
          "name": "stderr"
        },
        {
          "output_type": "stream",
          "text": [
            "INFO:tensorflow:*** Available Device: _DeviceAttributes(/job:worker/replica:0/task:0/device:TPU:2, TPU, 0, 0)\n"
          ],
          "name": "stdout"
        },
        {
          "output_type": "stream",
          "text": [
            "INFO:tensorflow:*** Available Device: _DeviceAttributes(/job:worker/replica:0/task:0/device:TPU:2, TPU, 0, 0)\n"
          ],
          "name": "stderr"
        },
        {
          "output_type": "stream",
          "text": [
            "INFO:tensorflow:*** Available Device: _DeviceAttributes(/job:worker/replica:0/task:0/device:TPU:3, TPU, 0, 0)\n"
          ],
          "name": "stdout"
        },
        {
          "output_type": "stream",
          "text": [
            "INFO:tensorflow:*** Available Device: _DeviceAttributes(/job:worker/replica:0/task:0/device:TPU:3, TPU, 0, 0)\n"
          ],
          "name": "stderr"
        },
        {
          "output_type": "stream",
          "text": [
            "INFO:tensorflow:*** Available Device: _DeviceAttributes(/job:worker/replica:0/task:0/device:TPU:4, TPU, 0, 0)\n"
          ],
          "name": "stdout"
        },
        {
          "output_type": "stream",
          "text": [
            "INFO:tensorflow:*** Available Device: _DeviceAttributes(/job:worker/replica:0/task:0/device:TPU:4, TPU, 0, 0)\n"
          ],
          "name": "stderr"
        },
        {
          "output_type": "stream",
          "text": [
            "INFO:tensorflow:*** Available Device: _DeviceAttributes(/job:worker/replica:0/task:0/device:TPU:5, TPU, 0, 0)\n"
          ],
          "name": "stdout"
        },
        {
          "output_type": "stream",
          "text": [
            "INFO:tensorflow:*** Available Device: _DeviceAttributes(/job:worker/replica:0/task:0/device:TPU:5, TPU, 0, 0)\n"
          ],
          "name": "stderr"
        },
        {
          "output_type": "stream",
          "text": [
            "INFO:tensorflow:*** Available Device: _DeviceAttributes(/job:worker/replica:0/task:0/device:TPU:6, TPU, 0, 0)\n"
          ],
          "name": "stdout"
        },
        {
          "output_type": "stream",
          "text": [
            "INFO:tensorflow:*** Available Device: _DeviceAttributes(/job:worker/replica:0/task:0/device:TPU:6, TPU, 0, 0)\n"
          ],
          "name": "stderr"
        },
        {
          "output_type": "stream",
          "text": [
            "INFO:tensorflow:*** Available Device: _DeviceAttributes(/job:worker/replica:0/task:0/device:TPU:7, TPU, 0, 0)\n"
          ],
          "name": "stdout"
        },
        {
          "output_type": "stream",
          "text": [
            "INFO:tensorflow:*** Available Device: _DeviceAttributes(/job:worker/replica:0/task:0/device:TPU:7, TPU, 0, 0)\n"
          ],
          "name": "stderr"
        },
        {
          "output_type": "stream",
          "text": [
            "INFO:tensorflow:*** Available Device: _DeviceAttributes(/job:worker/replica:0/task:0/device:TPU_SYSTEM:0, TPU_SYSTEM, 0, 0)\n"
          ],
          "name": "stdout"
        },
        {
          "output_type": "stream",
          "text": [
            "INFO:tensorflow:*** Available Device: _DeviceAttributes(/job:worker/replica:0/task:0/device:TPU_SYSTEM:0, TPU_SYSTEM, 0, 0)\n"
          ],
          "name": "stderr"
        },
        {
          "output_type": "stream",
          "text": [
            "INFO:tensorflow:*** Available Device: _DeviceAttributes(/job:worker/replica:0/task:0/device:XLA_CPU:0, XLA_CPU, 0, 0)\n"
          ],
          "name": "stdout"
        },
        {
          "output_type": "stream",
          "text": [
            "INFO:tensorflow:*** Available Device: _DeviceAttributes(/job:worker/replica:0/task:0/device:XLA_CPU:0, XLA_CPU, 0, 0)\n"
          ],
          "name": "stderr"
        }
      ]
    },
    {
      "cell_type": "code",
      "metadata": {
        "id": "ylpzMlb5jQL2",
        "colab_type": "code",
        "outputId": "373dd601-76cc-4f3c-8cb8-a61952ae67c4",
        "colab": {
          "base_uri": "https://localhost:8080/",
          "height": 1000
        }
      },
      "source": [
        "model.summary()"
      ],
      "execution_count": 8,
      "outputs": [
        {
          "output_type": "stream",
          "text": [
            "Model: \"model\"\n",
            "__________________________________________________________________________________________________\n",
            "Layer (type)                    Output Shape         Param #     Connected to                     \n",
            "==================================================================================================\n",
            "input_1 (InputLayer)            [(None, 51, 601)]    0                                            \n",
            "__________________________________________________________________________________________________\n",
            "reshape (Reshape)               (None, 51, 601, 1)   0           input_1[0][0]                    \n",
            "__________________________________________________________________________________________________\n",
            "zero_padding2d (ZeroPadding2D)  (None, 51, 607, 1)   0           reshape[0][0]                    \n",
            "__________________________________________________________________________________________________\n",
            "conv2d (Conv2D)                 (None, 51, 601, 64)  512         zero_padding2d[0][0]             \n",
            "__________________________________________________________________________________________________\n",
            "batch_normalization (BatchNorma (None, 51, 601, 64)  256         conv2d[0][0]                     \n",
            "__________________________________________________________________________________________________\n",
            "re_lu (ReLU)                    (None, 51, 601, 64)  0           batch_normalization[0][0]        \n",
            "__________________________________________________________________________________________________\n",
            "zero_padding2d_1 (ZeroPadding2D (None, 57, 601, 64)  0           re_lu[0][0]                      \n",
            "__________________________________________________________________________________________________\n",
            "conv2d_1 (Conv2D)               (None, 51, 601, 64)  28736       zero_padding2d_1[0][0]           \n",
            "__________________________________________________________________________________________________\n",
            "batch_normalization_1 (BatchNor (None, 51, 601, 64)  256         conv2d_1[0][0]                   \n",
            "__________________________________________________________________________________________________\n",
            "re_lu_1 (ReLU)                  (None, 51, 601, 64)  0           batch_normalization_1[0][0]      \n",
            "__________________________________________________________________________________________________\n",
            "zero_padding2d_2 (ZeroPadding2D (None, 55, 605, 64)  0           re_lu_1[0][0]                    \n",
            "__________________________________________________________________________________________________\n",
            "conv2d_2 (Conv2D)               (None, 51, 601, 64)  102464      zero_padding2d_2[0][0]           \n",
            "__________________________________________________________________________________________________\n",
            "batch_normalization_2 (BatchNor (None, 51, 601, 64)  256         conv2d_2[0][0]                   \n",
            "__________________________________________________________________________________________________\n",
            "re_lu_2 (ReLU)                  (None, 51, 601, 64)  0           batch_normalization_2[0][0]      \n",
            "__________________________________________________________________________________________________\n",
            "zero_padding2d_3 (ZeroPadding2D (None, 55, 605, 64)  0           re_lu_2[0][0]                    \n",
            "__________________________________________________________________________________________________\n",
            "conv2d_3 (Conv2D)               (None, 51, 601, 64)  102464      zero_padding2d_3[0][0]           \n",
            "__________________________________________________________________________________________________\n",
            "batch_normalization_3 (BatchNor (None, 51, 601, 64)  256         conv2d_3[0][0]                   \n",
            "__________________________________________________________________________________________________\n",
            "re_lu_3 (ReLU)                  (None, 51, 601, 64)  0           batch_normalization_3[0][0]      \n",
            "__________________________________________________________________________________________________\n",
            "zero_padding2d_4 (ZeroPadding2D (None, 55, 605, 64)  0           re_lu_3[0][0]                    \n",
            "__________________________________________________________________________________________________\n",
            "conv2d_4 (Conv2D)               (None, 51, 601, 64)  102464      zero_padding2d_4[0][0]           \n",
            "__________________________________________________________________________________________________\n",
            "batch_normalization_4 (BatchNor (None, 51, 601, 64)  256         conv2d_4[0][0]                   \n",
            "__________________________________________________________________________________________________\n",
            "re_lu_4 (ReLU)                  (None, 51, 601, 64)  0           batch_normalization_4[0][0]      \n",
            "__________________________________________________________________________________________________\n",
            "zero_padding2d_5 (ZeroPadding2D (None, 55, 605, 64)  0           re_lu_4[0][0]                    \n",
            "__________________________________________________________________________________________________\n",
            "conv2d_5 (Conv2D)               (None, 51, 601, 64)  102464      zero_padding2d_5[0][0]           \n",
            "__________________________________________________________________________________________________\n",
            "batch_normalization_5 (BatchNor (None, 51, 601, 64)  256         conv2d_5[0][0]                   \n",
            "__________________________________________________________________________________________________\n",
            "re_lu_5 (ReLU)                  (None, 51, 601, 64)  0           batch_normalization_5[0][0]      \n",
            "__________________________________________________________________________________________________\n",
            "conv2d_6 (Conv2D)               (None, 51, 601, 8)   520         re_lu_5[0][0]                    \n",
            "__________________________________________________________________________________________________\n",
            "batch_normalization_6 (BatchNor (None, 51, 601, 8)   32          conv2d_6[0][0]                   \n",
            "__________________________________________________________________________________________________\n",
            "re_lu_6 (ReLU)                  (None, 51, 601, 8)   0           batch_normalization_6[0][0]      \n",
            "__________________________________________________________________________________________________\n",
            "reshape_1 (Reshape)             (None, 51, 4808)     0           re_lu_6[0][0]                    \n",
            "__________________________________________________________________________________________________\n",
            "bidirectional (Bidirectional)   (None, 51, 800)      16668800    reshape_1[0][0]                  \n",
            "__________________________________________________________________________________________________\n",
            "re_lu_7 (ReLU)                  (None, 51, 800)      0           bidirectional[0][0]              \n",
            "__________________________________________________________________________________________________\n",
            "time_distributed (TimeDistribut (None, 51, 601)      481401      re_lu_7[0][0]                    \n",
            "__________________________________________________________________________________________________\n",
            "re_lu_8 (ReLU)                  (None, 51, 601)      0           time_distributed[0][0]           \n",
            "__________________________________________________________________________________________________\n",
            "time_distributed_1 (TimeDistrib (None, 51, 601)      361802      re_lu_8[0][0]                    \n",
            "__________________________________________________________________________________________________\n",
            "multiply (Multiply)             (None, 51, 601)      0           input_1[0][0]                    \n",
            "                                                                 time_distributed_1[0][0]         \n",
            "==================================================================================================\n",
            "Total params: 17,953,195\n",
            "Trainable params: 17,952,411\n",
            "Non-trainable params: 784\n",
            "__________________________________________________________________________________________________\n"
          ],
          "name": "stdout"
        }
      ]
    },
    {
      "cell_type": "code",
      "metadata": {
        "id": "sh0dRFif6CcQ",
        "colab_type": "code",
        "colab": {}
      },
      "source": [
        "# X_total = []\n",
        "# y_total = []\n",
        "\n",
        "# for i in tqdm(range(67)):\n",
        "#   X_total.append(np.load(f\"gdrive/My Drive/Spitter_VTB/mixed_mag/{i}.npy\", allow_pickle=True))\n",
        "#   y_total.append(np.load(f\"gdrive/My Drive/Spitter_VTB/target_mag/{i}.npy\", allow_pickle=True))"
      ],
      "execution_count": 0,
      "outputs": []
    },
    {
      "cell_type": "code",
      "metadata": {
        "id": "lXGInuCPKckz",
        "colab_type": "code",
        "outputId": "f1492d76-376e-4692-c3d1-8214e9e7d88d",
        "colab": {
          "base_uri": "https://localhost:8080/",
          "height": 35
        }
      },
      "source": [
        "X_total = load_data_array_from_npy(f\"gdrive/My Drive/Free_RAM_VAST/short_mixed_mag_list.npy\")\n",
        "y_total = load_data_array_from_npy(f\"gdrive/My Drive/Free_RAM_VAST/short_target_mag_list.npy\")\n",
        "corresponding_phase = load_data_array_from_npy(f\"gdrive/My Drive/Free_RAM_VAST/short_mixed_phase_list.npy\")\n",
        "X_total.shape\n",
        "\n",
        "# X_total = np.asarray(X_total).reshape((-1, 51, 601))\n",
        "# y_total = np.asarray(y_total).reshape((-1, 51, 601))"
      ],
      "execution_count": 10,
      "outputs": [
        {
          "output_type": "execute_result",
          "data": {
            "text/plain": [
              "(10000, 51, 601)"
            ]
          },
          "metadata": {
            "tags": []
          },
          "execution_count": 10
        }
      ]
    },
    {
      "cell_type": "code",
      "metadata": {
        "id": "JMPHT4UmWi12",
        "colab_type": "code",
        "colab": {}
      },
      "source": [
        "train_ratio = 0.9"
      ],
      "execution_count": 0,
      "outputs": []
    },
    {
      "cell_type": "code",
      "metadata": {
        "id": "KqSZnc57WCVq",
        "colab_type": "code",
        "colab": {}
      },
      "source": [
        "X_train = X_total[:int(train_ratio * len(X_total))]\n",
        "y_train = y_total[:int(train_ratio * len(X_total))]\n",
        "\n",
        "X_test = X_total[int(train_ratio * len(X_total)):]\n",
        "y_test = y_total[int(train_ratio * len(X_total)):]\n",
        "y_phase = corresponding_phase[int(train_ratio * len(X_total)):]"
      ],
      "execution_count": 0,
      "outputs": []
    },
    {
      "cell_type": "code",
      "metadata": {
        "id": "1QJHGXiMZzU-",
        "colab_type": "code",
        "colab": {}
      },
      "source": [
        "# def generator():\n",
        "#   while True:\n",
        "#     yield X_total[0:1], y_total[0:1]\n",
        "\n",
        "# dataset = tf.data.Dataset.from_generator(generator, output_shapes= ((51, 601), (51, 601)), output_types=((tf.float32, tf.float32)))"
      ],
      "execution_count": 0,
      "outputs": []
    },
    {
      "cell_type": "code",
      "metadata": {
        "id": "Bti-VwMuaCzV",
        "colab_type": "code",
        "colab": {}
      },
      "source": [
        "# dataset.batch(512)"
      ],
      "execution_count": 0,
      "outputs": []
    },
    {
      "cell_type": "code",
      "metadata": {
        "id": "I9SJ-I2yaPbL",
        "colab_type": "code",
        "colab": {}
      },
      "source": [
        "# model.fit(\n",
        "#   dataset.batch(32),\n",
        "#   steps_per_epoch=67,\n",
        "#   # batch_size = 512,\n",
        "#   epochs=50,\n",
        "#   callbacks=[lrate]\n",
        "# )"
      ],
      "execution_count": 0,
      "outputs": []
    },
    {
      "cell_type": "code",
      "metadata": {
        "id": "ZSbMNRcXjNRy",
        "colab_type": "code",
        "outputId": "e654e08c-fcd5-40b7-e5f3-72e59a2d656a",
        "colab": {
          "base_uri": "https://localhost:8080/",
          "height": 1000
        }
      },
      "source": [
        "# for i in range(3):\n",
        "#   model.fit(\n",
        "#   x = X_total, y = y_total,\n",
        "#   # steps_per_epoch=67,\n",
        "#   batch_size = 512,\n",
        "#   epochs=1,\n",
        "#   # callbacks=[lrate]\n",
        "#   )\n",
        "\n",
        "model.fit(\n",
        "  x = X_train, y = y_train,\n",
        "  # steps_per_epoch=67,\n",
        "  batch_size = 512,\n",
        "  epochs=200,\n",
        "  callbacks=[lrate]\n",
        ")"
      ],
      "execution_count": 16,
      "outputs": [
        {
          "output_type": "stream",
          "text": [
            "Epoch 1/200\n",
            "18/18 [==============================] - 57s 3s/step - loss: 0.0267 - lr: 0.0100\n",
            "Epoch 2/200\n",
            "18/18 [==============================] - 20s 1s/step - loss: 0.0212 - lr: 0.0100\n",
            "Epoch 3/200\n",
            "18/18 [==============================] - 20s 1s/step - loss: 0.0195 - lr: 0.0100\n",
            "Epoch 4/200\n",
            "18/18 [==============================] - 20s 1s/step - loss: 0.0188 - lr: 0.0100\n",
            "Epoch 5/200\n",
            "18/18 [==============================] - 20s 1s/step - loss: 0.0189 - lr: 0.0100\n",
            "Epoch 6/200\n",
            "18/18 [==============================] - 20s 1s/step - loss: 0.0181 - lr: 0.0100\n",
            "Epoch 7/200\n",
            "18/18 [==============================] - 20s 1s/step - loss: 0.0176 - lr: 0.0100\n",
            "Epoch 8/200\n",
            "18/18 [==============================] - 20s 1s/step - loss: 0.0182 - lr: 0.0100\n",
            "Epoch 9/200\n",
            "18/18 [==============================] - 20s 1s/step - loss: 0.0172 - lr: 0.0100\n",
            "Epoch 10/200\n",
            "18/18 [==============================] - 20s 1s/step - loss: 0.0167 - lr: 0.0100\n",
            "Epoch 11/200\n",
            "18/18 [==============================] - 20s 1s/step - loss: 0.0164 - lr: 0.0100\n",
            "Epoch 12/200\n",
            "18/18 [==============================] - 20s 1s/step - loss: 0.0161 - lr: 0.0100\n",
            "Epoch 13/200\n",
            "18/18 [==============================] - 20s 1s/step - loss: 0.0171 - lr: 0.0100\n",
            "Epoch 14/200\n",
            "18/18 [==============================] - 20s 1s/step - loss: 0.0159 - lr: 0.0100\n",
            "Epoch 15/200\n",
            "18/18 [==============================] - 20s 1s/step - loss: 0.0155 - lr: 0.0100\n",
            "Epoch 16/200\n",
            "18/18 [==============================] - 20s 1s/step - loss: 0.0153 - lr: 0.0100\n",
            "Epoch 17/200\n",
            "18/18 [==============================] - 20s 1s/step - loss: 0.0152 - lr: 0.0100\n",
            "Epoch 18/200\n",
            "18/18 [==============================] - 20s 1s/step - loss: 0.0148 - lr: 0.0100\n",
            "Epoch 19/200\n",
            "18/18 [==============================] - 20s 1s/step - loss: 0.0156 - lr: 0.0100\n",
            "Epoch 20/200\n",
            "18/18 [==============================] - 20s 1s/step - loss: 0.0151 - lr: 0.0100\n",
            "Epoch 21/200\n",
            "18/18 [==============================] - 20s 1s/step - loss: 0.0143 - lr: 0.0100\n",
            "Epoch 22/200\n",
            "18/18 [==============================] - 20s 1s/step - loss: 0.0140 - lr: 0.0100\n",
            "Epoch 23/200\n",
            "18/18 [==============================] - 20s 1s/step - loss: 0.0139 - lr: 0.0100\n",
            "Epoch 24/200\n",
            "18/18 [==============================] - 20s 1s/step - loss: 0.0138 - lr: 0.0100\n",
            "Epoch 25/200\n",
            "18/18 [==============================] - 20s 1s/step - loss: 0.0135 - lr: 0.0100\n",
            "Epoch 26/200\n",
            "18/18 [==============================] - 20s 1s/step - loss: 0.0133 - lr: 0.0100\n",
            "Epoch 27/200\n",
            "18/18 [==============================] - 20s 1s/step - loss: 0.0152 - lr: 0.0100\n",
            "Epoch 28/200\n",
            "18/18 [==============================] - 20s 1s/step - loss: 0.0138 - lr: 0.0100\n",
            "Epoch 29/200\n",
            "18/18 [==============================] - 20s 1s/step - loss: 0.0130 - lr: 0.0100\n",
            "Epoch 30/200\n",
            "18/18 [==============================] - 20s 1s/step - loss: 0.0125 - lr: 0.0100\n",
            "Epoch 31/200\n",
            "18/18 [==============================] - 20s 1s/step - loss: 0.0123 - lr: 0.0100\n",
            "Epoch 32/200\n",
            "18/18 [==============================] - 20s 1s/step - loss: 0.0124 - lr: 0.0100\n",
            "Epoch 33/200\n",
            "18/18 [==============================] - 20s 1s/step - loss: 0.0136 - lr: 0.0100\n",
            "Epoch 34/200\n",
            "18/18 [==============================] - 20s 1s/step - loss: 0.0123 - lr: 0.0100\n",
            "Epoch 35/200\n",
            "18/18 [==============================] - 20s 1s/step - loss: 0.0117 - lr: 0.0100\n",
            "Epoch 36/200\n",
            "18/18 [==============================] - 20s 1s/step - loss: 0.0119 - lr: 0.0100\n",
            "Epoch 37/200\n",
            "18/18 [==============================] - 20s 1s/step - loss: 0.0115 - lr: 0.0100\n",
            "Epoch 38/200\n",
            "18/18 [==============================] - 20s 1s/step - loss: 0.0115 - lr: 0.0100\n",
            "Epoch 39/200\n",
            "18/18 [==============================] - 20s 1s/step - loss: 0.0119 - lr: 0.0100\n",
            "Epoch 40/200\n",
            "18/18 [==============================] - 20s 1s/step - loss: 0.0112 - lr: 0.0100\n",
            "Epoch 41/200\n",
            "18/18 [==============================] - 20s 1s/step - loss: 0.0108 - lr: 0.0100\n",
            "Epoch 42/200\n",
            "18/18 [==============================] - 20s 1s/step - loss: 0.0106 - lr: 0.0100\n",
            "Epoch 43/200\n",
            "18/18 [==============================] - 20s 1s/step - loss: 0.0106 - lr: 0.0100\n",
            "Epoch 44/200\n",
            "18/18 [==============================] - 20s 1s/step - loss: 0.0104 - lr: 0.0100\n",
            "Epoch 45/200\n",
            "18/18 [==============================] - 20s 1s/step - loss: 0.0105 - lr: 0.0100\n",
            "Epoch 46/200\n",
            "18/18 [==============================] - 20s 1s/step - loss: 0.0122 - lr: 0.0100\n",
            "Epoch 47/200\n",
            "18/18 [==============================] - 20s 1s/step - loss: 0.0107 - lr: 0.0100\n",
            "Epoch 48/200\n",
            "18/18 [==============================] - 20s 1s/step - loss: 0.0101 - lr: 0.0100\n",
            "Epoch 49/200\n",
            "18/18 [==============================] - 20s 1s/step - loss: 0.0099 - lr: 0.0100\n",
            "Epoch 50/200\n",
            "18/18 [==============================] - 20s 1s/step - loss: 0.0098 - lr: 0.0100\n",
            "Epoch 51/200\n",
            "18/18 [==============================] - 20s 1s/step - loss: 0.0099 - lr: 0.0100\n",
            "Epoch 52/200\n",
            "18/18 [==============================] - 20s 1s/step - loss: 0.0097 - lr: 0.0100\n",
            "Epoch 53/200\n",
            "18/18 [==============================] - 20s 1s/step - loss: 0.0096 - lr: 0.0100\n",
            "Epoch 54/200\n",
            "18/18 [==============================] - 20s 1s/step - loss: 0.0094 - lr: 0.0100\n",
            "Epoch 55/200\n",
            "18/18 [==============================] - 20s 1s/step - loss: 0.0094 - lr: 0.0100\n",
            "Epoch 56/200\n",
            "18/18 [==============================] - 20s 1s/step - loss: 0.0096 - lr: 0.0100\n",
            "Epoch 57/200\n",
            "18/18 [==============================] - 20s 1s/step - loss: 0.0095 - lr: 0.0100\n",
            "Epoch 58/200\n",
            "18/18 [==============================] - 20s 1s/step - loss: 0.0094 - lr: 0.0100\n",
            "Epoch 59/200\n",
            "18/18 [==============================] - 20s 1s/step - loss: 0.0091 - lr: 0.0100\n",
            "Epoch 60/200\n",
            "18/18 [==============================] - 20s 1s/step - loss: 0.0089 - lr: 0.0100\n",
            "Epoch 61/200\n",
            "18/18 [==============================] - 20s 1s/step - loss: 0.0089 - lr: 0.0100\n",
            "Epoch 62/200\n",
            "18/18 [==============================] - 20s 1s/step - loss: 0.0089 - lr: 0.0100\n",
            "Epoch 63/200\n",
            "18/18 [==============================] - 20s 1s/step - loss: 0.0088 - lr: 0.0100\n",
            "Epoch 64/200\n",
            "18/18 [==============================] - 20s 1s/step - loss: 0.0090 - lr: 0.0100\n",
            "Epoch 65/200\n",
            "18/18 [==============================] - 20s 1s/step - loss: 0.0088 - lr: 0.0100\n",
            "Epoch 66/200\n",
            "18/18 [==============================] - 20s 1s/step - loss: 0.0086 - lr: 0.0100\n",
            "Epoch 67/200\n",
            "18/18 [==============================] - 20s 1s/step - loss: 0.0084 - lr: 0.0100\n",
            "Epoch 68/200\n",
            "18/18 [==============================] - 20s 1s/step - loss: 0.0088 - lr: 0.0100\n",
            "Epoch 69/200\n",
            "18/18 [==============================] - 20s 1s/step - loss: 0.0091 - lr: 0.0100\n",
            "Epoch 70/200\n",
            "18/18 [==============================] - 20s 1s/step - loss: 0.0084 - lr: 0.0100\n",
            "Epoch 71/200\n",
            "18/18 [==============================] - 20s 1s/step - loss: 0.0082 - lr: 0.0100\n",
            "Epoch 72/200\n",
            "18/18 [==============================] - 20s 1s/step - loss: 0.0082 - lr: 0.0100\n",
            "Epoch 73/200\n",
            "18/18 [==============================] - 20s 1s/step - loss: 0.0081 - lr: 0.0100\n",
            "Epoch 74/200\n",
            "18/18 [==============================] - 20s 1s/step - loss: 0.0080 - lr: 0.0100\n",
            "Epoch 75/200\n",
            "18/18 [==============================] - 20s 1s/step - loss: 0.0079 - lr: 0.0100\n",
            "Epoch 76/200\n",
            "18/18 [==============================] - 20s 1s/step - loss: 0.0080 - lr: 0.0100\n",
            "Epoch 77/200\n",
            "18/18 [==============================] - 20s 1s/step - loss: 0.0083 - lr: 0.0100\n",
            "Epoch 78/200\n",
            "18/18 [==============================] - 20s 1s/step - loss: 0.0084 - lr: 0.0100\n",
            "Epoch 79/200\n",
            "18/18 [==============================] - 20s 1s/step - loss: 0.0087 - lr: 0.0100\n",
            "Epoch 80/200\n",
            "18/18 [==============================] - 20s 1s/step - loss: 0.0081 - lr: 0.0100\n",
            "Epoch 81/200\n",
            "18/18 [==============================] - 20s 1s/step - loss: 0.0077 - lr: 0.0100\n",
            "Epoch 82/200\n",
            "18/18 [==============================] - 20s 1s/step - loss: 0.0075 - lr: 0.0100\n",
            "Epoch 83/200\n",
            "18/18 [==============================] - 20s 1s/step - loss: 0.0074 - lr: 0.0100\n",
            "Epoch 84/200\n",
            "18/18 [==============================] - 20s 1s/step - loss: 0.0074 - lr: 0.0100\n",
            "Epoch 85/200\n",
            "18/18 [==============================] - 20s 1s/step - loss: 0.0073 - lr: 0.0100\n",
            "Epoch 86/200\n",
            "18/18 [==============================] - 20s 1s/step - loss: 0.0073 - lr: 0.0100\n",
            "Epoch 87/200\n",
            "18/18 [==============================] - 20s 1s/step - loss: 0.0073 - lr: 0.0100\n",
            "Epoch 88/200\n",
            "18/18 [==============================] - 20s 1s/step - loss: 0.0073 - lr: 0.0100\n",
            "Epoch 89/200\n",
            "18/18 [==============================] - 20s 1s/step - loss: 0.0073 - lr: 0.0100\n",
            "Epoch 90/200\n",
            "18/18 [==============================] - 20s 1s/step - loss: 0.0072 - lr: 0.0100\n",
            "Epoch 91/200\n",
            "18/18 [==============================] - 20s 1s/step - loss: 0.0071 - lr: 0.0100\n",
            "Epoch 92/200\n",
            "18/18 [==============================] - 20s 1s/step - loss: 0.0072 - lr: 0.0100\n",
            "Epoch 93/200\n",
            "18/18 [==============================] - 20s 1s/step - loss: 0.0071 - lr: 0.0100\n",
            "Epoch 94/200\n",
            "18/18 [==============================] - 20s 1s/step - loss: 0.0072 - lr: 0.0100\n",
            "Epoch 95/200\n",
            "18/18 [==============================] - 20s 1s/step - loss: 0.0071 - lr: 0.0100\n",
            "Epoch 96/200\n",
            "18/18 [==============================] - 20s 1s/step - loss: 0.0073 - lr: 0.0100\n",
            "Epoch 97/200\n",
            "18/18 [==============================] - 20s 1s/step - loss: 0.0072 - lr: 0.0100\n",
            "Epoch 98/200\n",
            "18/18 [==============================] - 20s 1s/step - loss: 0.0070 - lr: 0.0100\n",
            "Epoch 99/200\n",
            "18/18 [==============================] - 20s 1s/step - loss: 0.0069 - lr: 0.0100\n",
            "Epoch 100/200\n",
            "18/18 [==============================] - 20s 1s/step - loss: 0.0068 - lr: 0.0100\n",
            "Epoch 101/200\n",
            "18/18 [==============================] - 20s 1s/step - loss: 0.0068 - lr: 0.0100\n",
            "Epoch 102/200\n",
            "18/18 [==============================] - 20s 1s/step - loss: 0.0068 - lr: 0.0100\n",
            "Epoch 103/200\n",
            "18/18 [==============================] - 20s 1s/step - loss: 0.0067 - lr: 0.0100\n",
            "Epoch 104/200\n",
            "18/18 [==============================] - 20s 1s/step - loss: 0.0067 - lr: 0.0100\n",
            "Epoch 105/200\n",
            "18/18 [==============================] - 20s 1s/step - loss: 0.0068 - lr: 0.0100\n",
            "Epoch 106/200\n",
            "18/18 [==============================] - 20s 1s/step - loss: 0.0068 - lr: 0.0100\n",
            "Epoch 107/200\n",
            "18/18 [==============================] - 20s 1s/step - loss: 0.0067 - lr: 0.0100\n",
            "Epoch 108/200\n",
            "18/18 [==============================] - 20s 1s/step - loss: 0.0066 - lr: 0.0100\n",
            "Epoch 109/200\n",
            "18/18 [==============================] - 20s 1s/step - loss: 0.0066 - lr: 0.0100\n",
            "Epoch 110/200\n",
            "18/18 [==============================] - 20s 1s/step - loss: 0.0065 - lr: 0.0100\n",
            "Epoch 111/200\n",
            "18/18 [==============================] - 20s 1s/step - loss: 0.0065 - lr: 0.0100\n",
            "Epoch 112/200\n",
            "18/18 [==============================] - 20s 1s/step - loss: 0.0064 - lr: 0.0100\n",
            "Epoch 113/200\n",
            "18/18 [==============================] - 20s 1s/step - loss: 0.0066 - lr: 0.0100\n",
            "Epoch 114/200\n",
            "18/18 [==============================] - 20s 1s/step - loss: 0.0066 - lr: 0.0100\n",
            "Epoch 115/200\n",
            "18/18 [==============================] - 20s 1s/step - loss: 0.0067 - lr: 0.0100\n",
            "Epoch 116/200\n",
            "18/18 [==============================] - 20s 1s/step - loss: 0.0067 - lr: 0.0100\n",
            "Epoch 117/200\n",
            "18/18 [==============================] - 20s 1s/step - loss: 0.0065 - lr: 0.0100\n",
            "Epoch 118/200\n",
            "18/18 [==============================] - 20s 1s/step - loss: 0.0063 - lr: 0.0100\n",
            "Epoch 119/200\n",
            "18/18 [==============================] - 20s 1s/step - loss: 0.0062 - lr: 0.0100\n",
            "Epoch 120/200\n",
            "18/18 [==============================] - 20s 1s/step - loss: 0.0062 - lr: 0.0100\n",
            "Epoch 121/200\n",
            "18/18 [==============================] - 20s 1s/step - loss: 0.0063 - lr: 0.0100\n",
            "Epoch 122/200\n",
            "18/18 [==============================] - 20s 1s/step - loss: 0.0062 - lr: 0.0100\n",
            "Epoch 123/200\n",
            "18/18 [==============================] - 20s 1s/step - loss: 0.0062 - lr: 0.0100\n",
            "Epoch 124/200\n",
            "18/18 [==============================] - 20s 1s/step - loss: 0.0061 - lr: 0.0100\n",
            "Epoch 125/200\n",
            "18/18 [==============================] - 20s 1s/step - loss: 0.0061 - lr: 0.0100\n",
            "Epoch 126/200\n",
            "18/18 [==============================] - 20s 1s/step - loss: 0.0061 - lr: 0.0100\n",
            "Epoch 127/200\n",
            "18/18 [==============================] - 20s 1s/step - loss: 0.0064 - lr: 0.0100\n",
            "Epoch 128/200\n",
            "18/18 [==============================] - 20s 1s/step - loss: 0.0064 - lr: 0.0100\n",
            "Epoch 129/200\n",
            "18/18 [==============================] - 20s 1s/step - loss: 0.0066 - lr: 0.0100\n",
            "Epoch 130/200\n",
            "18/18 [==============================] - 20s 1s/step - loss: 0.0062 - lr: 0.0100\n",
            "Epoch 131/200\n",
            "18/18 [==============================] - 20s 1s/step - loss: 0.0061 - lr: 0.0100\n",
            "Epoch 132/200\n",
            "18/18 [==============================] - 20s 1s/step - loss: 0.0061 - lr: 0.0100\n",
            "Epoch 133/200\n",
            "18/18 [==============================] - 20s 1s/step - loss: 0.0061 - lr: 0.0100\n",
            "Epoch 134/200\n",
            "18/18 [==============================] - 20s 1s/step - loss: 0.0060 - lr: 0.0100\n",
            "Epoch 135/200\n",
            "18/18 [==============================] - 20s 1s/step - loss: 0.0060 - lr: 0.0100\n",
            "Epoch 136/200\n",
            "18/18 [==============================] - 20s 1s/step - loss: 0.0059 - lr: 0.0100\n",
            "Epoch 137/200\n",
            "18/18 [==============================] - 20s 1s/step - loss: 0.0058 - lr: 0.0100\n",
            "Epoch 138/200\n",
            "18/18 [==============================] - 20s 1s/step - loss: 0.0058 - lr: 0.0100\n",
            "Epoch 139/200\n",
            "18/18 [==============================] - 20s 1s/step - loss: 0.0059 - lr: 0.0100\n",
            "Epoch 140/200\n",
            "18/18 [==============================] - 20s 1s/step - loss: 0.0059 - lr: 0.0100\n",
            "Epoch 141/200\n",
            "18/18 [==============================] - 20s 1s/step - loss: 0.0058 - lr: 0.0100\n",
            "Epoch 142/200\n",
            "18/18 [==============================] - 20s 1s/step - loss: 0.0060 - lr: 0.0100\n",
            "Epoch 143/200\n",
            "18/18 [==============================] - 20s 1s/step - loss: 0.0060 - lr: 0.0100\n",
            "Epoch 144/200\n",
            "18/18 [==============================] - 20s 1s/step - loss: 0.0059 - lr: 0.0100\n",
            "Epoch 145/200\n",
            "18/18 [==============================] - 20s 1s/step - loss: 0.0059 - lr: 0.0100\n",
            "Epoch 146/200\n",
            "18/18 [==============================] - 20s 1s/step - loss: 0.0059 - lr: 0.0100\n",
            "Epoch 147/200\n",
            "18/18 [==============================] - 20s 1s/step - loss: 0.0058 - lr: 0.0100\n",
            "Epoch 148/200\n",
            "18/18 [==============================] - 20s 1s/step - loss: 0.0057 - lr: 0.0100\n",
            "Epoch 149/200\n",
            "18/18 [==============================] - 20s 1s/step - loss: 0.0056 - lr: 0.0100\n",
            "Epoch 150/200\n",
            "18/18 [==============================] - 20s 1s/step - loss: 0.0057 - lr: 0.0100\n",
            "Epoch 151/200\n",
            "18/18 [==============================] - 20s 1s/step - loss: 0.0056 - lr: 0.0100\n",
            "Epoch 152/200\n",
            "18/18 [==============================] - 20s 1s/step - loss: 0.0056 - lr: 0.0100\n",
            "Epoch 153/200\n",
            "18/18 [==============================] - 20s 1s/step - loss: 0.0056 - lr: 0.0100\n",
            "Epoch 154/200\n",
            "18/18 [==============================] - 20s 1s/step - loss: 0.0056 - lr: 0.0100\n",
            "Epoch 155/200\n",
            "18/18 [==============================] - 20s 1s/step - loss: 0.0056 - lr: 0.0100\n",
            "Epoch 156/200\n",
            "18/18 [==============================] - 20s 1s/step - loss: 0.0056 - lr: 0.0100\n",
            "Epoch 157/200\n",
            "18/18 [==============================] - 20s 1s/step - loss: 0.0056 - lr: 0.0100\n",
            "Epoch 158/200\n",
            "18/18 [==============================] - 20s 1s/step - loss: 0.0056 - lr: 0.0100\n",
            "Epoch 159/200\n",
            "18/18 [==============================] - 20s 1s/step - loss: 0.0055 - lr: 0.0100\n",
            "Epoch 160/200\n",
            "18/18 [==============================] - 20s 1s/step - loss: 0.0055 - lr: 0.0100\n",
            "Epoch 161/200\n",
            "18/18 [==============================] - 20s 1s/step - loss: 0.0056 - lr: 0.0100\n",
            "Epoch 162/200\n",
            "18/18 [==============================] - 20s 1s/step - loss: 0.0057 - lr: 0.0100\n",
            "Epoch 163/200\n",
            "18/18 [==============================] - 20s 1s/step - loss: 0.0056 - lr: 0.0100\n",
            "Epoch 164/200\n",
            "18/18 [==============================] - 20s 1s/step - loss: 0.0056 - lr: 0.0100\n",
            "Epoch 165/200\n",
            "18/18 [==============================] - 20s 1s/step - loss: 0.0055 - lr: 0.0100\n",
            "Epoch 166/200\n",
            "18/18 [==============================] - 20s 1s/step - loss: 0.0055 - lr: 0.0100\n",
            "Epoch 167/200\n",
            "18/18 [==============================] - 20s 1s/step - loss: 0.0056 - lr: 0.0100\n",
            "Epoch 168/200\n",
            "18/18 [==============================] - 20s 1s/step - loss: 0.0055 - lr: 0.0100\n",
            "Epoch 169/200\n",
            "18/18 [==============================] - 20s 1s/step - loss: 0.0053 - lr: 0.0100\n",
            "Epoch 170/200\n",
            "18/18 [==============================] - 20s 1s/step - loss: 0.0053 - lr: 0.0100\n",
            "Epoch 171/200\n",
            "18/18 [==============================] - 20s 1s/step - loss: 0.0053 - lr: 0.0100\n",
            "Epoch 172/200\n",
            "18/18 [==============================] - 20s 1s/step - loss: 0.0053 - lr: 0.0100\n",
            "Epoch 173/200\n",
            "18/18 [==============================] - 20s 1s/step - loss: 0.0052 - lr: 0.0100\n",
            "Epoch 174/200\n",
            "18/18 [==============================] - 20s 1s/step - loss: 0.0053 - lr: 0.0100\n",
            "Epoch 175/200\n",
            "18/18 [==============================] - 20s 1s/step - loss: 0.0053 - lr: 0.0100\n",
            "Epoch 176/200\n",
            "18/18 [==============================] - 20s 1s/step - loss: 0.0052 - lr: 0.0100\n",
            "Epoch 177/200\n",
            "18/18 [==============================] - 20s 1s/step - loss: 0.0052 - lr: 0.0100\n",
            "Epoch 178/200\n",
            "18/18 [==============================] - 20s 1s/step - loss: 0.0056 - lr: 0.0100\n",
            "Epoch 179/200\n",
            "18/18 [==============================] - 20s 1s/step - loss: 0.0057 - lr: 0.0100\n",
            "Epoch 180/200\n",
            "18/18 [==============================] - 20s 1s/step - loss: 0.0054 - lr: 0.0100\n",
            "Epoch 181/200\n",
            "18/18 [==============================] - 20s 1s/step - loss: 0.0052 - lr: 0.0100\n",
            "Epoch 182/200\n",
            "18/18 [==============================] - 20s 1s/step - loss: 0.0052 - lr: 0.0100\n",
            "Epoch 183/200\n",
            "18/18 [==============================] - 20s 1s/step - loss: 0.0051 - lr: 0.0100\n",
            "Epoch 184/200\n",
            "18/18 [==============================] - 20s 1s/step - loss: 0.0051 - lr: 0.0100\n",
            "Epoch 185/200\n",
            "18/18 [==============================] - 20s 1s/step - loss: 0.0051 - lr: 0.0100\n",
            "Epoch 186/200\n",
            "18/18 [==============================] - 20s 1s/step - loss: 0.0053 - lr: 0.0100\n",
            "Epoch 187/200\n",
            "18/18 [==============================] - 20s 1s/step - loss: 0.0052 - lr: 0.0100\n",
            "Epoch 188/200\n",
            "18/18 [==============================] - 20s 1s/step - loss: 0.0051 - lr: 0.0100\n",
            "Epoch 189/200\n",
            "18/18 [==============================] - 20s 1s/step - loss: 0.0051 - lr: 0.0100\n",
            "Epoch 190/200\n",
            "18/18 [==============================] - 20s 1s/step - loss: 0.0052 - lr: 0.0100\n",
            "Epoch 191/200\n",
            "18/18 [==============================] - 20s 1s/step - loss: 0.0053 - lr: 0.0100\n",
            "Epoch 192/200\n",
            "18/18 [==============================] - 20s 1s/step - loss: 0.0052 - lr: 0.0100\n",
            "Epoch 193/200\n",
            "18/18 [==============================] - 20s 1s/step - loss: 0.0051 - lr: 0.0100\n",
            "Epoch 194/200\n",
            "18/18 [==============================] - 20s 1s/step - loss: 0.0050 - lr: 0.0100\n",
            "Epoch 195/200\n",
            "18/18 [==============================] - 20s 1s/step - loss: 0.0049 - lr: 0.0100\n",
            "Epoch 196/200\n",
            "18/18 [==============================] - 20s 1s/step - loss: 0.0049 - lr: 0.0100\n",
            "Epoch 197/200\n",
            "18/18 [==============================] - 20s 1s/step - loss: 0.0051 - lr: 0.0100\n",
            "Epoch 198/200\n",
            "18/18 [==============================] - 20s 1s/step - loss: 0.0053 - lr: 0.0100\n",
            "Epoch 199/200\n",
            "18/18 [==============================] - 20s 1s/step - loss: 0.0051 - lr: 0.0100\n",
            "Epoch 200/200\n",
            "18/18 [==============================] - 20s 1s/step - loss: 0.0050 - lr: 0.0100\n"
          ],
          "name": "stdout"
        },
        {
          "output_type": "execute_result",
          "data": {
            "text/plain": [
              "<tensorflow.python.keras.callbacks.History at 0x7fd0c2ede6a0>"
            ]
          },
          "metadata": {
            "tags": []
          },
          "execution_count": 16
        }
      ]
    },
    {
      "cell_type": "code",
      "metadata": {
        "id": "xNovMTrHRGDu",
        "colab_type": "code",
        "colab": {}
      },
      "source": [
        "model.save('gdrive/My Drive/Spitter_VTB/my_model.h5')"
      ],
      "execution_count": 0,
      "outputs": []
    },
    {
      "cell_type": "code",
      "metadata": {
        "id": "UV4pca0yS8ez",
        "colab_type": "code",
        "colab": {}
      },
      "source": [
        "# X_total = load_data_array_from_npy(f\"gdrive/My Drive/Free_RAM_VAST/mixed_mag_list.npy\")[-100:]\n",
        "# y_total = load_data_array_from_npy(f\"gdrive/My Drive/Free_RAM_VAST/target_mag_list.npy\")[-100:]\n",
        "# corresponding_phase = load_data_array_from_npy(f\"gdrive/My Drive/Free_RAM_VAST/mixed_phase_list.npy\")[-100:]\n",
        "# X_total.shape"
      ],
      "execution_count": 0,
      "outputs": []
    },
    {
      "cell_type": "code",
      "metadata": {
        "id": "8cI9BlkkRVxb",
        "colab_type": "code",
        "colab": {}
      },
      "source": [
        "test_model = tf.keras.models.load_model('gdrive/My Drive/Spitter_VTB/my_model.h5')"
      ],
      "execution_count": 0,
      "outputs": []
    },
    {
      "cell_type": "code",
      "metadata": {
        "id": "NeA3E7vq3DpG",
        "colab_type": "code",
        "colab": {}
      },
      "source": [
        "# epoch_num = 50\n",
        "# total_file_length = 67\n",
        "# iterations = epoch_num * total_file_length\n",
        "\n",
        "# with trange(iterations) as t:\n",
        "#   for iteration in t:\n",
        "#     i = iteration % total_file_length\n",
        "#     epoch_num = iteration//total_file_length\n",
        "\n",
        "#     X = X_total[i]\n",
        "#     y = y_total[i]\n",
        "#     loss = model.train_on_batch(X[:256, :, :], y[:256, :, :])\n",
        "#     loss = model.train_on_batch(X[256:, :, :], y[256:, :, :])\n",
        "#     t.set_description('epo %i [loss: %f]' % (epoch_num, loss))"
      ],
      "execution_count": 0,
      "outputs": []
    },
    {
      "cell_type": "code",
      "metadata": {
        "id": "Y4AZ3NNTg93Z",
        "colab_type": "code",
        "colab": {}
      },
      "source": [
        "test_res = test_model.predict(X_train)"
      ],
      "execution_count": 0,
      "outputs": []
    },
    {
      "cell_type": "code",
      "metadata": {
        "id": "bxCsPd1mhL88",
        "colab_type": "code",
        "colab": {
          "base_uri": "https://localhost:8080/",
          "height": 35
        },
        "outputId": "0af9239c-e1c3-416b-fd52-40d6507656dc"
      },
      "source": [
        "test_res.shape"
      ],
      "execution_count": 37,
      "outputs": [
        {
          "output_type": "execute_result",
          "data": {
            "text/plain": [
              "(9000, 51, 601)"
            ]
          },
          "metadata": {
            "tags": []
          },
          "execution_count": 37
        }
      ]
    },
    {
      "cell_type": "code",
      "metadata": {
        "id": "bnlhIWbDV9Tq",
        "colab_type": "code",
        "colab": {}
      },
      "source": [
        "def reconstruct_wav(mag, phase, plt_name):\n",
        "  resulted_wav = audio.spec2wav(mag, phase)\n",
        "  plt.plot(resulted_wav, color = 'orange', label='resulted_wav')\n",
        "  plt.title(plt_name)\n",
        "  plt.show()\n",
        "  IPython.display.display(IPython.display.Audio(np.asarray(resulted_wav).T, rate=8000))"
      ],
      "execution_count": 0,
      "outputs": []
    },
    {
      "cell_type": "code",
      "metadata": {
        "id": "ABPs_QfFhZVF",
        "colab_type": "code",
        "colab": {
          "base_uri": "https://localhost:8080/",
          "height": 982
        },
        "outputId": "9e113294-262a-4e62-d7a5-dfa7702e8a52"
      },
      "source": [
        "for i in range(1):\n",
        "  i = 20\n",
        "  reconstruct_wav(X_train[i], y_phase[i], \"Mixed voice\")\n",
        "  reconstruct_wav(y_train[i], y_phase[i], \"ground truth\")\n",
        "  reconstruct_wav(test_res[i], y_phase[i], \"prediction\")"
      ],
      "execution_count": 41,
      "outputs": [
        {
          "output_type": "display_data",
          "data": {
            "image/png": "[encoded data removed]",
            "text/plain": [
              "<Figure size 432x288 with 1 Axes>"
            ]
          },
          "metadata": {
            "tags": [],
            "needs_background": "light"
          }
        },
        {
          "output_type": "display_data",
          "data": {
            "text/html": [
              "\n",
              "                <audio controls=\"controls\" >\n",
              "                    <source src=\"data:audio/wav;base64,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\" type=\"audio/wav\" />\n",
              "                    Your browser does not support the audio element.\n",
              "                </audio>\n",
              "              "
            ],
            "text/plain": [
              "<IPython.lib.display.Audio object>"
            ]
          },
          "metadata": {
            "tags": []
          }
        },
        {
          "output_type": "display_data",
          "data": {
            "image/png": "[encoded data removed]",
            "text/plain": [
              "<Figure size 432x288 with 1 Axes>"
            ]
          },
          "metadata": {
            "tags": [],
            "needs_background": "light"
          }
        },
        {
          "output_type": "display_data",
          "data": {
            "text/html": [
              "\n",
              "                <audio controls=\"controls\" >\n",
              "                    <source src=\"data:audio/wav;base64,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\" type=\"audio/wav\" />\n",
              "                    Your browser does not support the audio element.\n",
              "                </audio>\n",
              "              "
            ],
            "text/plain": [
              "<IPython.lib.display.Audio object>"
            ]
          },
          "metadata": {
            "tags": []
          }
        },
        {
          "output_type": "display_data",
          "data": {
            "image/png": "[encoded data removed]",
            "text/plain": [
              "<Figure size 432x288 with 1 Axes>"
            ]
          },
          "metadata": {
            "tags": [],
            "needs_background": "light"
          }
        },
        {
          "output_type": "display_data",
          "data": {
            "text/html": [
              "\n",
              "                <audio controls=\"controls\" >\n",
              "                    <source src=\"data:audio/wav;base64,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\" type=\"audio/wav\" />\n",
              "                    Your browser does not support the audio element.\n",
              "                </audio>\n",
              "              "
            ],
            "text/plain": [
              "<IPython.lib.display.Audio object>"
            ]
          },
          "metadata": {
            "tags": []
          }
        }
      ]
    }
  ]
}